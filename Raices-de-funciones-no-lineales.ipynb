{
  "metadata": {
    "language_info": {
      "codemirror_mode": {
        "name": "python",
        "version": 3
      },
      "file_extension": ".py",
      "mimetype": "text/x-python",
      "name": "python",
      "nbconvert_exporter": "python",
      "pygments_lexer": "ipython3",
      "version": "3.8"
    },
    "kernelspec": {
      "name": "python",
      "display_name": "Pyolite",
      "language": "python"
    }
  },
  "nbformat_minor": 4,
  "nbformat": 4,
  "cells": [
    {
      "cell_type": "markdown",
      "source": "# Raices de funciones no lineales",
      "metadata": {}
    },
    {
      "cell_type": "markdown",
      "source": "## 1. Método de Ridder",
      "metadata": {}
    },
    {
      "cell_type": "markdown",
      "source": "El método de Ridder es funcional para encontrar raices de funciones no lineales. Este se apoya en métodos conocidos y de fácil compresión como Bisección y Regula Falsi. Utiliza Bisección para realizar una primera aproximación a la raíz en $f(x)$ denominando a ese valor como $x_3$ el cual será de utilidad para encontrar una función $g(x) = f(x)e^{hQ}$. Definiendo los puntos $(x_1, g(x_1)) = a$, $(x_2, g(x_2)) = b$ y $(x_3, g(x_3)) = c$ y la recta $R \\in g(x)$. Se debe cumplir entonces:\n\n* $a, b, c \\in R$\n* $g(x_3) = \\frac{g(x_1) + g(x_2)}{2}$\n\nAnalizando a partir de las condiciones anteriores, la función $g(x)$ cumple lo siguiente: \n\\begin{equation}\n    g(x_1) = f(x_1)e^{0.Q}\n    \\label{g(x_1)}\n\\end{equation}\n\\begin{equation}\n    g(x_2) = f(x_2)e^{2h.Q}\n    \\label{g(x_2)}\n\\end{equation}\n\\begin{equation}\n    g(x_3) = f(x_3)e^{h.Q}\n    \\label{g(x_3)}\n\\end{equation}\n\n\nYa que la función $g(x)$ muestra una tendencia lineal en el intérvalo $[x_1, x_2]$ y dentro de este intérvalo existe una raíz real que se aproxima a la que buscamos en $f(x)$ se procede a aplicar Regula Falsi en $g(x)$ para encontrar un valor $x_4$ de la siguiente manera: \n\n\\begin{equation}\n    x_4 = x_3 - \\frac{g(x_3)(x_3 - x_1)}{g(x_3) - g(x_1)}\n    \\label{root}\n\\end{equation}\n\nSustituyendo las expresiones para que quede en función de $f(x)$\n\n\\begin{equation}\n    x_4 = x_3 \\pm (x_3 - x_1) \\frac{f(x_3)}{\\sqrt{f^2(x_3) - f(x_1)f(x_2)}}\n    \\label{root2}\n\\end{equation}\n\n",
      "metadata": {}
    },
    {
      "cell_type": "markdown",
      "source": "#### Definimos la función y el intérvalo inicial:",
      "metadata": {}
    },
    {
      "cell_type": "code",
      "source": "import math\nimport pandas as pd\nimport os as os\n\na = 0\nb = math.pi\nf = lambda x: 0.5 - math.cos(x)\nTOL = 1e-9\ntable = {\"n\":[],\n        \"a\":[],\n        \"b\":[],\n        \"f(a)\":[],\n        \"f(b)\":[],\n        \"c\":[],\n        \"f(c)\":[],\n        \"f(a)-f(b)\":[],\n        \"d\":[],\n        \"f(d)\":[],\n        \"ERROR\":[]}",
      "metadata": {
        "trusted": true
      },
      "execution_count": 63,
      "outputs": []
    },
    {
      "cell_type": "markdown",
      "source": "#### Función Ridder",
      "metadata": {}
    },
    {
      "cell_type": "code",
      "source": "def ridder (f, a, b, TOL):\n    c = 0.5 * (a + b)\n    oldRoot = c\n    n = 1\n    \n    while True:\n        # Realizando iteración del método\n        c = 0.5 * (a + b)\n        if f(a) - f(b) > 0:\n            d = c+(c-a)*f(c)/math.sqrt(f(c)**2-f(a)*f(b))\n        else:\n            d = c-(c-a)*f(c)/math.sqrt(f(c)**2-f(a)*f(b))\n        \n        # Guardando datos de cada iteración en una tabla\n        table[\"n\"].append(n)\n        table[\"a\"].append(a)\n        table[\"b\"].append(b)\n        table[\"f(a)\"].append(f(a))\n        table[\"f(b)\"].append(f(b))\n        table[\"c\"].append(c)\n        table[\"f(c)\"].append(f(c))\n        table[\"f(a)-f(b)\"].append(f(a)-f(b))\n        table[\"d\"].append(d)\n        table[\"f(d)\"].append(f(d))\n        table[\"ERROR\"].append(abs(oldRoot-d))\n              \n        # Encontrando el nuevo intérvalo\n        if f(c) * f(d) <= 0:\n            if c < d: \n                a = c\n                b = d\n            else:\n                a = d\n                b = c\n        else:\n            if f(b) * f(d) < 0:\n                a = d\n            else: \n                b = d\n        \n        # Evaluando error\n        if abs(oldRoot - d) < TOL:\n            break\n        oldRoot = d\n        n+=1\n        \n            \n    return d",
      "metadata": {
        "trusted": true
      },
      "execution_count": 65,
      "outputs": []
    },
    {
      "cell_type": "markdown",
      "source": "Al terner ya definido el intérvalo y la función a utilizar solamente queda como último paso el llamar la función ridder con los parámetros necesarios, en este caso: f, a, b, TOL",
      "metadata": {}
    },
    {
      "cell_type": "code",
      "source": "ridder(f, a, b, TOL)\n",
      "metadata": {
        "trusted": true
      },
      "execution_count": 66,
      "outputs": [
        {
          "execution_count": 66,
          "output_type": "execute_result",
          "data": {
            "text/plain": "1.0471975511965979"
          },
          "metadata": {}
        }
      ]
    },
    {
      "cell_type": "markdown",
      "source": "Si deseamos ver los valores que se obtienen con cada iteración entonces lo podemos visualizar con el siguiente código:",
      "metadata": {}
    },
    {
      "cell_type": "code",
      "source": "df = pd.DataFrame(table)\ndisplay(df)",
      "metadata": {
        "trusted": true
      },
      "execution_count": 67,
      "outputs": [
        {
          "output_type": "display_data",
          "data": {
            "text/plain": "   n         a         b          f(a)      f(b)         c      f(c)  \\\n0  1  0.000000  3.141593 -5.000000e-01  1.500000  1.570796  0.500000   \n1  2  0.785398  1.570796 -2.071068e-01  0.500000  1.178097  0.117317   \n2  3  1.043592  1.178097 -3.119333e-03  0.117317  1.110845  0.056095   \n3  4  1.047191  1.110845 -5.266679e-06  0.056095  1.079018  0.027806   \n4  5  1.047198  1.079018 -2.190126e-09  0.027806  1.063108  0.013841   \n5  6  1.047198  1.063108 -2.293721e-13  0.013841  1.055153  0.006905   \n\n   f(a)-f(b)         d          f(d)         ERROR  \n0  -2.000000  0.785398 -2.071068e-01  7.853982e-01  \n1  -0.707107  1.043592 -3.119333e-03  2.581937e-01  \n2  -0.120436  1.047191 -5.266679e-06  3.599575e-03  \n3  -0.056100  1.047198 -2.190126e-09  6.078919e-06  \n4  -0.027806  1.047198 -2.293721e-13  2.528675e-09  \n5  -0.013841  1.047198  1.110223e-16  2.648992e-13  ",
            "text/html": "<div>\n<style scoped>\n    .dataframe tbody tr th:only-of-type {\n        vertical-align: middle;\n    }\n\n    .dataframe tbody tr th {\n        vertical-align: top;\n    }\n\n    .dataframe thead th {\n        text-align: right;\n    }\n</style>\n<table border=\"1\" class=\"dataframe\">\n  <thead>\n    <tr style=\"text-align: right;\">\n      <th></th>\n      <th>n</th>\n      <th>a</th>\n      <th>b</th>\n      <th>f(a)</th>\n      <th>f(b)</th>\n      <th>c</th>\n      <th>f(c)</th>\n      <th>f(a)-f(b)</th>\n      <th>d</th>\n      <th>f(d)</th>\n      <th>ERROR</th>\n    </tr>\n  </thead>\n  <tbody>\n    <tr>\n      <th>0</th>\n      <td>1</td>\n      <td>0.000000</td>\n      <td>3.141593</td>\n      <td>-5.000000e-01</td>\n      <td>1.500000</td>\n      <td>1.570796</td>\n      <td>0.500000</td>\n      <td>-2.000000</td>\n      <td>0.785398</td>\n      <td>-2.071068e-01</td>\n      <td>7.853982e-01</td>\n    </tr>\n    <tr>\n      <th>1</th>\n      <td>2</td>\n      <td>0.785398</td>\n      <td>1.570796</td>\n      <td>-2.071068e-01</td>\n      <td>0.500000</td>\n      <td>1.178097</td>\n      <td>0.117317</td>\n      <td>-0.707107</td>\n      <td>1.043592</td>\n      <td>-3.119333e-03</td>\n      <td>2.581937e-01</td>\n    </tr>\n    <tr>\n      <th>2</th>\n      <td>3</td>\n      <td>1.043592</td>\n      <td>1.178097</td>\n      <td>-3.119333e-03</td>\n      <td>0.117317</td>\n      <td>1.110845</td>\n      <td>0.056095</td>\n      <td>-0.120436</td>\n      <td>1.047191</td>\n      <td>-5.266679e-06</td>\n      <td>3.599575e-03</td>\n    </tr>\n    <tr>\n      <th>3</th>\n      <td>4</td>\n      <td>1.047191</td>\n      <td>1.110845</td>\n      <td>-5.266679e-06</td>\n      <td>0.056095</td>\n      <td>1.079018</td>\n      <td>0.027806</td>\n      <td>-0.056100</td>\n      <td>1.047198</td>\n      <td>-2.190126e-09</td>\n      <td>6.078919e-06</td>\n    </tr>\n    <tr>\n      <th>4</th>\n      <td>5</td>\n      <td>1.047198</td>\n      <td>1.079018</td>\n      <td>-2.190126e-09</td>\n      <td>0.027806</td>\n      <td>1.063108</td>\n      <td>0.013841</td>\n      <td>-0.027806</td>\n      <td>1.047198</td>\n      <td>-2.293721e-13</td>\n      <td>2.528675e-09</td>\n    </tr>\n    <tr>\n      <th>5</th>\n      <td>6</td>\n      <td>1.047198</td>\n      <td>1.063108</td>\n      <td>-2.293721e-13</td>\n      <td>0.013841</td>\n      <td>1.055153</td>\n      <td>0.006905</td>\n      <td>-0.013841</td>\n      <td>1.047198</td>\n      <td>1.110223e-16</td>\n      <td>2.648992e-13</td>\n    </tr>\n  </tbody>\n</table>\n</div>"
          },
          "metadata": {}
        }
      ]
    },
    {
      "cell_type": "code",
      "source": "",
      "metadata": {},
      "execution_count": null,
      "outputs": []
    }
  ]
}