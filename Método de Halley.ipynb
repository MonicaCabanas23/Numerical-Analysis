{
 "cells": [
  {
   "cell_type": "markdown",
   "id": "9fb4014f",
   "metadata": {},
   "source": [
    "# 2. Método de Halley\n",
    "\n",
    "El método de Halley es funcional para encontrar raíces de funciones no lineales. este es un algoritmo para encontrar un cero de una función utilizada cuando la función sea de variable real posible de derivar 2 veces, siendo su segunda derivada continua. también podemos considerar que este método solo es una generalización del método de newton, con convergencia cúbica.\n",
    "\n",
    "### Deducción del método\n",
    "\n",
    "Como lo hemos presentado con anterioridad este método viene generalizado por el método de newton así que partiremos con su aplicación a la función.\n",
    "\n",
    "$$g = \\frac{f}{\\sqrt{f'}}$$\n",
    "asi es que $$x_{n+1} = x_{n} \\frac{g(x)}{\\sqrt{g'(x)}}$$\n",
    "con $$g'(x) = \\frac{2[f'(x)]^2 - f(x)f''(x)}{\\sqrt{2f'(x)\\sqrt{f'(x)}}}$$\n",
    "\n",
    "\n",
    "y dado esto es que se estima que sí $f'(c) = 0$ se aplicara solo si g puede extenderse a c.\n",
    "\n",
    "presentamos la ecuación general de Halley para el desarrollo de todo nuestro trabajo:\n",
    "\n",
    "$$x_{n+1} = x_{n} -\\frac{2f(x_{n})f'(x_{n})}{2f'(x_{n})^2-f(x_{n})f''(x_{n})}$$"
   ]
  },
  {
   "cell_type": "markdown",
   "id": "14ef819d",
   "metadata": {},
   "source": [
    "<font color=\"green\"> Ahora bien, para comprender el método nos ayudaremos del siguiente ejemplo práctico.</font>\n",
    "\n",
    "### Ejemplo Practico 1 \n",
    "Encontrar mediante el método de Halley la raíz de la función $f(x)=1/2-cos(x)$ con una tolerancia de $1x10^-9$ para el error absoluto, tal que $x \\in [0,\\pi]$ definimos la función y el intervalo inicial."
   ]
  },
  {
   "cell_type": "code",
   "execution_count": 2,
   "id": "d929744e",
   "metadata": {},
   "outputs": [],
   "source": [
    "# importar todas las funciones de pylab\n",
    "from pylab import *\n",
    "\n",
    "# importar el módulo pyplot\n",
    "import matplotlib.pyplot as plt"
   ]
  },
  {
   "cell_type": "code",
   "execution_count": 3,
   "id": "38b0e587",
   "metadata": {},
   "outputs": [
    {
     "data": {
      "image/png": "[encoded data removed]",
      "text/plain": [
       "<Figure size 432x288 with 1 Axes>"
      ]
     },
     "metadata": {
      "needs_background": "light"
     },
     "output_type": "display_data"
    }
   ],
   "source": [
    "from math import *\n",
    "from numpy import *\n",
    "\n",
    "t = arange(0.1, 20, 0.1)\n",
    "\n",
    "y1 = 1/2-cos(t)\n",
    "p1 = plot(t, y1)\n",
    "\n",
    "# Texto en la gráfica en coordenadas (x,y)\n",
    "texto1 = text(8, -0.25, r'$\\frac{1}{2}-cos(x)$', fontsize=12)\n",
    "# Añado una malla al gráfico\n",
    "grid()\n",
    "\n",
    "title('Representacion de funciones')\n",
    "xlabel('x')\n",
    "ylabel('y')\n",
    "show()"
   ]
  },
  {
   "cell_type": "markdown",
   "id": "76f794ff",
   "metadata": {},
   "source": [
    "## 2.2. Algoritmo del método de Halley\n",
    "A continuación, presentaremos el algoritmo o código del método de Halley para luego continuar a sacar su convergencia y otras definiciones para concluir con dicho método.\n",
    "\n",
    "haremos uso de la formula general de Halley:\n",
    "\n",
    "$$x_{n+1} = x_{n} -\\frac{2f(x_{n})f'(x_{n})}{2f'(x_{n})^2-f(x_{n})f''(x_{n})}$$"
   ]
  },
  {
   "cell_type": "markdown",
   "id": "3cbbf52d",
   "metadata": {},
   "source": [
    "Ahora bien, importemos la librerías que no servirán para el desarrollo de nuestro algoritmo"
   ]
  },
  {
   "cell_type": "code",
   "execution_count": 4,
   "id": "190981ec",
   "metadata": {},
   "outputs": [
    {
     "name": "stdout",
     "output_type": "stream",
     "text": [
      "Requirement already satisfied: tabulate in c:\\users\\lisbe\\appdata\\local\\programs\\python\\python310\\lib\\site-packages (0.8.9)\n",
      "Note: you may need to restart the kernel to use updated packages.\n"
     ]
    }
   ],
   "source": [
    "pip install tabulate"
   ]
  },
  {
   "cell_type": "code",
   "execution_count": 5,
   "id": "d684f10f",
   "metadata": {},
   "outputs": [],
   "source": [
    "from tabulate import tabulate"
   ]
  },
  {
   "cell_type": "code",
   "execution_count": 6,
   "id": "6a500837",
   "metadata": {},
   "outputs": [],
   "source": [
    "import math\n",
    "from math import exp, sqrt, sin, cos, pi"
   ]
  },
  {
   "cell_type": "markdown",
   "id": "b69cadf1",
   "metadata": {},
   "source": [
    "Definamos nuestra función con su primera y segunda derivada"
   ]
  },
  {
   "cell_type": "code",
   "execution_count": 7,
   "id": "8123c519",
   "metadata": {},
   "outputs": [],
   "source": [
    "#función del ejercicio \n",
    "def f(t):\n",
    "    return 1/2-cos(t)\n",
    "\n",
    "#primera derivada de la función\n",
    "\n",
    "def df(t):\n",
    "    return sin(t)\n",
    "\n",
    "#segunda derivada de la función\n",
    "\n",
    "def d2f(t):\n",
    "    return cos(t)"
   ]
  },
  {
   "cell_type": "code",
   "execution_count": 8,
   "id": "15bd5a70",
   "metadata": {},
   "outputs": [
    {
     "data": {
      "text/plain": [
       "-0.5"
      ]
     },
     "execution_count": 8,
     "metadata": {},
     "output_type": "execute_result"
    }
   ],
   "source": [
    "f(0)"
   ]
  },
  {
   "cell_type": "code",
   "execution_count": 9,
   "id": "3f7f173f",
   "metadata": {},
   "outputs": [
    {
     "data": {
      "text/plain": [
       "1.5"
      ]
     },
     "execution_count": 9,
     "metadata": {},
     "output_type": "execute_result"
    }
   ],
   "source": [
    "f(pi)"
   ]
  },
  {
   "cell_type": "code",
   "execution_count": 10,
   "id": "cf38f73f",
   "metadata": {},
   "outputs": [
    {
     "data": {
      "text/plain": [
       "0.49999999999999994"
      ]
     },
     "execution_count": 10,
     "metadata": {},
     "output_type": "execute_result"
    }
   ],
   "source": [
    "f(pi/2)"
   ]
  },
  {
   "cell_type": "markdown",
   "id": "c5bbe1d6",
   "metadata": {},
   "source": [
    "Definamos variables donde:\n",
    "- __iter:__ número de iteraciones máximas\n",
    "- __tol:__ tolerancia \n",
    "- __p0:__ valor inicial\n",
    "- __listahalley:__ lista para representar el número de iteraciones\n",
    "\n",
    "para __iter__ y __p0__ haremos uso de nuestro intervalo de $[0,\\pi]$"
   ]
  },
  {
   "cell_type": "code",
   "execution_count": 11,
   "id": "51cc04d6",
   "metadata": {},
   "outputs": [],
   "source": [
    "iter=pi\n",
    "tol=10**(-9)\n",
    "p0=0\n",
    "listahalley=[]"
   ]
  },
  {
   "cell_type": "markdown",
   "id": "7c0925bc",
   "metadata": {},
   "source": [
    "Presentando el logaritmo de Halley - para la realización del ejercicio anterior nos basaremos en presentar sus valores por medio de tabulaciones."
   ]
  },
  {
   "cell_type": "code",
   "execution_count": 12,
   "id": "6a86ba2e",
   "metadata": {},
   "outputs": [],
   "source": [
    "#algoritmo de halley\n",
    "def halley(f,p0):                         #definiendo la función halley\n",
    "    p=p0                                 #sobredefiniendo p0\n",
    "    lista=[]                             #definiendo lista simple\n",
    "    pp=\"-\"                              \n",
    "    error=\"-\"\n",
    "    for i in [*range(0, int(float(iter)))]:   #ciclo for para tomar encuenta el intervalo [0,pi]\n",
    "        lista.append([i,p,f(p),df(p),error]) \n",
    "        listahalley.append(p)\n",
    "        pp=p\n",
    "        p=p-2*f(p)*df(p)/2*df(p)**2-f(p)*d2f(p) #formula de halley\n",
    "        errorA=abs(p-pp)                        #encontrar el error de halley\n",
    "        if p!=0:                                #iteraciones hasta encontrar 0\n",
    "            errorB=abs(p-pp)/p\n",
    "        errorC=abs(f(p))\n",
    "        error=errorA\n",
    "        if error<tol:                          #parar hasta que error sea menor que la tolerancia\n",
    "            break                                 \n",
    "    print(tabulate(lista,headers=[\"n\",\"pn\",\"f(pn)\",\"f'(pn)\",\"error\"],tablefmt='fancy_grid')) #imprimiendo resultados en tabulaciones\n",
    "    return p"
   ]
  },
  {
   "cell_type": "markdown",
   "id": "66387ae5",
   "metadata": {},
   "source": [
    "Ya teniendo el logaritmo de Halley procederemos a llamar la función para presentar los valores en tabulaciones. \n",
    "<font color=\"green\"> para ello solo necesitaremos la respectiva función halley con f = función y 0 = el valor inicial x0</font>"
   ]
  },
  {
   "cell_type": "code",
   "execution_count": 13,
   "id": "55cf93db",
   "metadata": {},
   "outputs": [
    {
     "name": "stdout",
     "output_type": "stream",
     "text": [
      "╒═════╤══════════╤═══════════╤══════════╤════════════════════╕\n",
      "│   n │       pn │     f(pn) │   f'(pn) │ error              │\n",
      "╞═════╪══════════╪═══════════╪══════════╪════════════════════╡\n",
      "│   0 │ 0        │ -0.5      │ 0        │ -                  │\n",
      "├─────┼──────────┼───────────┼──────────┼────────────────────┤\n",
      "│   1 │ 0.5      │ -0.377583 │ 0.479426 │ 0.5                │\n",
      "├─────┼──────────┼───────────┼──────────┼────────────────────┤\n",
      "│   2 │ 0.872968 │ -0.142555 │ 0.766239 │ 0.3729677361865782 │\n",
      "╘═════╧══════════╧═══════════╧══════════╧════════════════════╛\n"
     ]
    },
    {
     "data": {
      "text/plain": [
       "1.0286997633054566"
      ]
     },
     "execution_count": 13,
     "metadata": {},
     "output_type": "execute_result"
    }
   ],
   "source": [
    "halley(f,0)"
   ]
  },
  {
   "cell_type": "markdown",
   "id": "80a9442e",
   "metadata": {},
   "source": [
    "## 2.3. Análisis de convergencia \n",
    "como lo hemos demostrado en el trabajo anterior el método de Halley converge con un orden cúbico, por lo que podemos decir que, si lo comparamos con el método de newton que es su generalización, va a converger más ligero siendo más eficiente ya que el método de newton tiende a converger a un orden cuadrático.\n",
    "\n",
    "por tanto, vamos a derivar la fórmula 1 de Halley para encontrar su análisis de convergencia y también haremos lo mismo con el de newton para verificar que Halley converge más rápido\n",
    "\n",
    "al derivar la ecuación 1 de Halley tenemos:\n",
    "$$g'(x)=\\frac{d}{dx}(1-\\frac{2f'(x_{n})^22f'(x_{n})^2}{(2(f'(x_{n}))^2)^2}$$"
   ]
  },
  {
   "cell_type": "markdown",
   "id": "1826beb0",
   "metadata": {},
   "source": [
    "Análisis de convergencia para método de Halley"
   ]
  },
  {
   "cell_type": "code",
   "execution_count": 14,
   "id": "4a4e389a",
   "metadata": {},
   "outputs": [],
   "source": [
    "def g(t):\n",
    "    return abs(1-(2*f(t)**2*2*df(t)**2)/(2*(df(t))**2)**2)"
   ]
  },
  {
   "cell_type": "code",
   "execution_count": 15,
   "id": "e5ed692a",
   "metadata": {},
   "outputs": [
    {
     "data": {
      "text/plain": [
       "(0.3797289267985642, 0.34001871334141687, 0.8148067891242188)"
      ]
     },
     "execution_count": 15,
     "metadata": {},
     "output_type": "execute_result"
    }
   ],
   "source": [
    "g(-0.5), g(0.49), g(1.5)"
   ]
  },
  {
   "cell_type": "markdown",
   "id": "f1dc9c5c",
   "metadata": {},
   "source": [
    "Análisis de convergencia para método de Newton\n"
   ]
  },
  {
   "cell_type": "code",
   "execution_count": 16,
   "id": "d2e1ea68",
   "metadata": {},
   "outputs": [],
   "source": [
    "def g(t):\n",
    "    return abs((f(t)*d2f(t))/df(t)**2)"
   ]
  },
  {
   "cell_type": "code",
   "execution_count": 17,
   "id": "f3050e2b",
   "metadata": {},
   "outputs": [
    {
     "data": {
      "text/plain": [
       "(1.4416425238532342, 1.523079071475961, 0.03051755138368333)"
      ]
     },
     "execution_count": 17,
     "metadata": {},
     "output_type": "execute_result"
    }
   ],
   "source": [
    "g(-0.5), g(0.49), g(1.5)"
   ]
  },
  {
   "cell_type": "markdown",
   "id": "83af243b",
   "metadata": {},
   "source": [
    "Procederemos a graficar para ver su tendencia."
   ]
  },
  {
   "cell_type": "code",
   "execution_count": 18,
   "id": "5c8cbd98",
   "metadata": {},
   "outputs": [
    {
     "data": {
      "image/png": "[encoded data removed]",
      "text/plain": [
       "<Figure size 432x288 with 1 Axes>"
      ]
     },
     "metadata": {
      "needs_background": "light"
     },
     "output_type": "display_data"
    }
   ],
   "source": [
    "from math import *\n",
    "from numpy import *\n",
    "\n",
    "t = arange(3.1, 5, 0.1)\n",
    "\n",
    "y1 = 1/2-cos(t)*cos(t)/sin(t)                                       #formula derivada de Newton\n",
    "y2 = 1-(2*sin(t)**2*2*sin(t)**2)/(2*sin(t)**2)**2                   #formula derivada de Halley\n",
    "p1, p2 = plot(t, y1, t, y2)\n",
    "\n",
    "# Texto en la gráfica en coordenadas (x,y)\n",
    "texto1 = text(3.3, 10, r'$Newton$', fontsize=15, color='b')\n",
    "texto2 = text(4, -4, r'$Halley$', fontsize=16, color='orange')\n",
    "texto3 = text(5.1, -4, r'Por tanto podemos concluir que el método de Halley cuenta con una mejor rapidez ', fontsize=12)\n",
    "texto4 = text(5.1, -9, r' de orden de convergencia demostrando así que se estima más cerca de la raíz f(x)=0', fontsize=12)\n",
    "\n",
    "# Añado una malla al gráfico\n",
    "grid()\n",
    "\n",
    "title('Convergencia de Halley y Newton')\n",
    "xlabel('x')\n",
    "ylabel('y')\n",
    "show()"
   ]
  },
  {
   "cell_type": "markdown",
   "id": "aa8afca1",
   "metadata": {},
   "source": [
    "## 2.4. Análisis del error de Halley\n",
    "como cualquier otro método es importante hacer un bosquejo de los errores cometidos al fin de poder estimar un mejor valor, entonces continuaremos a evaluar el error del método de Halley.\n",
    "\n",
    "Continuamos a poner las librerías a usar se estima más cerca de la raíz\n"
   ]
  },
  {
   "cell_type": "code",
   "execution_count": 19,
   "id": "f68fb2f7",
   "metadata": {},
   "outputs": [],
   "source": [
    "from __future__ import division"
   ]
  },
  {
   "cell_type": "markdown",
   "id": "a958ba88",
   "metadata": {},
   "source": [
    "Primer punto comenzaremos a evaluar el error de forma general y así mismo vamos a ver la tendencia del error en una gráfica lineal.\n",
    "\n",
    "Importemos las librerías a utilizar.\n"
   ]
  },
  {
   "cell_type": "code",
   "execution_count": 20,
   "id": "9dd429b3",
   "metadata": {},
   "outputs": [],
   "source": [
    "%matplotlib inline\n",
    "from numpy import linspace\n",
    "import matplotlib.pyplot as plt\n",
    "import math\n",
    "from math import exp, sqrt, sin, cos, pi\n",
    "from matplotlib import pyplot as plt\n",
    "import numpy as np"
   ]
  },
  {
   "cell_type": "code",
   "execution_count": 21,
   "id": "55eaa85a",
   "metadata": {},
   "outputs": [
    {
     "name": "stdout",
     "output_type": "stream",
     "text": [
      "0.5\n",
      "0.8729677361865782\n",
      "1.0286997633054566\n"
     ]
    }
   ],
   "source": [
    "#algoritmo para encontrar el error\n",
    "lista=[]\n",
    "p0=0\n",
    "p=p0\n",
    "for i in [*range(0, int(float(pi)))]:                       #ciclo for para tomar encuenta el intervalo [0,pi]\n",
    "        p = p-2*f(p)*df(p)/2*df(p)**2-f(p)*d2f(p)           #formula general de Halley\n",
    "        lista.append(p)\n",
    "        print (p)"
   ]
  },
  {
   "cell_type": "code",
   "execution_count": 22,
   "id": "d069bdab",
   "metadata": {},
   "outputs": [
    {
     "data": {
      "image/png": "[encoded data removed]",
      "text/plain": [
       "<Figure size 432x288 with 1 Axes>"
      ]
     },
     "metadata": {
      "needs_background": "light"
     },
     "output_type": "display_data"
    }
   ],
   "source": [
    "#Graficando el error del método\n",
    "error=[]\n",
    "for i in [*range(0, int(float(pi)))]:\n",
    "    error.append(lista[i]-(-.2))\n",
    "fig = plt.figure()\n",
    "axes = fig.add_axes([0.1,0.1,0.8, 0.8])\n",
    "\n",
    "axes.plot(lista ,error, 'r')\n",
    "axes.set_xlabel('iter')\n",
    "axes.set_ylabel('error de la solucion')\n",
    "axes.set_title('Grafica del error')\n",
    "axes.grid('on')"
   ]
  },
  {
   "cell_type": "markdown",
   "id": "1c15ec9b",
   "metadata": {},
   "source": [
    "### Análisis del error del ejercicio práctico 1\n",
    "A continuación, presentaremos un análisis del error más detallado mejorando dicho error aproximándolo y así lograremos ver si el resultado está dentro del nivel aceptable\n",
    "definimos las variables a utilizar, donde:\n",
    "- iter : número de iteraciones máximas\n",
    "- p0: valor inicial\n"
   ]
  },
  {
   "cell_type": "code",
   "execution_count": 23,
   "id": "e099cf53",
   "metadata": {},
   "outputs": [],
   "source": [
    "iter=pi\n",
    "p0=0\n",
    "listahalley=[]"
   ]
  },
  {
   "cell_type": "code",
   "execution_count": 24,
   "id": "55f69b17",
   "metadata": {},
   "outputs": [],
   "source": [
    "#algoritmo para encontrar error de Halley\n",
    "def error(f,p0):\n",
    "    lista=[]\n",
    "    p0=0\n",
    "    p=p0\n",
    "    for i in [*range(0, int(float(iter)))]:\n",
    "        p = p-2*f(p)*df(p)/2*df(p)**2-f(p)*d2f(p)\n",
    "        lista.append(p)\n",
    "    print (p)"
   ]
  },
  {
   "cell_type": "code",
   "execution_count": 25,
   "id": "0b92be19",
   "metadata": {},
   "outputs": [
    {
     "name": "stdout",
     "output_type": "stream",
     "text": [
      "1.0286997633054566\n"
     ]
    }
   ],
   "source": [
    "error(f,0)"
   ]
  },
  {
   "cell_type": "markdown",
   "id": "865c8eb3",
   "metadata": {},
   "source": [
    "Ahora continuaremos a sacar los tipos de error que el método de Halley puede presentar:\n",
    "Como tenemos un proceso iterativo el error esta normalizado a un valor aproximado por tanto el error relativo porcentual $\\xi_{a}$ se define así:\n",
    "\n",
    "$$\\xi_{a}= \\frac{error aproximado*valor aproximado}{valor aproximado}*100%$$\n",
    "\n",
    "llamando al error aproximado y valor aproximado"
   ]
  },
  {
   "cell_type": "code",
   "execution_count": 26,
   "id": "c830de21",
   "metadata": {},
   "outputs": [
    {
     "name": "stdout",
     "output_type": "stream",
     "text": [
      "1.0286997633054566\n"
     ]
    }
   ],
   "source": [
    "error(f,0) #error aproximado"
   ]
  },
  {
   "cell_type": "code",
   "execution_count": 27,
   "id": "8d342f64",
   "metadata": {},
   "outputs": [
    {
     "name": "stdout",
     "output_type": "stream",
     "text": [
      "╒═════╤══════════╤═══════════╤══════════╤════════════════════╕\n",
      "│   n │       pn │     f(pn) │   f'(pn) │ error              │\n",
      "╞═════╪══════════╪═══════════╪══════════╪════════════════════╡\n",
      "│   0 │ 0        │ -0.5      │ 0        │ -                  │\n",
      "├─────┼──────────┼───────────┼──────────┼────────────────────┤\n",
      "│   1 │ 0.5      │ -0.377583 │ 0.479426 │ 0.5                │\n",
      "├─────┼──────────┼───────────┼──────────┼────────────────────┤\n",
      "│   2 │ 0.872968 │ -0.142555 │ 0.766239 │ 0.3729677361865782 │\n",
      "╘═════╧══════════╧═══════════╧══════════╧════════════════════╛\n"
     ]
    },
    {
     "data": {
      "text/plain": [
       "1.0286997633054566"
      ]
     },
     "execution_count": 27,
     "metadata": {},
     "output_type": "execute_result"
    }
   ],
   "source": [
    "halley(f,0) #valor aproximado"
   ]
  },
  {
   "cell_type": "code",
   "execution_count": 28,
   "id": "2670c9d9",
   "metadata": {},
   "outputs": [
    {
     "name": "stdout",
     "output_type": "stream",
     "text": [
      "el error porcentual es: 0.02869976330545665\n"
     ]
    }
   ],
   "source": [
    "#definamos variables\n",
    "erroraprox=1.0286997633054566\n",
    "valoraprox=1.0286997633054566\n",
    "f=g\n",
    "\n",
    "g=abs((erroraprox-valoraprox/valoraprox)*1)\n",
    "print(\"el error porcentual es:\", g)\n"
   ]
  },
  {
   "cell_type": "markdown",
   "id": "7cb09f73",
   "metadata": {},
   "source": [
    "Ahora bien, nos importa que el valor absoluto porcentual sea menor que una tolerancia porcentual prefijada, la cual la definimos así:\n",
    "\n",
    "$$|\\xi_{a}|<\\xi_{s}$$\n",
    "\n",
    "si se cumple esta relación, entonces se considera que el resultado obtenido está dentro del nivel aceptable fijado previamente.\n"
   ]
  },
  {
   "cell_type": "code",
   "execution_count": 29,
   "id": "9c3abfee",
   "metadata": {},
   "outputs": [
    {
     "name": "stdout",
     "output_type": "stream",
     "text": [
      "EL valor absoluto porcentual es menor\n"
     ]
    }
   ],
   "source": [
    "#definamos la relación\n",
    "Ea=0.02869976330545665\n",
    "Es=10**(-9)\n",
    "\n",
    "if Ea <= Es:\n",
    "    print(\"EL valor absoluto porcentual es mayor\")\n",
    "else:\n",
    "    print(\"EL valor absoluto porcentual es menor\")\n",
    "    "
   ]
  },
  {
   "cell_type": "markdown",
   "id": "bbe96c82",
   "metadata": {},
   "source": [
    "<font color=\"green\">Por tanto el resultado obtenido está dentro del nivel aceptable, concluyendo así que el método nos permite aproximar el error.</font>"
   ]
  },
  {
   "cell_type": "markdown",
   "id": "32bb9d06",
   "metadata": {},
   "source": [
    "## 2.5. Análisis de Eficiencia\n",
    "Para sacar la eficiencia para un método $p>1$ en el que cada iteración necesita r evaluaciones de dicha función o derivadas se considera la siguiente formula\n",
    "$$\\xi(p,r) = p^{1/r}$$\n",
    "\n",
    "también podemos considerar que cuando mayor sea la eficiencia de un método, mejor es el método. así mismo cuando está más cerca $X_{o}$ de la raíz, mayor será la eficiencia del método. Por lo tanto, la eficiencia y la convergencia están relacionadas entre sí, sabemos que Halley tiene un orden convergencia cúbico, por tanto:\n",
    "$$\\xi(3,3) = 3^{1/3}\\succeq 1.4422$$\n"
   ]
  },
  {
   "cell_type": "code",
   "execution_count": 30,
   "id": "536ccdf9",
   "metadata": {},
   "outputs": [
    {
     "name": "stdout",
     "output_type": "stream",
     "text": [
      "Eficiencia del método: 1.4422495703074083\n"
     ]
    }
   ],
   "source": [
    "#codificando formula de eficiencia de halley\n",
    "x=3\n",
    "y=3\n",
    "p=3\n",
    "g=p**(1/y)\n",
    "print(\"Eficiencia del método:\",g)"
   ]
  },
  {
   "cell_type": "markdown",
   "id": "4fe48550",
   "metadata": {},
   "source": [
    "## 2.6 Implementación 2 para funciones\n",
    "\n",
    "Sigamos probando el método de Halley para funciones racionales, ahora probemos este método para el siguiente ejercicio donde la función es continua en todo su dominio, para este desarrollo tomaremos en cuenta el siguiente ejercicio práctico.\n",
    "\n",
    "### Ejemplo práctico 2\n",
    "Encontrar mediante el método de Halley la raíz de la función $f(x)=log(t)+cos(4∗t)$ con una tolerancia de 1x10−9 para el error absoluto, tal que x ∈ [1,2] definimos la función y el intervalo inicial\n"
   ]
  },
  {
   "cell_type": "code",
   "execution_count": 31,
   "id": "0f5dec9a",
   "metadata": {},
   "outputs": [],
   "source": [
    "# importar todas las funciones de pylab\n",
    "from pylab import *\n",
    "# importar el módulo pyplot\n",
    "import matplotlib.pyplot as plt\n",
    "import math\n",
    "from math import exp, sqrt, sin, cos, log\n",
    "\n"
   ]
  },
  {
   "cell_type": "code",
   "execution_count": 32,
   "id": "b47476a5",
   "metadata": {},
   "outputs": [
    {
     "data": {
      "image/png": "[encoded data removed]",
      "text/plain": [
       "<Figure size 432x288 with 1 Axes>"
      ]
     },
     "metadata": {
      "needs_background": "light"
     },
     "output_type": "display_data"
    }
   ],
   "source": [
    "from math import *\n",
    "from numpy import *\n",
    "from matplotlib import pyplot\n",
    "t = arange(1, 5)\n",
    "# Establecer el color de los ejes.\n",
    "pyplot.axhline(0, color=\"black\")\n",
    "pyplot.axvline(0, color=\"black\")\n",
    "\n",
    "y1 = log(t) + cos(4*t)\n",
    "p1 = plot(t, y1)\n",
    "\n",
    "# Texto en la gráfica en coordenadas (x,y)\n",
    "texto1 = text(1, 0.5, r'$log(x)+cos(4*x)$', fontsize=15)\n",
    "# Añado una malla al gráfico\n",
    "grid()\n",
    "\n",
    "title('Grafica ejemplo practico 2')\n",
    "xlabel('x')\n",
    "ylabel('y')\n",
    "show()"
   ]
  },
  {
   "cell_type": "markdown",
   "id": "098e66e2",
   "metadata": {},
   "source": [
    "Definamos nuestra función, primera y segunda derivada."
   ]
  },
  {
   "cell_type": "code",
   "execution_count": 33,
   "id": "2b46474e",
   "metadata": {},
   "outputs": [],
   "source": [
    "#función del ejercicio \n",
    "def f(t):\n",
    "    return log(t)+cos(4*t)\n",
    "\n",
    "#primera derivada de la función\n",
    "\n",
    "def df(t):\n",
    "    return 1/t-4*sin(4*t)\n",
    "\n",
    "#segunda derivada de la función\n",
    "\n",
    "def d2f(t):\n",
    "    return -1/(t**2)-16*cos(4*t)"
   ]
  },
  {
   "cell_type": "code",
   "execution_count": 34,
   "id": "bb4fad4c",
   "metadata": {},
   "outputs": [
    {
     "data": {
      "text/plain": [
       "(-0.6536436208636119, 0.5476471467513317)"
      ]
     },
     "execution_count": 34,
     "metadata": {},
     "output_type": "execute_result"
    }
   ],
   "source": [
    " f(1), f(2)"
   ]
  },
  {
   "cell_type": "markdown",
   "id": "31a2b829",
   "metadata": {},
   "source": [
    "Definamos variables donde:\n",
    "- __iter:__ número de iteraciones máximas\n",
    "- __tol:__ tolerancia \n",
    "- __p0:__ valor inicial\n",
    "- __listahalley:__ lista para representar el número de iteraciones\n",
    "\n",
    "para __iter__ y __p0__ haremos uso de nuestro intervalo de $[1,4]$"
   ]
  },
  {
   "cell_type": "code",
   "execution_count": 35,
   "id": "f463d36c",
   "metadata": {},
   "outputs": [],
   "source": [
    "iter=2\n",
    "tol=10**(-9)\n",
    "p0=-1\n",
    "listahalley=[]"
   ]
  },
  {
   "cell_type": "markdown",
   "id": "7f0ce215",
   "metadata": {},
   "source": [
    "Presentando el logaritmo de Halley - para la realización del ejercicio anterior presentaremos sus valores por medio de tabulaciones."
   ]
  },
  {
   "cell_type": "code",
   "execution_count": 36,
   "id": "ce8a9e17",
   "metadata": {},
   "outputs": [],
   "source": [
    "#algoritmo de halley\n",
    "def halley(f,p0):                         #definiendo la función Halley\n",
    "    p=p0                                 #sobredefiniendo p0\n",
    "    lista=[]                             #definiendo lista simple\n",
    "    pp=\"-\"                              \n",
    "    error=\"-\"\n",
    "    for i in [*range(int(float(-1))),(iter)]:   #ciclo for para tomar encuenta el intervalo [0,pi]\n",
    "        lista.append([i,p,f(p),df(p),error]) \n",
    "        listahalley.append(p)\n",
    "        pp=p\n",
    "        p=abs(p-2*f(p)*df(p)/2*df(p)**2-f(p)*d2f(p)) #formula de halley\n",
    "        errorA=abs(p-pp)                        #encontrar el error de halley\n",
    "        if p!=0:                                #iteraciones hasta encontrar 0\n",
    "            errorB=abs(p-pp)/p\n",
    "        errorC=abs(f(p))\n",
    "        error=errorA\n",
    "        if error<tol:                          #parar hasta que error sea menor que la tolerancia\n",
    "            break                                 \n",
    "    print(tabulate(lista,headers=[\"n\",\"pn\",\"f(pn)\",\"f'(pn)\",\"error\"],tablefmt='fancy_grid')) #imprimiendo resultados en tabulaciones\n",
    "    return abs(p)"
   ]
  },
  {
   "cell_type": "markdown",
   "id": "f0b70f99",
   "metadata": {},
   "source": [
    "Ya teniendo el logaritmo de Halley procederemos a llamar la función para presentar los valores en tabulaciones. \n",
    "<font color=\"green\"> para ello solo necesitaremos la respectiva función halley con f = función y 0 = el valor inicial x0</font>"
   ]
  },
  {
   "cell_type": "code",
   "execution_count": 37,
   "id": "47ac6f70",
   "metadata": {},
   "outputs": [
    {
     "name": "stdout",
     "output_type": "stream",
     "text": [
      "╒═════╤══════╤══════════╤══════════╤═════════╕\n",
      "│   n │   pn │    f(pn) │   f'(pn) │ error   │\n",
      "╞═════╪══════╪══════════╪══════════╪═════════╡\n",
      "│   2 │  0.5 │ -1.10929 │ -1.63719 │ -       │\n",
      "╘═════╧══════╧══════════╧══════════╧═════════╛\n"
     ]
    },
    {
     "data": {
      "text/plain": [
       "1.4190317932828824"
      ]
     },
     "execution_count": 37,
     "metadata": {},
     "output_type": "execute_result"
    }
   ],
   "source": [
    "halley(f,0.5)"
   ]
  },
  {
   "cell_type": "markdown",
   "id": "03fd63d8",
   "metadata": {},
   "source": [
    "### Calculando el error del ejercicio anterior"
   ]
  },
  {
   "cell_type": "code",
   "execution_count": 38,
   "id": "32c864a4",
   "metadata": {},
   "outputs": [],
   "source": [
    "iter=2\n",
    "p0=0.5\n",
    "listahalley=[]"
   ]
  },
  {
   "cell_type": "code",
   "execution_count": 39,
   "id": "a523d836",
   "metadata": {},
   "outputs": [],
   "source": [
    "#algoritmo para encontrar error de halley\n",
    "def error(f,p0):\n",
    "    lista=[]\n",
    "    p0=0.5\n",
    "    p=p0\n",
    "    for i in [*range(int(float(-1))),(iter)]:\n",
    "        p = abs(p-2*f(p)*df(p)/2*df(p)**2-f(p)*d2f(p))\n",
    "        lista.append(p)\n",
    "    print (p)"
   ]
  },
  {
   "cell_type": "code",
   "execution_count": 40,
   "id": "6ebcc118",
   "metadata": {},
   "outputs": [
    {
     "name": "stdout",
     "output_type": "stream",
     "text": [
      "1.4190317932828824\n"
     ]
    }
   ],
   "source": [
    "error(f,0.5) "
   ]
  },
  {
   "cell_type": "markdown",
   "id": "0c861403",
   "metadata": {},
   "source": [
    "Calculando el error relativo porcentual $\\xi_{a}$ se define así:\n",
    "\n",
    "$$\\xi_{a}= \\frac{error aproximado*valor aproximado}{valor aproximado}*100%$$\n",
    "\n",
    "llamando al error aproximado y valor aproximado"
   ]
  },
  {
   "cell_type": "code",
   "execution_count": 41,
   "id": "80733503",
   "metadata": {},
   "outputs": [
    {
     "name": "stdout",
     "output_type": "stream",
     "text": [
      "1.4190317932828824\n"
     ]
    }
   ],
   "source": [
    "error(f,0.5) #error aproximado"
   ]
  },
  {
   "cell_type": "code",
   "execution_count": 42,
   "id": "c0ebce0c",
   "metadata": {},
   "outputs": [
    {
     "name": "stdout",
     "output_type": "stream",
     "text": [
      "╒═════╤══════╤══════════╤══════════╤═════════╕\n",
      "│   n │   pn │    f(pn) │   f'(pn) │ error   │\n",
      "╞═════╪══════╪══════════╪══════════╪═════════╡\n",
      "│   2 │  0.5 │ -1.10929 │ -1.63719 │ -       │\n",
      "╘═════╧══════╧══════════╧══════════╧═════════╛\n"
     ]
    },
    {
     "data": {
      "text/plain": [
       "1.4190317932828824"
      ]
     },
     "execution_count": 42,
     "metadata": {},
     "output_type": "execute_result"
    }
   ],
   "source": [
    "halley(f,0.5) #valor aproximado"
   ]
  },
  {
   "cell_type": "code",
   "execution_count": 43,
   "id": "c502462b",
   "metadata": {},
   "outputs": [
    {
     "name": "stdout",
     "output_type": "stream",
     "text": [
      "el error porcentual es: 0.4190317932828824\n",
      "EL valor absoluto porcentual es menor\n"
     ]
    }
   ],
   "source": [
    "#definamos variables\n",
    "erroraprox=1.4190317932828824   #error aproximado\n",
    "valoraprox=1.4190317932828824   #valor aproximado\n",
    "f=g\n",
    "g=abs((erroraprox-valoraprox/valoraprox)*1)  #formula para encontrar el error \n",
    "print(\"el error porcentual es:\", g)\n",
    "#definamos la relación\n",
    "Ea=g\n",
    "Es=10**(-9)     #comparando si el error porcentual es menor al tol\n",
    "if Ea <= Es:\n",
    "    print(\"EL valor absoluto porcentual es mayor\")\n",
    "else:\n",
    "    print(\"EL valor absoluto porcentual es menor\")"
   ]
  },
  {
   "cell_type": "markdown",
   "id": "464663cb",
   "metadata": {},
   "source": [
    "<font color=\"green\" >Deduciendo que el error para este ejemplo está dentro del nivel aceptable"
   ]
  },
  {
   "cell_type": "markdown",
   "id": "2654a7ce",
   "metadata": {},
   "source": [
    "### 2.7. Ejercicio de aplicación de Halley"
   ]
  },
  {
   "cell_type": "code",
   "execution_count": 44,
   "id": "010c5d5b",
   "metadata": {},
   "outputs": [],
   "source": [
    "import math\n",
    "from math import exp, sqrt, sin, cos, pi, asin"
   ]
  },
  {
   "cell_type": "code",
   "execution_count": 45,
   "id": "26d9d2d6",
   "metadata": {},
   "outputs": [],
   "source": [
    "from PIL import Image \n",
    "import numpy as np\n",
    "from matplotlib import pyplot as plt"
   ]
  },
  {
   "cell_type": "markdown",
   "id": "2b5add3a",
   "metadata": {},
   "source": [
    "Para determinar el volumen $V$ de un tanque $L$ cuya sección transversal es un semicírculo de radio r. se usa la formula:\n",
    "\n",
    "$$V = L*[ \\frac{\\pi*r^2}{2}-r^2*arcsin(\\frac{h}{r})-h*\\sqrt{r^2-h^2} ]$$\n",
    "\n",
    "![Tanque de Agua](https://encrypted-tbn0.gstatic.com/images?q=tbn:ANd9GcRBLS4cMzEvX0n6K3VPslylV9gKBmP2NZnUinFvNkyu4piSmSs29QUqjijsqUZlF44zpLs&usqp=CAU)\n"
   ]
  },
  {
   "cell_type": "markdown",
   "id": "4bdc4d1b",
   "metadata": {},
   "source": [
    "sí $V = 12.4 m^2$, $L = 10m$ y $r = 1m$. Probar que existe un $h \\in (0,1)$ tal que satisface la ecuación anterior. luego encontrar el valor de profundidad del agua, usando el método de Halley con $e_{s} = 0.5$%\n",
    "\n",
    "<font color=\"green\">EVALUANDO:\n",
    "    "
   ]
  },
  {
   "cell_type": "markdown",
   "id": "8af996a7",
   "metadata": {},
   "source": [
    "Definiendo variables a utilizar"
   ]
  },
  {
   "cell_type": "code",
   "execution_count": 46,
   "id": "11413da8",
   "metadata": {},
   "outputs": [],
   "source": [
    "#valor inicial\n",
    "p0=0.2\n",
    "#valor de la función \n",
    "def f(p): \n",
    "    return -0.665208\n",
    "#primera derivada de la función\n",
    "def df(p):\n",
    "    return -19.5959\n",
    "#segunda derivada de la función\n",
    "def d2f(p):\n",
    "    return 4.08248  \n",
    "iter=1\n",
    "listahalley=[] #definiendo lista simple\n",
    "tol=5*10**-2"
   ]
  },
  {
   "cell_type": "markdown",
   "id": "7edb3926",
   "metadata": {},
   "source": [
    "Ahora con la siguiente formula encontraremos los valores de $f(x),f'(x),f''(x)$ tomando en cuenta que $x0=0.2$\n",
    "\n",
    "$$x_{n+1}= x_{n}-\\frac{f(x_{n})}{f'(x_{n})} *[1-\\frac{f(x_{n})}{f'(x_{n})}*\\frac{f''(x_{n})}{2*f'(x_{n})}]^{-1}$$\n"
   ]
  },
  {
   "cell_type": "code",
   "execution_count": 47,
   "id": "5eb2ce7b",
   "metadata": {},
   "outputs": [],
   "source": [
    "#algoritmo de halley\n",
    "def halley(f,p0):                         #definiendo la función halley                               \n",
    "    lista=[]                             #definiendo lista simple\n",
    "    p=p0                                 #sobredefiniendo p0\n",
    "    pp=\"-\"                              \n",
    "    error=\"-\"\n",
    "    for i in [*range(0, int(float(iter)))]:   #ciclo for para tomar encuenta el intervalo [0,1]\n",
    "        lista.append([i,p,f(p),df(p),d2f(p),error]) \n",
    "        listahalley.append(p)\n",
    "        pp=p\n",
    "        p=p0-f(p)*df(p)*(1-((f(p)/df(p))*(d2f(p)/(2*df(p)))))**-1     #formula de halley\n",
    "        errorA=abs(p-pp)                        #encontrar el error de halley\n",
    "        if p!=0:                                #iteraciones hasta encontrar 0\n",
    "            errorB=abs(p-pp)/p\n",
    "        errorC=abs(f(p))\n",
    "        error=errorA\n",
    "        if error<tol:                          #parar hasta que error sea menor que la tolerancia\n",
    "            break                                 \n",
    "    print(tabulate(lista,headers=[\"n\",\"pn\",\"f(pn)\",\"f'(pn)\",\"f''(pn)\",\"error\"],tablefmt='fancy_grid')) #imprimiendo resultados en tabulaciones\n",
    "    "
   ]
  },
  {
   "cell_type": "code",
   "execution_count": 48,
   "id": "3c1f1621",
   "metadata": {},
   "outputs": [
    {
     "name": "stdout",
     "output_type": "stream",
     "text": [
      "╒═════╤══════╤═══════════╤══════════╤═══════════╤═════════╕\n",
      "│   n │   pn │     f(pn) │   f'(pn) │   f''(pn) │ error   │\n",
      "╞═════╪══════╪═══════════╪══════════╪═══════════╪═════════╡\n",
      "│   0 │  0.2 │ -0.665208 │ -19.5959 │   4.08248 │ -       │\n",
      "╘═════╧══════╧═══════════╧══════════╧═══════════╧═════════╛\n"
     ]
    }
   ],
   "source": [
    "halley(f,0.2)"
   ]
  },
  {
   "cell_type": "markdown",
   "id": "1a617504",
   "metadata": {},
   "source": [
    "Dados los resultados tenemos:\n",
    "- $x_{n} = 0.2)$\n",
    "- $f(x_{n}) = -0.665208)$ \n",
    "- $f'(x_{n}) = -19.5959)$\n",
    "- $f''(x_{n}) = 4.08248)$\n"
   ]
  },
  {
   "cell_type": "markdown",
   "id": "ad14f965",
   "metadata": {},
   "source": [
    "Sabemos que si tenemos un valor inicial lo bastante próximo a la raíz se puede construir una hipérbola tangente a la gráfica f(x) hasta su segundo orden, cruzando así con el eje x asumiendo esta nuestra primera iteración y así se repite el proceso hasta el criterio de la parada.\n",
    "\n",
    "muy bien utilicemos la siguiente formula:\n",
    "\n",
    "\n",
    "$$x_{n+1}= x_{n}-\\frac{f(x_{n})}{f'(x_{n})} *[1-\\frac{f(x_{n})}{f'(x_{n})}*\\frac{f''(x_{n})}{2*f'(x_{n})}]^{-1}$$"
   ]
  },
  {
   "cell_type": "markdown",
   "id": "f087f688",
   "metadata": {},
   "source": [
    "Ahora bien, ya tomando en cuenta lo anterior procedimos a evaluar la solución iterativa tomando en cuenta para dos iteraciones.\n",
    "- donde $x_{n+1} = h$\n",
    "\n",
    "$$x_{n+1}= h = 0.2-\\frac{-0.665208)}{-19.5959)} *[1-\\frac{-0.665208}{-19.5959}*\\frac{4.08248)}{2*-19.5959)}]^{-1}$$\n",
    "\n",
    "$$x_{n+1}= h = 0.166173$$\n",
    "\n",
    "<font color=\"green\" >__Gracias a sustituir los valores podemos decir que h siendo la raíz aproximada nos da un valor de $h=0.166173$ procedemos a sacar la profundidad total__"
   ]
  },
  {
   "cell_type": "markdown",
   "id": "5fb16fe7",
   "metadata": {},
   "source": [
    "### Sacando Profundidad total\n",
    "$$profundidad = r - h$$\n",
    "donde \n",
    "- r = radio que en este caso es 1 y h = raíz aproximada \n",
    "\n",
    "<font color=\"green\">__la profundad tiene un resultado de =  0.833827__\n",
    "\n"
   ]
  },
  {
   "cell_type": "markdown",
   "id": "683d8080",
   "metadata": {},
   "source": [
    " ### solución por algoritmo"
   ]
  },
  {
   "cell_type": "code",
   "execution_count": 49,
   "id": "167e23e3",
   "metadata": {},
   "outputs": [
    {
     "name": "stdout",
     "output_type": "stream",
     "text": [
      "es valor de h es  0.16617332886410618 metros\n",
      "La profundidad total del tanque es:  0.8338266711358938\n"
     ]
    }
   ],
   "source": [
    "#algoritmo de Halley encontrando h y su profundidad\n",
    "r=1\n",
    "\n",
    "#valor inicial\n",
    "p0=0.2\n",
    "#valor de la función \n",
    "fp= -0.665208\n",
    "#primera derivada de la función\n",
    "dfp = -19.5959\n",
    "#segunda derivada de la función\n",
    "d2fp = 4.08248 \n",
    "f=g\n",
    "g=p0-fp/dfp*(1-((fp/dfp)*(d2fp/(2*dfp))))**-1     #formula de halley\n",
    "print (\"es valor de h es \", g , \"metros\")  #imprimiendo valor de h\n",
    "#evaluando profundidad \n",
    "f=p\n",
    "p= r-g\n",
    "print(\"La profundidad total del tanque es: \",p) #imprimiendo profundidad total\n",
    "            "
   ]
  }
 ],
 "metadata": {
  "kernelspec": {
   "display_name": "Python 3 (ipykernel)",
   "language": "python",
   "name": "python3"
  },
  "language_info": {
   "codemirror_mode": {
    "name": "ipython",
    "version": 3
   },
   "file_extension": ".py",
   "mimetype": "text/x-python",
   "name": "python",
   "nbconvert_exporter": "python",
   "pygments_lexer": "ipython3",
   "version": "3.10.4"
  }
 },
 "nbformat": 4,
 "nbformat_minor": 5
}
