{
 "cells": [
  {
   "cell_type": "markdown",
   "id": "dce3a152",
   "metadata": {},
   "source": [
    "# 2. Método de Halley\n",
    "\n",
    "El método de Halley es funcional para encontrar raices de funciones no lineales. este es un algoritmo para encontrar un cero de una función utilizada cuando la funcion sea de variable real posible de derivar 2 veces, siendo su segunda derivada continua. tambien podemos considerar que este método solo es una generalizacón del método de newton, con convergencia cúbica.\n",
    "\n",
    "### Deducción del método\n",
    "\n",
    "Como lo hemos presentado con anterioridad este método viene generalizado por el método de newton asi que partiremos con su aplicación a la función.\n",
    "\n",
    "$$g = \\frac{f}{\\sqrt{f'}}$$\n",
    "asi es que $$x_{n+1} = x_{n} \\frac{g(x)}{\\sqrt{g'(x)}}$$\n",
    "con $$g'(x) = \\frac{2[f'(x)]^2 - f(x)f''(x)}{\\sqrt{2f'(x)\\sqrt{f'(x)}}}$$\n",
    "\n",
    "\n",
    "y dado esto es que se estima que sí $f'(c) = 0$ se aplicara solo si g puede extenderse a c.\n",
    "\n",
    "presentamos la ecuación general de Halley para el desarrollo de todo nuestro trabajo:\n",
    "\n",
    "$$x_{n+1} = x_{n} -\\frac{2f(x_{n})f'(x_{n})}{2f'(x_{n})^2-f(x_{n})f''(x_{n})}$$"
   ]
  },
  {
   "cell_type": "markdown",
   "id": "e76512d1",
   "metadata": {},
   "source": [
    "<font color=\"green\"> Ahora bien para comprender el método nos ayudaremos del siguiente ejemplo práctico.</font>\n",
    "\n",
    "### Ejemplo Practico 1 \n",
    "Encontrar mediante el método de Halley la raiz de la función $f(x)=1/2-cos(x)$ con una tolerancia de $1x10^-9$ para el error absoluto, tal que $x \\in [0,\\pi]$ definimos la función y el intervalo inicial."
   ]
  },
  {
   "cell_type": "code",
   "execution_count": 1,
   "id": "8194a853",
   "metadata": {},
   "outputs": [],
   "source": [
    "# importar todas las funciones de pylab\n",
    "from pylab import *\n",
    "\n",
    "# importar el módulo pyplot\n",
    "import matplotlib.pyplot as plt"
   ]
  },
  {
   "cell_type": "code",
   "execution_count": 48,
   "id": "2a70d83b",
   "metadata": {},
   "outputs": [
    {
     "data": {
      "image/png": "[encoded data removed]",
      "text/plain": [
       "<Figure size 432x288 with 1 Axes>"
      ]
     },
     "metadata": {
      "needs_background": "light"
     },
     "output_type": "display_data"
    }
   ],
   "source": [
    "from math import *\n",
    "from numpy import *\n",
    "\n",
    "t = arange(0.1, 20, 0.1)\n",
    "\n",
    "y1 = 1/2-cos(t)\n",
    "p1 = plot(t, y1)\n",
    "\n",
    "# Texto en la gráfica en coordenadas (x,y)\n",
    "texto1 = text(8, -0.25, r'$\\frac{1}{2}-cos(x)$', fontsize=12)\n",
    "# Añado una malla al gráfico\n",
    "grid()\n",
    "\n",
    "title('Representacion de funciones')\n",
    "xlabel('x')\n",
    "ylabel('y')\n",
    "show()"
   ]
  },
  {
   "cell_type": "markdown",
   "id": "4de6438a",
   "metadata": {},
   "source": [
    "## 2.2. Logaritmo del método de Halley\n",
    "A continuación presentaremos el logaritmo o codigo del método de Halley para luego continuar a sacar su convergencia y otras definiciones para concluir con dicho método.\n",
    "\n",
    "haremos uso de la formula general de Halley:\n",
    "\n",
    "$$x_{n+1} = x_{n} -\\frac{2f(x_{n})f'(x_{n})}{2f'(x_{n})^2-f(x_{n})f''(x_{n})}$$"
   ]
  },
  {
   "cell_type": "markdown",
   "id": "f9331f02",
   "metadata": {},
   "source": [
    "Ahora bien importemos la librerias que no serviran para el desarrollo de nuestro algoritmo"
   ]
  },
  {
   "cell_type": "code",
   "execution_count": 3,
   "id": "df983511",
   "metadata": {},
   "outputs": [
    {
     "name": "stdout",
     "output_type": "stream",
     "text": [
      "Requirement already satisfied: tabulate in c:\\users\\lisbe\\appdata\\local\\programs\\python\\python310\\lib\\site-packages (0.8.9)\n",
      "Note: you may need to restart the kernel to use updated packages.\n"
     ]
    }
   ],
   "source": [
    "pip install tabulate"
   ]
  },
  {
   "cell_type": "code",
   "execution_count": 4,
   "id": "5f6a4a04",
   "metadata": {},
   "outputs": [],
   "source": [
    "from tabulate import tabulate"
   ]
  },
  {
   "cell_type": "code",
   "execution_count": 5,
   "id": "c62d9ddc",
   "metadata": {},
   "outputs": [],
   "source": [
    "import math\n",
    "from math import exp, sqrt, sin, cos, pi"
   ]
  },
  {
   "cell_type": "markdown",
   "id": "09e29c7e",
   "metadata": {},
   "source": [
    "Definamos nuestra función con su primera y segunda derivada"
   ]
  },
  {
   "cell_type": "code",
   "execution_count": 6,
   "id": "8e5106f2",
   "metadata": {},
   "outputs": [],
   "source": [
    "#función del ejercicio \n",
    "def f(t):\n",
    "    return 1/2-cos(t)\n",
    "\n",
    "#primera derivada de la función\n",
    "\n",
    "def df(t):\n",
    "    return sin(t)\n",
    "\n",
    "#segunda derivada de la función\n",
    "\n",
    "def d2f(t):\n",
    "    return cos(t)"
   ]
  },
  {
   "cell_type": "code",
   "execution_count": 7,
   "id": "e169f2fa",
   "metadata": {},
   "outputs": [
    {
     "data": {
      "text/plain": [
       "-0.5"
      ]
     },
     "execution_count": 7,
     "metadata": {},
     "output_type": "execute_result"
    }
   ],
   "source": [
    "f(0)"
   ]
  },
  {
   "cell_type": "code",
   "execution_count": 8,
   "id": "0d0fa91b",
   "metadata": {},
   "outputs": [
    {
     "data": {
      "text/plain": [
       "1.5"
      ]
     },
     "execution_count": 8,
     "metadata": {},
     "output_type": "execute_result"
    }
   ],
   "source": [
    "f(pi)"
   ]
  },
  {
   "cell_type": "code",
   "execution_count": 9,
   "id": "dcd6ef06",
   "metadata": {},
   "outputs": [
    {
     "data": {
      "text/plain": [
       "0.49999999999999994"
      ]
     },
     "execution_count": 9,
     "metadata": {},
     "output_type": "execute_result"
    }
   ],
   "source": [
    "f(pi/2)"
   ]
  },
  {
   "cell_type": "markdown",
   "id": "11226fb5",
   "metadata": {},
   "source": [
    "Definamos variables donde:\n",
    "- __iter:__ numero de iteraciones maximas\n",
    "- __tol:__ tolerancia \n",
    "- __p0:__ valor inicial\n",
    "- __listahalley:__ lista para representar el numero de iteraciones\n",
    "\n",
    "para __iter__ y __p0__ haremos uso de nuestro intervalo de $[0,\\pi]$"
   ]
  },
  {
   "cell_type": "code",
   "execution_count": 10,
   "id": "ed3082b2",
   "metadata": {},
   "outputs": [],
   "source": [
    "iter=pi\n",
    "tol=10**(-9)\n",
    "p0=0\n",
    "listahalley=[]"
   ]
  },
  {
   "cell_type": "markdown",
   "id": "3db8af9c",
   "metadata": {},
   "source": [
    "Presentando el logaritmo de halley - para la realizaión del ejercicio anterior nos basaremos en presentar sus valores por medio de tabulaciones."
   ]
  },
  {
   "cell_type": "code",
   "execution_count": 11,
   "id": "3cf2d9c4",
   "metadata": {},
   "outputs": [],
   "source": [
    "#logaritmo de halley\n",
    "def halley(f,p0):                         #definiendo la función halley\n",
    "    p=p0                                 #sobredefiniendo p0\n",
    "    lista=[]                             #definiendo lista simple\n",
    "    pp=\"-\"                              \n",
    "    error=\"-\"\n",
    "    for i in [*range(0, int(float(iter)))]:   #ciclo for para tomar encuenta el intervalo [0,pi]\n",
    "        lista.append([i,p,f(p),df(p),error]) \n",
    "        listahalley.append(p)\n",
    "        pp=p\n",
    "        p=p-2*f(p)*df(p)/2*df(p)**2-f(p)*d2f(p) #formula de halley\n",
    "        errorA=abs(p-pp)                        #encontrar el error de halley\n",
    "        if p!=0:                                #iteraciones hasta encontrar 0\n",
    "            errorB=abs(p-pp)/p\n",
    "        errorC=abs(f(p))\n",
    "        error=errorA\n",
    "        if error<tol:                          #parar hasta que error sea menor que la tolerancia\n",
    "            break                                 \n",
    "    print(tabulate(lista,headers=[\"n\",\"pn\",\"f(pn)\",\"f'(pn)\",\"error\"])) #imprimiendo resultados en tabulaciones\n",
    "    return p"
   ]
  },
  {
   "cell_type": "markdown",
   "id": "34e027fb",
   "metadata": {},
   "source": [
    "Ya teniendo el logaritmo de Halley procederemos a llamar la función para presentar los valores en tabulaciones. \n",
    "<font color=\"green\"> para ello solo necesitaremos la respectiva función halley con f = funcion y 0 = el valor inicial x0</font>"
   ]
  },
  {
   "cell_type": "code",
   "execution_count": 12,
   "id": "92292bc2",
   "metadata": {},
   "outputs": [
    {
     "name": "stdout",
     "output_type": "stream",
     "text": [
      "  n        pn      f(pn)    f'(pn)  error\n",
      "---  --------  ---------  --------  ------------------\n",
      "  0  0         -0.5       0         -\n",
      "  1  0.5       -0.377583  0.479426  0.5\n",
      "  2  0.872968  -0.142555  0.766239  0.3729677361865782\n"
     ]
    },
    {
     "data": {
      "text/plain": [
       "1.0286997633054566"
      ]
     },
     "execution_count": 12,
     "metadata": {},
     "output_type": "execute_result"
    }
   ],
   "source": [
    "halley(f,0)"
   ]
  },
  {
   "cell_type": "markdown",
   "id": "2306e6d8",
   "metadata": {},
   "source": [
    "## 2.3. Analisis de convergencia \n",
    "como lo hemos demostrado en el trabajo anterior el método de halley converge con un orden cúbico, por lo que podemos decir que si lo comparamos con el método de newton que es su generalización, va a converger mas ligero siendo más eficiente ya que el método de newton tiende a converger a un orden cuadratico.\n",
    "\n",
    "por tanto vamos a derivar la formula 1 de halley para encontrar su analisis de convergencia y tambien haremos lo mismo con el de newton para verificar que halley converge más rapido\n",
    "\n",
    "al derivar la ecuación 1 de halley tenemos:\n",
    "$$g'(x)=\\frac{d}{dx}(1-\\frac{2f'(x_{n})^22f'(x_{n})^2}{(2(f'(x_{n}))^2)^2}$$"
   ]
  },
  {
   "cell_type": "markdown",
   "id": "32b35d0c",
   "metadata": {},
   "source": [
    "Analisis de convergencia para método de halley"
   ]
  },
  {
   "cell_type": "code",
   "execution_count": 13,
   "id": "23cb29a1",
   "metadata": {},
   "outputs": [],
   "source": [
    "def g(t):\n",
    "    return abs(1-(2*f(t)**2*2*df(t)**2)/(2*(df(t))**2)**2)"
   ]
  },
  {
   "cell_type": "code",
   "execution_count": 14,
   "id": "2e32eac7",
   "metadata": {},
   "outputs": [
    {
     "data": {
      "text/plain": [
       "(0.3797289267985642, 0.34001871334141687, 0.8148067891242188)"
      ]
     },
     "execution_count": 14,
     "metadata": {},
     "output_type": "execute_result"
    }
   ],
   "source": [
    "g(-0.5), g(0.49), g(1.5)"
   ]
  },
  {
   "cell_type": "markdown",
   "id": "d4811a9a",
   "metadata": {},
   "source": [
    "Analisis de convergencia para método de newton\n"
   ]
  },
  {
   "cell_type": "code",
   "execution_count": 15,
   "id": "a2213fee",
   "metadata": {},
   "outputs": [],
   "source": [
    "def g(t):\n",
    "    return abs((f(t)*d2f(t))/df(t)**2)"
   ]
  },
  {
   "cell_type": "code",
   "execution_count": 16,
   "id": "7739b38c",
   "metadata": {},
   "outputs": [
    {
     "data": {
      "text/plain": [
       "(1.4416425238532342, 1.523079071475961, 0.03051755138368333)"
      ]
     },
     "execution_count": 16,
     "metadata": {},
     "output_type": "execute_result"
    }
   ],
   "source": [
    "g(-0.5), g(0.49), g(1.5)"
   ]
  },
  {
   "cell_type": "markdown",
   "id": "563f2499",
   "metadata": {},
   "source": [
    "Procederemos a graficar para ver su tendencia."
   ]
  },
  {
   "cell_type": "code",
   "execution_count": 17,
   "id": "7376848e",
   "metadata": {},
   "outputs": [
    {
     "data": {
      "image/png": "[encoded data removed]",
      "text/plain": [
       "<Figure size 432x288 with 1 Axes>"
      ]
     },
     "metadata": {
      "needs_background": "light"
     },
     "output_type": "display_data"
    }
   ],
   "source": [
    "from math import *\n",
    "from numpy import *\n",
    "\n",
    "t = arange(3.1, 5, 0.1)\n",
    "\n",
    "y1 = 1/2-cos(t)*cos(t)/sin(t)                                       #formula derivada de newton\n",
    "y2 = 1-(2*sin(t)**2*2*sin(t)**2)/(2*sin(t)**2)**2                   #formula derivada de halley\n",
    "p1, p2 = plot(t, y1, t, y2)\n",
    "\n",
    "# Texto en la gráfica en coordenadas (x,y)\n",
    "texto1 = text(3.3, 10, r'$Newton$', fontsize=15, color='b')\n",
    "texto2 = text(4, -4, r'$Halley$', fontsize=16, color='orange')\n",
    "texto3 = text(5.1, -4, r'Por tanto podemos concluir que el método de halley cuenta con una mejor rapidez ', fontsize=12)\n",
    "texto4 = text(5.1, -9, r' de orden de convergencia demostrando asi que se estima más cerca de la raiz f(x)=0', fontsize=12)\n",
    "\n",
    "# Añado una malla al gráfico\n",
    "grid()\n",
    "\n",
    "title('Convergencia de Halley y Newton')\n",
    "xlabel('x')\n",
    "ylabel('y')\n",
    "show()"
   ]
  },
  {
   "cell_type": "markdown",
   "id": "d9254a88",
   "metadata": {},
   "source": [
    "## 2.4. Analisis del error de Halley\n",
    "como cualquier otro método es importante hacer un bosqueo de los errores cometidos al fin de poder estimar un mejor valor, entonces continuaremos a evaluar el error del método de halley.\n",
    "\n",
    "Continuamos a poner las librerias a usar."
   ]
  },
  {
   "cell_type": "code",
   "execution_count": 18,
   "id": "a4254c35",
   "metadata": {},
   "outputs": [],
   "source": [
    "from __future__ import division"
   ]
  },
  {
   "cell_type": "markdown",
   "id": "d4b438eb",
   "metadata": {},
   "source": [
    "Primer punto comenzaremos a evaluar el error de forma general y así mismo vamos a ver la tendencia del error en una grafica lineal.\n",
    "\n",
    "Importemos las librerias a utilizar."
   ]
  },
  {
   "cell_type": "code",
   "execution_count": 19,
   "id": "40aaf36e",
   "metadata": {},
   "outputs": [],
   "source": [
    "%matplotlib inline\n",
    "from numpy import linspace\n",
    "import matplotlib.pyplot as plt\n",
    "import math\n",
    "from math import exp, sqrt, sin, cos, pi\n",
    "from matplotlib import pyplot as plt\n",
    "import numpy as np"
   ]
  },
  {
   "cell_type": "code",
   "execution_count": 20,
   "id": "9611a089",
   "metadata": {},
   "outputs": [
    {
     "name": "stdout",
     "output_type": "stream",
     "text": [
      "0.5\n",
      "0.8729677361865782\n",
      "1.0286997633054566\n"
     ]
    }
   ],
   "source": [
    "#logaritmo para encontrar el error\n",
    "lista=[]\n",
    "p0=0\n",
    "p=p0\n",
    "for i in [*range(0, int(float(pi)))]:                       #ciclo for para tomar encuenta el intervalo [0,pi]\n",
    "        p = p-2*f(p)*df(p)/2*df(p)**2-f(p)*d2f(p)           #formula general de halley\n",
    "        lista.append(p)\n",
    "        print (p)"
   ]
  },
  {
   "cell_type": "code",
   "execution_count": 21,
   "id": "a62cf15f",
   "metadata": {},
   "outputs": [
    {
     "data": {
      "image/png": "[encoded data removed]",
      "text/plain": [
       "<Figure size 432x288 with 1 Axes>"
      ]
     },
     "metadata": {
      "needs_background": "light"
     },
     "output_type": "display_data"
    }
   ],
   "source": [
    "#Graficando el error del método\n",
    "error=[]\n",
    "for i in [*range(0, int(float(pi)))]:\n",
    "    error.append(lista[i]-(-.2))\n",
    "fig = plt.figure()\n",
    "axes = fig.add_axes([0.1,0.1,0.8, 0.8])\n",
    "\n",
    "axes.plot(lista ,error, 'r')\n",
    "axes.set_xlabel('iter')\n",
    "axes.set_ylabel('error de la solucion')\n",
    "axes.set_title('Grafica del error')\n",
    "axes.grid('on')"
   ]
  },
  {
   "cell_type": "markdown",
   "id": "7fee3aae",
   "metadata": {},
   "source": [
    "### Analisis del error del ejercicio practico 1\n",
    "A contiuación presentaremos un analisis del error más detallado mejorando dicho error aproximandolo y asi lograremos ver si el resultado esta dentro del nivel aceptable \n",
    "\n",
    "definimos las variables a utilizar, donde:\n",
    "- iter : numero de iteraciones maximas\n",
    "- p0: valor inicial"
   ]
  },
  {
   "cell_type": "code",
   "execution_count": 22,
   "id": "54d73c37",
   "metadata": {},
   "outputs": [],
   "source": [
    "iter=pi\n",
    "p0=0\n",
    "listahalley=[]"
   ]
  },
  {
   "cell_type": "code",
   "execution_count": 23,
   "id": "8843666b",
   "metadata": {},
   "outputs": [],
   "source": [
    "#logaritmo para encontrar error de halley\n",
    "def error(f,p0):\n",
    "    lista=[]\n",
    "    p0=0\n",
    "    p=p0\n",
    "    for i in [*range(0, int(float(iter)))]:\n",
    "        p = p-2*f(p)*df(p)/2*df(p)**2-f(p)*d2f(p)\n",
    "        lista.append(p)\n",
    "    print (p)"
   ]
  },
  {
   "cell_type": "code",
   "execution_count": 24,
   "id": "e0f1d55c",
   "metadata": {},
   "outputs": [
    {
     "name": "stdout",
     "output_type": "stream",
     "text": [
      "1.0286997633054566\n"
     ]
    }
   ],
   "source": [
    "error(f,0)"
   ]
  },
  {
   "cell_type": "markdown",
   "id": "59bd2c87",
   "metadata": {},
   "source": [
    "Ahora continuaremos a sacar los tipos de error que el método de halley puede presentar:\n",
    "Como tenemos un proceso iterativo el error esta normalizado a un valor aproximado por tanto el error relativo porcentual $\\xi_{a}$ se define así:\n",
    "\n",
    "$$\\xi_{a}= \\frac{error aproximado*valor aproximado}{valor aproximado}*100%$$\n",
    "\n",
    "llamando al error aproximado y valor aproximado"
   ]
  },
  {
   "cell_type": "code",
   "execution_count": 25,
   "id": "9773e077",
   "metadata": {},
   "outputs": [
    {
     "name": "stdout",
     "output_type": "stream",
     "text": [
      "1.0286997633054566\n"
     ]
    }
   ],
   "source": [
    "error(f,0) #error aproximado"
   ]
  },
  {
   "cell_type": "code",
   "execution_count": 26,
   "id": "140b653c",
   "metadata": {},
   "outputs": [
    {
     "name": "stdout",
     "output_type": "stream",
     "text": [
      "  n        pn      f(pn)    f'(pn)  error\n",
      "---  --------  ---------  --------  ------------------\n",
      "  0  0         -0.5       0         -\n",
      "  1  0.5       -0.377583  0.479426  0.5\n",
      "  2  0.872968  -0.142555  0.766239  0.3729677361865782\n"
     ]
    },
    {
     "data": {
      "text/plain": [
       "1.0286997633054566"
      ]
     },
     "execution_count": 26,
     "metadata": {},
     "output_type": "execute_result"
    }
   ],
   "source": [
    "halley(f,0) #valor aproximado"
   ]
  },
  {
   "cell_type": "code",
   "execution_count": 27,
   "id": "6eb32e54",
   "metadata": {},
   "outputs": [
    {
     "name": "stdout",
     "output_type": "stream",
     "text": [
      "el error porcentual es: 0.02869976330545665\n"
     ]
    }
   ],
   "source": [
    "#definamos variables\n",
    "erroraprox=1.0286997633054566\n",
    "valoraprox=1.0286997633054566\n",
    "f=g\n",
    "\n",
    "g=abs((erroraprox-valoraprox/valoraprox)*1)\n",
    "print(\"el error porcentual es:\", g)\n"
   ]
  },
  {
   "cell_type": "markdown",
   "id": "5f02155a",
   "metadata": {},
   "source": [
    "Ahora bien, nos importa que el valor absoluto porcentual sea menor que una tolerancia porcentual prefijada, la cual la definimos así:\n",
    "\n",
    "$$|\\xi_{a}|<\\xi_{s}$$\n",
    "\n",
    "si se cumple esta relación, entonces se considera que el resultado obtenido esta dentro del nivel aceptable fijado previamente.\n"
   ]
  },
  {
   "cell_type": "code",
   "execution_count": 28,
   "id": "30211ac1",
   "metadata": {},
   "outputs": [
    {
     "name": "stdout",
     "output_type": "stream",
     "text": [
      "EL valor adsoluto porcentual es menor\n"
     ]
    }
   ],
   "source": [
    "#definamos la relación\n",
    "Ea=0.02869976330545665\n",
    "Es=10**(-9)\n",
    "\n",
    "if Ea <= Es:\n",
    "    print(\"EL valor adsoluto porcentual es mayor\")\n",
    "else:\n",
    "    print(\"EL valor adsoluto porcentual es menor\")\n",
    "    "
   ]
  },
  {
   "cell_type": "markdown",
   "id": "51802c18",
   "metadata": {},
   "source": [
    "<font color=\"green\">Por tanto el resultado obtenido esta dentro del nivel aceptable, concluyendo así que el método nos permite aproximar el error.</font>"
   ]
  },
  {
   "cell_type": "markdown",
   "id": "08ffb8c6",
   "metadata": {},
   "source": [
    "## 2.5. Analisis de Eficiencia\n",
    "Para sacar la eficiecia para un método $p>1$ en el que cada iteración necesita r evaluaciones de dicha funcion o derivadas se considera la siguiente formula\n",
    "$$\\xi(p,r) = p^{1/r}$$\n",
    "\n",
    "tambien podemos considerar que cuando mayor sea la eficiencia de un método, mejor es el método. asi mismo cuando este mas cerca $X_{o}$ de la raiz, mayor sera la eficiencia del método. Por lo tanto la eficiencia y la convergencia estan relacionadas entre si, sabemos que halley tiene un orden convergencia cúbico por tanto:\n",
    "$$\\xi(3,3) = 3^{1/3}\\succeq 1.4422$$"
   ]
  },
  {
   "cell_type": "code",
   "execution_count": 29,
   "id": "73af6d71",
   "metadata": {},
   "outputs": [
    {
     "name": "stdout",
     "output_type": "stream",
     "text": [
      "Eficiencia del método: 1.4422495703074083\n"
     ]
    }
   ],
   "source": [
    "#codificando formula de eficiencia de halley\n",
    "x=3\n",
    "y=3\n",
    "p=3\n",
    "g=p**(1/y)\n",
    "print(\"Eficiencia del método:\",g)"
   ]
  },
  {
   "cell_type": "markdown",
   "id": "352d33bb",
   "metadata": {},
   "source": [
    "## 2.6 Implementación para funciones irracionales"
   ]
  },
  {
   "cell_type": "markdown",
   "id": "dc1a7e28",
   "metadata": {},
   "source": [
    "Ya probamos el método de halley para funciones racionales, ahora probemos este método para funciones irracionales para este desarrollo tomaremos en cuenta el siguiente ejercicio practico.\n",
    "\n",
    "### Ejemplo practico 2\n",
    "Encontrar mediante el método de Halley la raiz de la función $f(x)=x+\\sqrt{x^2+1}$ con una tolerancia de $1x10^-9$ para el error absoluto, tal que $x \\in [0,5]$ definimos la función y el intervalo inicial."
   ]
  },
  {
   "cell_type": "code",
   "execution_count": 30,
   "id": "e082d230",
   "metadata": {},
   "outputs": [],
   "source": [
    "# importar todas las funciones de pylab\n",
    "from pylab import *\n",
    "# importar el módulo pyplot\n",
    "import matplotlib.pyplot as plt\n",
    "import math\n",
    "from math import exp, sqrt, sin, cos, pi"
   ]
  },
  {
   "cell_type": "code",
   "execution_count": 31,
   "id": "a9ebdedb",
   "metadata": {},
   "outputs": [
    {
     "data": {
      "image/png": "[encoded data removed]",
      "text/plain": [
       "<Figure size 432x288 with 1 Axes>"
      ]
     },
     "metadata": {
      "needs_background": "light"
     },
     "output_type": "display_data"
    }
   ],
   "source": [
    "from math import *\n",
    "from numpy import *\n",
    "from matplotlib import pyplot\n",
    "t = arange(-10, 15)\n",
    "# Establecer el color de los ejes.\n",
    "pyplot.axhline(0, color=\"black\")\n",
    "pyplot.axvline(0, color=\"black\")\n",
    "y1 = t + sqrt(t**2+1)\n",
    "p1 = plot(t, y1)\n",
    "\n",
    "# Texto en la gráfica en coordenadas (x,y)\n",
    "texto1 = text(5, 5, r'$x+\\sqrt{x^2+1}$', fontsize=15)\n",
    "# Añado una malla al gráfico\n",
    "grid()\n",
    "\n",
    "title('Grafica ejemplo practico 2')\n",
    "xlabel('x')\n",
    "ylabel('y')\n",
    "show()"
   ]
  },
  {
   "cell_type": "markdown",
   "id": "e7f0a954",
   "metadata": {},
   "source": [
    "Definamos nuestra función, primera y segunda derivada."
   ]
  },
  {
   "cell_type": "code",
   "execution_count": 32,
   "id": "873ea7fa",
   "metadata": {},
   "outputs": [],
   "source": [
    "#función del ejercicio \n",
    "def f(t):\n",
    "    return t + sqrt(t**2+1)\n",
    "\n",
    "#primera derivada de la función\n",
    "\n",
    "def df(t):\n",
    "    return 1+t/sqrt(t**2+1)\n",
    "\n",
    "#segunda derivada de la función\n",
    "\n",
    "def d2f(t):\n",
    "    return 1/(t**2+1)**1.5"
   ]
  },
  {
   "cell_type": "code",
   "execution_count": 33,
   "id": "9509c879",
   "metadata": {},
   "outputs": [
    {
     "data": {
      "text/plain": [
       "(1.0,\n",
       " 2.414213562373095,\n",
       " 4.23606797749979,\n",
       " 6.16227766016838,\n",
       " 8.123105625617661,\n",
       " 10.099019513592784)"
      ]
     },
     "execution_count": 33,
     "metadata": {},
     "output_type": "execute_result"
    }
   ],
   "source": [
    "f(0), f(1), f(2), f(3), f(4), f(5)"
   ]
  },
  {
   "cell_type": "markdown",
   "id": "c6d7555d",
   "metadata": {},
   "source": [
    "Definamos variables donde:\n",
    "- __iter:__ numero de iteraciones maximas\n",
    "- __tol:__ tolerancia \n",
    "- __p0:__ valor inicial\n",
    "- __listahalley:__ lista para representar el numero de iteraciones\n",
    "\n",
    "para __iter__ y __p0__ haremos uso de nuestro intervalo de $[0,5]$"
   ]
  },
  {
   "cell_type": "code",
   "execution_count": 34,
   "id": "961a9a14",
   "metadata": {},
   "outputs": [],
   "source": [
    "iter=5\n",
    "tol=10**(-9)\n",
    "p0=0\n",
    "listahalley=[]"
   ]
  },
  {
   "cell_type": "markdown",
   "id": "58359015",
   "metadata": {},
   "source": [
    "Presentando el logaritmo de halley - para la realizaión del ejercicio anterior presentaremos sus valores por medio de tabulaciones."
   ]
  },
  {
   "cell_type": "code",
   "execution_count": 35,
   "id": "fbb6c5d3",
   "metadata": {},
   "outputs": [],
   "source": [
    "#logaritmo de halley\n",
    "def halley(f,p0):                         #definiendo la función halley\n",
    "    p=p0                                 #sobredefiniendo p0\n",
    "    lista=[]                             #definiendo lista simple\n",
    "    pp=\"-\"                              \n",
    "    error=\"-\"\n",
    "    for i in [*range(0, int(float(iter)))]:   #ciclo for para tomar encuenta el intervalo [0,pi]\n",
    "        lista.append([i,p,f(p),df(p),error]) \n",
    "        listahalley.append(p)\n",
    "        pp=p\n",
    "        p=p-2*f(p)*df(p)/2*df(p)**2-f(p)*d2f(p) #formula de halley\n",
    "        errorA=abs(p-pp)                        #encontrar el error de halley\n",
    "        if p!=0:                                #iteraciones hasta encontrar 0\n",
    "            errorB=abs(p-pp)/p\n",
    "        errorC=abs(f(p))\n",
    "        error=errorA\n",
    "        if error<tol:                          #parar hasta que error sea menor que la tolerancia\n",
    "            break                                 \n",
    "    print(tabulate(lista,headers=[\"n\",\"pn\",\"f(pn)\",\"f'(pn)\",\"error\"])) #imprimiendo resultados en tabulaciones\n",
    "    return abs(p)"
   ]
  },
  {
   "cell_type": "markdown",
   "id": "57e40b8d",
   "metadata": {},
   "source": [
    "Ya teniendo el logaritmo de Halley procederemos a llamar la función para presentar los valores en tabulaciones. \n",
    "<font color=\"green\"> para ello solo necesitaremos la respectiva función halley con f = funcion y 0 = el valor inicial x0</font>"
   ]
  },
  {
   "cell_type": "code",
   "execution_count": 36,
   "id": "06e1399e",
   "metadata": {},
   "outputs": [
    {
     "name": "stdout",
     "output_type": "stream",
     "text": [
      "  n        pn     f(pn)    f'(pn)  error\n",
      "---  --------  --------  --------  --------------------\n",
      "  0   0        1         1         -\n",
      "  1  -2        0.236068  0.105573  2.0\n",
      "  2  -2.02139  0.23383   0.103684  0.021392336898662823\n",
      "  3  -2.04204  0.231708  0.101906  0.020646629018318485\n",
      "  4  -2.062    0.229691  0.100228  0.019956451384381513\n"
     ]
    },
    {
     "data": {
      "text/plain": [
       "2.0813110572548426"
      ]
     },
     "execution_count": 36,
     "metadata": {},
     "output_type": "execute_result"
    }
   ],
   "source": [
    "halley(f,0)"
   ]
  },
  {
   "cell_type": "markdown",
   "id": "6c7ed1f7",
   "metadata": {},
   "source": [
    "### Calculando el error del ejercicio anterior"
   ]
  },
  {
   "cell_type": "code",
   "execution_count": 37,
   "id": "4b74f891",
   "metadata": {},
   "outputs": [],
   "source": [
    "iter=5\n",
    "p0=0\n",
    "listahalley=[]"
   ]
  },
  {
   "cell_type": "code",
   "execution_count": 38,
   "id": "0516172d",
   "metadata": {},
   "outputs": [],
   "source": [
    "#logaritmo para encontrar error de halley\n",
    "def error(f,p0):\n",
    "    lista=[]\n",
    "    p0=0\n",
    "    p=p0\n",
    "    for i in [*range(0, int(float(iter)))]:\n",
    "        p = p-2*f(p)*df(p)/2*df(p)**2-f(p)*d2f(p)\n",
    "        lista.append(p)\n",
    "    print (abs(p))"
   ]
  },
  {
   "cell_type": "code",
   "execution_count": 39,
   "id": "779af605",
   "metadata": {},
   "outputs": [
    {
     "name": "stdout",
     "output_type": "stream",
     "text": [
      "2.0813110572548426\n"
     ]
    }
   ],
   "source": [
    "error(f,0)"
   ]
  },
  {
   "cell_type": "markdown",
   "id": "94fbdf2f",
   "metadata": {},
   "source": [
    "Calculando el error relativo porcentual $\\xi_{a}$ se define así:\n",
    "\n",
    "$$\\xi_{a}= \\frac{error aproximado*valor aproximado}{valor aproximado}*100%$$\n",
    "\n",
    "llamando al error aproximado y valor aproximado"
   ]
  },
  {
   "cell_type": "code",
   "execution_count": 40,
   "id": "92e0e3b2",
   "metadata": {},
   "outputs": [
    {
     "name": "stdout",
     "output_type": "stream",
     "text": [
      "2.0813110572548426\n"
     ]
    }
   ],
   "source": [
    "error(f,0) #error aproximado"
   ]
  },
  {
   "cell_type": "code",
   "execution_count": 41,
   "id": "8b6b8651",
   "metadata": {},
   "outputs": [
    {
     "name": "stdout",
     "output_type": "stream",
     "text": [
      "  n        pn     f(pn)    f'(pn)  error\n",
      "---  --------  --------  --------  --------------------\n",
      "  0   0        1         1         -\n",
      "  1  -2        0.236068  0.105573  2.0\n",
      "  2  -2.02139  0.23383   0.103684  0.021392336898662823\n",
      "  3  -2.04204  0.231708  0.101906  0.020646629018318485\n",
      "  4  -2.062    0.229691  0.100228  0.019956451384381513\n"
     ]
    },
    {
     "data": {
      "text/plain": [
       "2.0813110572548426"
      ]
     },
     "execution_count": 41,
     "metadata": {},
     "output_type": "execute_result"
    }
   ],
   "source": [
    "halley(f,0) #valor aproximado"
   ]
  },
  {
   "cell_type": "code",
   "execution_count": 42,
   "id": "73664abe",
   "metadata": {},
   "outputs": [
    {
     "name": "stdout",
     "output_type": "stream",
     "text": [
      "el error porcentual es: 1.0813110572548426\n",
      "EL valor adsoluto porcentual es menor\n"
     ]
    }
   ],
   "source": [
    "#definamos variables\n",
    "erroraprox=2.0813110572548426\n",
    "valoraprox=2.0813110572548426\n",
    "f=g\n",
    "g=abs((erroraprox-valoraprox/valoraprox)*1)\n",
    "print(\"el error porcentual es:\", g)\n",
    "#definamos la relación\n",
    "Ea=g\n",
    "Es=10**(-9)\n",
    "if Ea <= Es:\n",
    "    print(\"EL valor adsoluto porcentual es mayor\")\n",
    "else:\n",
    "    print(\"EL valor adsoluto porcentual es menor\")"
   ]
  },
  {
   "cell_type": "markdown",
   "id": "8cf90ecf",
   "metadata": {},
   "source": [
    "Deduciendo que el error para este ejemplo esta dentro del nivel aceptable"
   ]
  },
  {
   "cell_type": "code",
   "execution_count": null,
   "id": "b3372040",
   "metadata": {},
   "outputs": [],
   "source": []
  }
 ],
 "metadata": {
  "kernelspec": {
   "display_name": "Python 3 (ipykernel)",
   "language": "python",
   "name": "python3"
  },
  "language_info": {
   "codemirror_mode": {
    "name": "ipython",
    "version": 3
   },
   "file_extension": ".py",
   "mimetype": "text/x-python",
   "name": "python",
   "nbconvert_exporter": "python",
   "pygments_lexer": "ipython3",
   "version": "3.10.4"
  }
 },
 "nbformat": 4,
 "nbformat_minor": 5
}
