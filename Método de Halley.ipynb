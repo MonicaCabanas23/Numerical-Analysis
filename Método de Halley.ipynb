{
 "cells": [
  {
   "cell_type": "markdown",
   "id": "be34cd3a",
   "metadata": {},
   "source": [
    "# 2. Método de Halley\n",
    "\n",
    "El método de Halley es funcional para encontrar raices de funciones no lineales. este es un algoritmo para encontrar un cero de una función utilizada cuando la funcion sea de variable real posible de derivar 2 veces, siendo su segunda derivada continua. tambien podemos considerar que este método solo es una generalizacón del método de newton, con convergencia cúbica.\n",
    "\n",
    "### Deducción del método\n",
    "\n",
    "Como lo hemos presentado con anterioridad este método viene generalizado por el método de newton asi que partiremos con su aplicación a la función.\n",
    "\n",
    "$$g = \\frac{f}{\\sqrt{f'}}$$\n",
    "asi es que $$x_{n+1} = x_{n} \\frac{g(x)}{\\sqrt{g'(x)}}$$\n",
    "con $$g'(x) = \\frac{2[f'(x)]^2 - f(x)f''(x)}{\\sqrt{2f'(x)\\sqrt{f'(x)}}}$$\n",
    "\n",
    "\n",
    "y dado esto es que se estima que sí $f'(c) = 0$ se aplicara solo si g puede extenderse a c.\n",
    "\n",
    "presentamos la ecuación general de Halley para el desarrollo de todo nuestro trabajo:\n",
    "\n",
    "$$x_{n+1} = x_{n} -\\frac{2f(x_{n})f'(x_{n})}{2f'(x_{n})^2-f(x_{n})f''(x_{n})}$$"
   ]
  },
  {
   "cell_type": "markdown",
   "id": "06d22032",
   "metadata": {},
   "source": [
    "<font color=\"green\"> Ahora bien para comprender el método nos ayudaremos del siguiente ejemplo práctico.</font>\n",
    "\n",
    "### Ejemplo Practico 1 \n",
    "Encontrar mediante el método de Halley la raiz de la función $f(x)=1/2-cos(x)$ con una tolerancia de $1x10^-9$ para el error absoluto, tal que $x \\in [0,\\pi]$ definimos la función y el intervalo inicial."
   ]
  },
  {
   "cell_type": "code",
   "execution_count": 33,
   "id": "9c3fceac",
   "metadata": {},
   "outputs": [],
   "source": [
    "# importar todas las funciones de pylab\n",
    "from pylab import *\n",
    "\n",
    "# importar el módulo pyplot\n",
    "import matplotlib.pyplot as plt"
   ]
  },
  {
   "cell_type": "code",
   "execution_count": 34,
   "id": "5fc10916",
   "metadata": {},
   "outputs": [
    {
     "data": {
      "image/png": "[encoded data removed]",
      "text/plain": [
       "<Figure size 432x288 with 1 Axes>"
      ]
     },
     "metadata": {
      "needs_background": "light"
     },
     "output_type": "display_data"
    }
   ],
   "source": [
    "from math import *\n",
    "from numpy import *\n",
    "\n",
    "t = arange(0.1, 20, 0.1)\n",
    "\n",
    "y1 = 1/2-cos(t)\n",
    "p1 = plot(t, y1)\n",
    "\n",
    "# Texto en la gráfica en coordenadas (x,y)\n",
    "texto1 = text(8, -0.25, r'$\\frac{1}{2}-cos(x)$', fontsize=12)\n",
    "# Añado una malla al gráfico\n",
    "grid()\n",
    "\n",
    "title('Representacion de funciones')\n",
    "xlabel('x')\n",
    "ylabel('y')\n",
    "show()"
   ]
  },
  {
   "cell_type": "markdown",
   "id": "de2438a9",
   "metadata": {},
   "source": [
    "## 2.2. Logaritmo del método de Halley\n",
    "A continuación presentaremos el algoritmo o codigo del método de Halley para luego continuar a sacar su convergencia y otras definiciones para concluir con dicho método.\n",
    "\n",
    "haremos uso de la formula general de Halley:\n",
    "\n",
    "$$x_{n+1} = x_{n} -\\frac{2f(x_{n})f'(x_{n})}{2f'(x_{n})^2-f(x_{n})f''(x_{n})}$$"
   ]
  },
  {
   "cell_type": "markdown",
   "id": "2f3dbfa6",
   "metadata": {},
   "source": [
    "Ahora bien importemos la librerias que no serviran para el desarrollo de nuestro algoritmo"
   ]
  },
  {
   "cell_type": "code",
   "execution_count": 35,
   "id": "8c2ee607",
   "metadata": {},
   "outputs": [
    {
     "name": "stdout",
     "output_type": "stream",
     "text": [
      "Requirement already satisfied: tabulate in c:\\users\\lisbe\\appdata\\local\\programs\\python\\python310\\lib\\site-packages (0.8.9)Note: you may need to restart the kernel to use updated packages.\n",
      "\n"
     ]
    }
   ],
   "source": [
    "pip install tabulate"
   ]
  },
  {
   "cell_type": "code",
   "execution_count": 36,
   "id": "c68dac7d",
   "metadata": {},
   "outputs": [],
   "source": [
    "from tabulate import tabulate"
   ]
  },
  {
   "cell_type": "code",
   "execution_count": 37,
   "id": "bb963fd0",
   "metadata": {},
   "outputs": [],
   "source": [
    "import math\n",
    "from math import exp, sqrt, sin, cos, pi"
   ]
  },
  {
   "cell_type": "markdown",
   "id": "b5e66430",
   "metadata": {},
   "source": [
    "Definamos nuestra función con su primera y segunda derivada"
   ]
  },
  {
   "cell_type": "code",
   "execution_count": 38,
   "id": "3ec2347b",
   "metadata": {},
   "outputs": [],
   "source": [
    "#función del ejercicio \n",
    "def f(t):\n",
    "    return 1/2-cos(t)\n",
    "\n",
    "#primera derivada de la función\n",
    "\n",
    "def df(t):\n",
    "    return sin(t)\n",
    "\n",
    "#segunda derivada de la función\n",
    "\n",
    "def d2f(t):\n",
    "    return cos(t)"
   ]
  },
  {
   "cell_type": "code",
   "execution_count": 39,
   "id": "2d7f8a5e",
   "metadata": {},
   "outputs": [
    {
     "data": {
      "text/plain": [
       "-0.5"
      ]
     },
     "execution_count": 39,
     "metadata": {},
     "output_type": "execute_result"
    }
   ],
   "source": [
    "f(0)"
   ]
  },
  {
   "cell_type": "code",
   "execution_count": 40,
   "id": "976f4894",
   "metadata": {},
   "outputs": [
    {
     "data": {
      "text/plain": [
       "1.5"
      ]
     },
     "execution_count": 40,
     "metadata": {},
     "output_type": "execute_result"
    }
   ],
   "source": [
    "f(pi)"
   ]
  },
  {
   "cell_type": "code",
   "execution_count": 41,
   "id": "7351bb17",
   "metadata": {},
   "outputs": [
    {
     "data": {
      "text/plain": [
       "0.49999999999999994"
      ]
     },
     "execution_count": 41,
     "metadata": {},
     "output_type": "execute_result"
    }
   ],
   "source": [
    "f(pi/2)"
   ]
  },
  {
   "cell_type": "markdown",
   "id": "93bc63ac",
   "metadata": {},
   "source": [
    "Definamos variables donde:\n",
    "- __iter:__ numero de iteraciones maximas\n",
    "- __tol:__ tolerancia \n",
    "- __p0:__ valor inicial\n",
    "- __listahalley:__ lista para representar el numero de iteraciones\n",
    "\n",
    "para __iter__ y __p0__ haremos uso de nuestro intervalo de $[0,\\pi]$"
   ]
  },
  {
   "cell_type": "code",
   "execution_count": 42,
   "id": "38b85481",
   "metadata": {},
   "outputs": [],
   "source": [
    "iter=pi\n",
    "tol=10**(-9)\n",
    "p0=0\n",
    "listahalley=[]"
   ]
  },
  {
   "cell_type": "markdown",
   "id": "4d037b8c",
   "metadata": {},
   "source": [
    "Presentando el logaritmo de halley - para la realizaión del ejercicio anterior nos basaremos en presentar sus valores por medio de tabulaciones."
   ]
  },
  {
   "cell_type": "code",
   "execution_count": 43,
   "id": "70f518c6",
   "metadata": {},
   "outputs": [],
   "source": [
    "#algoritmo de halley\n",
    "def halley(f,p0):                         #definiendo la función halley\n",
    "    p=p0                                 #sobredefiniendo p0\n",
    "    lista=[]                             #definiendo lista simple\n",
    "    pp=\"-\"                              \n",
    "    error=\"-\"\n",
    "    for i in [*range(0, int(float(iter)))]:   #ciclo for para tomar encuenta el intervalo [0,pi]\n",
    "        lista.append([i,p,f(p),df(p),error]) \n",
    "        listahalley.append(p)\n",
    "        pp=p\n",
    "        p=p-2*f(p)*df(p)/2*df(p)**2-f(p)*d2f(p) #formula de halley\n",
    "        errorA=abs(p-pp)                        #encontrar el error de halley\n",
    "        if p!=0:                                #iteraciones hasta encontrar 0\n",
    "            errorB=abs(p-pp)/p\n",
    "        errorC=abs(f(p))\n",
    "        error=errorA\n",
    "        if error<tol:                          #parar hasta que error sea menor que la tolerancia\n",
    "            break                                 \n",
    "    print(tabulate(lista,headers=[\"n\",\"pn\",\"f(pn)\",\"f'(pn)\",\"error\"])) #imprimiendo resultados en tabulaciones\n",
    "    return p"
   ]
  },
  {
   "cell_type": "markdown",
   "id": "26a12a60",
   "metadata": {},
   "source": [
    "Ya teniendo el logaritmo de Halley procederemos a llamar la función para presentar los valores en tabulaciones. \n",
    "<font color=\"green\"> para ello solo necesitaremos la respectiva función halley con f = funcion y 0 = el valor inicial x0</font>"
   ]
  },
  {
   "cell_type": "code",
   "execution_count": 44,
   "id": "286184e4",
   "metadata": {},
   "outputs": [
    {
     "name": "stdout",
     "output_type": "stream",
     "text": [
      "  n        pn      f(pn)    f'(pn)  error\n",
      "---  --------  ---------  --------  ------------------\n",
      "  0  0         -0.5       0         -\n",
      "  1  0.5       -0.377583  0.479426  0.5\n",
      "  2  0.872968  -0.142555  0.766239  0.3729677361865782\n"
     ]
    },
    {
     "data": {
      "text/plain": [
       "1.0286997633054566"
      ]
     },
     "execution_count": 44,
     "metadata": {},
     "output_type": "execute_result"
    }
   ],
   "source": [
    "halley(f,0)"
   ]
  },
  {
   "cell_type": "markdown",
   "id": "460c4765",
   "metadata": {},
   "source": [
    "## 2.3. Analisis de convergencia \n",
    "como lo hemos demostrado en el trabajo anterior el método de halley converge con un orden cúbico, por lo que podemos decir que si lo comparamos con el método de newton que es su generalización, va a converger mas ligero siendo más eficiente ya que el método de newton tiende a converger a un orden cuadratico.\n",
    "\n",
    "por tanto vamos a derivar la formula 1 de halley para encontrar su analisis de convergencia y tambien haremos lo mismo con el de newton para verificar que halley converge más rapido\n",
    "\n",
    "al derivar la ecuación 1 de halley tenemos:\n",
    "$$g'(x)=\\frac{d}{dx}(1-\\frac{2f'(x_{n})^22f'(x_{n})^2}{(2(f'(x_{n}))^2)^2}$$"
   ]
  },
  {
   "cell_type": "markdown",
   "id": "63d89a45",
   "metadata": {},
   "source": [
    "Analisis de convergencia para método de halley"
   ]
  },
  {
   "cell_type": "code",
   "execution_count": 45,
   "id": "66ba89d7",
   "metadata": {},
   "outputs": [],
   "source": [
    "def g(t):\n",
    "    return abs(1-(2*f(t)**2*2*df(t)**2)/(2*(df(t))**2)**2)"
   ]
  },
  {
   "cell_type": "code",
   "execution_count": 46,
   "id": "a5c6ae93",
   "metadata": {},
   "outputs": [
    {
     "data": {
      "text/plain": [
       "(0.3797289267985642, 0.34001871334141687, 0.8148067891242188)"
      ]
     },
     "execution_count": 46,
     "metadata": {},
     "output_type": "execute_result"
    }
   ],
   "source": [
    "g(-0.5), g(0.49), g(1.5)"
   ]
  },
  {
   "cell_type": "markdown",
   "id": "7f3f6cba",
   "metadata": {},
   "source": [
    "Analisis de convergencia para método de newton\n"
   ]
  },
  {
   "cell_type": "code",
   "execution_count": 47,
   "id": "cfaabe14",
   "metadata": {},
   "outputs": [],
   "source": [
    "def g(t):\n",
    "    return abs((f(t)*d2f(t))/df(t)**2)"
   ]
  },
  {
   "cell_type": "code",
   "execution_count": 48,
   "id": "0d66264c",
   "metadata": {},
   "outputs": [
    {
     "data": {
      "text/plain": [
       "(1.4416425238532342, 1.523079071475961, 0.03051755138368333)"
      ]
     },
     "execution_count": 48,
     "metadata": {},
     "output_type": "execute_result"
    }
   ],
   "source": [
    "g(-0.5), g(0.49), g(1.5)"
   ]
  },
  {
   "cell_type": "markdown",
   "id": "26c9b94b",
   "metadata": {},
   "source": [
    "Procederemos a graficar para ver su tendencia."
   ]
  },
  {
   "cell_type": "code",
   "execution_count": 49,
   "id": "87b41171",
   "metadata": {},
   "outputs": [
    {
     "data": {
      "image/png": "[encoded data removed]",
      "text/plain": [
       "<Figure size 432x288 with 1 Axes>"
      ]
     },
     "metadata": {
      "needs_background": "light"
     },
     "output_type": "display_data"
    }
   ],
   "source": [
    "from math import *\n",
    "from numpy import *\n",
    "\n",
    "t = arange(3.1, 5, 0.1)\n",
    "\n",
    "y1 = 1/2-cos(t)*cos(t)/sin(t)                                       #formula derivada de newton\n",
    "y2 = 1-(2*sin(t)**2*2*sin(t)**2)/(2*sin(t)**2)**2                   #formula derivada de halley\n",
    "p1, p2 = plot(t, y1, t, y2)\n",
    "\n",
    "# Texto en la gráfica en coordenadas (x,y)\n",
    "texto1 = text(3.3, 10, r'$Newton$', fontsize=15, color='b')\n",
    "texto2 = text(4, -4, r'$Halley$', fontsize=16, color='orange')\n",
    "texto3 = text(5.1, -4, r'Por tanto podemos concluir que el método de halley cuenta con una mejor rapidez ', fontsize=12)\n",
    "texto4 = text(5.1, -9, r' de orden de convergencia demostrando asi que se estima más cerca de la raiz f(x)=0', fontsize=12)\n",
    "\n",
    "# Añado una malla al gráfico\n",
    "grid()\n",
    "\n",
    "title('Convergencia de Halley y Newton')\n",
    "xlabel('x')\n",
    "ylabel('y')\n",
    "show()"
   ]
  },
  {
   "cell_type": "markdown",
   "id": "563559fc",
   "metadata": {},
   "source": [
    "## 2.4. Analisis del error de Halley\n",
    "como cualquier otro método es importante hacer un bosqueo de los errores cometidos al fin de poder estimar un mejor valor, entonces continuaremos a evaluar el error del método de halley.\n",
    "\n",
    "Continuamos a poner las librerias a usar."
   ]
  },
  {
   "cell_type": "code",
   "execution_count": 50,
   "id": "d3b5c581",
   "metadata": {},
   "outputs": [],
   "source": [
    "from __future__ import division"
   ]
  },
  {
   "cell_type": "markdown",
   "id": "03f9d410",
   "metadata": {},
   "source": [
    "Primer punto comenzaremos a evaluar el error de forma general y así mismo vamos a ver la tendencia del error en una grafica lineal.\n",
    "\n",
    "Importemos las librerias a utilizar."
   ]
  },
  {
   "cell_type": "code",
   "execution_count": 51,
   "id": "04d96e72",
   "metadata": {},
   "outputs": [],
   "source": [
    "%matplotlib inline\n",
    "from numpy import linspace\n",
    "import matplotlib.pyplot as plt\n",
    "import math\n",
    "from math import exp, sqrt, sin, cos, pi\n",
    "from matplotlib import pyplot as plt\n",
    "import numpy as np"
   ]
  },
  {
   "cell_type": "code",
   "execution_count": 52,
   "id": "0dc6b232",
   "metadata": {},
   "outputs": [
    {
     "name": "stdout",
     "output_type": "stream",
     "text": [
      "0.5\n",
      "0.8729677361865782\n",
      "1.0286997633054566\n"
     ]
    }
   ],
   "source": [
    "#algoritmo para encontrar el error\n",
    "lista=[]\n",
    "p0=0\n",
    "p=p0\n",
    "for i in [*range(0, int(float(pi)))]:                       #ciclo for para tomar encuenta el intervalo [0,pi]\n",
    "        p = p-2*f(p)*df(p)/2*df(p)**2-f(p)*d2f(p)           #formula general de halley\n",
    "        lista.append(p)\n",
    "        print (p)"
   ]
  },
  {
   "cell_type": "code",
   "execution_count": 53,
   "id": "789ce6a8",
   "metadata": {},
   "outputs": [
    {
     "data": {
      "image/png": "[encoded data removed]",
      "text/plain": [
       "<Figure size 432x288 with 1 Axes>"
      ]
     },
     "metadata": {
      "needs_background": "light"
     },
     "output_type": "display_data"
    }
   ],
   "source": [
    "#Graficando el error del método\n",
    "error=[]\n",
    "for i in [*range(0, int(float(pi)))]:\n",
    "    error.append(lista[i]-(-.2))\n",
    "fig = plt.figure()\n",
    "axes = fig.add_axes([0.1,0.1,0.8, 0.8])\n",
    "\n",
    "axes.plot(lista ,error, 'r')\n",
    "axes.set_xlabel('iter')\n",
    "axes.set_ylabel('error de la solucion')\n",
    "axes.set_title('Grafica del error')\n",
    "axes.grid('on')"
   ]
  },
  {
   "cell_type": "markdown",
   "id": "0b114d19",
   "metadata": {},
   "source": [
    "### Analisis del error del ejercicio practico 1\n",
    "A contiuación presentaremos un analisis del error más detallado mejorando dicho error aproximandolo y asi lograremos ver si el resultado esta dentro del nivel aceptable \n",
    "\n",
    "definimos las variables a utilizar, donde:\n",
    "- iter : numero de iteraciones maximas\n",
    "- p0: valor inicial"
   ]
  },
  {
   "cell_type": "code",
   "execution_count": 54,
   "id": "2eab2d6e",
   "metadata": {},
   "outputs": [],
   "source": [
    "iter=pi\n",
    "p0=0\n",
    "listahalley=[]"
   ]
  },
  {
   "cell_type": "code",
   "execution_count": 55,
   "id": "5454e471",
   "metadata": {},
   "outputs": [],
   "source": [
    "#algoritmo para encontrar error de halley\n",
    "def error(f,p0):\n",
    "    lista=[]\n",
    "    p0=0\n",
    "    p=p0\n",
    "    for i in [*range(0, int(float(iter)))]:\n",
    "        p = p-2*f(p)*df(p)/2*df(p)**2-f(p)*d2f(p)\n",
    "        lista.append(p)\n",
    "    print (p)"
   ]
  },
  {
   "cell_type": "code",
   "execution_count": 56,
   "id": "7875910f",
   "metadata": {},
   "outputs": [
    {
     "name": "stdout",
     "output_type": "stream",
     "text": [
      "1.0286997633054566\n"
     ]
    }
   ],
   "source": [
    "error(f,0)"
   ]
  },
  {
   "cell_type": "markdown",
   "id": "f67071cb",
   "metadata": {},
   "source": [
    "Ahora continuaremos a sacar los tipos de error que el método de halley puede presentar:\n",
    "Como tenemos un proceso iterativo el error esta normalizado a un valor aproximado por tanto el error relativo porcentual $\\xi_{a}$ se define así:\n",
    "\n",
    "$$\\xi_{a}= \\frac{error aproximado*valor aproximado}{valor aproximado}*100%$$\n",
    "\n",
    "llamando al error aproximado y valor aproximado"
   ]
  },
  {
   "cell_type": "code",
   "execution_count": 57,
   "id": "de57924a",
   "metadata": {},
   "outputs": [
    {
     "name": "stdout",
     "output_type": "stream",
     "text": [
      "1.0286997633054566\n"
     ]
    }
   ],
   "source": [
    "error(f,0) #error aproximado"
   ]
  },
  {
   "cell_type": "code",
   "execution_count": 58,
   "id": "bef855b0",
   "metadata": {},
   "outputs": [
    {
     "name": "stdout",
     "output_type": "stream",
     "text": [
      "  n        pn      f(pn)    f'(pn)  error\n",
      "---  --------  ---------  --------  ------------------\n",
      "  0  0         -0.5       0         -\n",
      "  1  0.5       -0.377583  0.479426  0.5\n",
      "  2  0.872968  -0.142555  0.766239  0.3729677361865782\n"
     ]
    },
    {
     "data": {
      "text/plain": [
       "1.0286997633054566"
      ]
     },
     "execution_count": 58,
     "metadata": {},
     "output_type": "execute_result"
    }
   ],
   "source": [
    "halley(f,0) #valor aproximado"
   ]
  },
  {
   "cell_type": "code",
   "execution_count": 59,
   "id": "c9e208bb",
   "metadata": {},
   "outputs": [
    {
     "name": "stdout",
     "output_type": "stream",
     "text": [
      "el error porcentual es: 0.02869976330545665\n"
     ]
    }
   ],
   "source": [
    "#definamos variables\n",
    "erroraprox=1.0286997633054566\n",
    "valoraprox=1.0286997633054566\n",
    "f=g\n",
    "\n",
    "g=abs((erroraprox-valoraprox/valoraprox)*1)\n",
    "print(\"el error porcentual es:\", g)\n"
   ]
  },
  {
   "cell_type": "markdown",
   "id": "e25cbb44",
   "metadata": {},
   "source": [
    "Ahora bien, nos importa que el valor absoluto porcentual sea menor que una tolerancia porcentual prefijada, la cual la definimos así:\n",
    "\n",
    "$$|\\xi_{a}|<\\xi_{s}$$\n",
    "\n",
    "si se cumple esta relación, entonces se considera que el resultado obtenido esta dentro del nivel aceptable fijado previamente.\n"
   ]
  },
  {
   "cell_type": "code",
   "execution_count": 60,
   "id": "2ddaef03",
   "metadata": {},
   "outputs": [
    {
     "name": "stdout",
     "output_type": "stream",
     "text": [
      "EL valor adsoluto porcentual es menor\n"
     ]
    }
   ],
   "source": [
    "#definamos la relación\n",
    "Ea=0.02869976330545665\n",
    "Es=10**(-9)\n",
    "\n",
    "if Ea <= Es:\n",
    "    print(\"EL valor adsoluto porcentual es mayor\")\n",
    "else:\n",
    "    print(\"EL valor adsoluto porcentual es menor\")\n",
    "    "
   ]
  },
  {
   "cell_type": "markdown",
   "id": "861ac925",
   "metadata": {},
   "source": [
    "<font color=\"green\">Por tanto el resultado obtenido esta dentro del nivel aceptable, concluyendo así que el método nos permite aproximar el error.</font>"
   ]
  },
  {
   "cell_type": "markdown",
   "id": "12c6d3b6",
   "metadata": {},
   "source": [
    "## 2.5. Analisis de Eficiencia\n",
    "Para sacar la eficiecia para un método $p>1$ en el que cada iteración necesita r evaluaciones de dicha funcion o derivadas se considera la siguiente formula\n",
    "$$\\xi(p,r) = p^{1/r}$$\n",
    "\n",
    "tambien podemos considerar que cuando mayor sea la eficiencia de un método, mejor es el método. asi mismo cuando este mas cerca $X_{o}$ de la raiz, mayor sera la eficiencia del método. Por lo tanto la eficiencia y la convergencia estan relacionadas entre si, sabemos que halley tiene un orden convergencia cúbico por tanto:\n",
    "$$\\xi(3,3) = 3^{1/3}\\succeq 1.4422$$"
   ]
  },
  {
   "cell_type": "code",
   "execution_count": 61,
   "id": "b97597cd",
   "metadata": {},
   "outputs": [
    {
     "name": "stdout",
     "output_type": "stream",
     "text": [
      "Eficiencia del método: 1.4422495703074083\n"
     ]
    }
   ],
   "source": [
    "#codificando formula de eficiencia de halley\n",
    "x=3\n",
    "y=3\n",
    "p=3\n",
    "g=p**(1/y)\n",
    "print(\"Eficiencia del método:\",g)"
   ]
  },
  {
   "cell_type": "markdown",
   "id": "1298e7ab",
   "metadata": {},
   "source": [
    "## 2.6 Implementación 2 para funciones"
   ]
  },
  {
   "cell_type": "markdown",
   "id": "851195e2",
   "metadata": {},
   "source": [
    "Sigamos probando el método de halley para funciones racionales, ahora probemos este método para la siguiente ejercicio donde la función es continua en todo su dominio, para este desarrollo tomaremos en cuenta el siguiente ejercicio practico.\n",
    "\n",
    "### Ejemplo practico 2\n",
    "Encontrar mediante el método de Halley la raiz de la función $f(x)=log(t)+cos(4*t)$ con una tolerancia de $1x10^-9$ para el error absoluto, tal que $x \\in [1,2]$ definimos la función y el intervalo inicial."
   ]
  },
  {
   "cell_type": "code",
   "execution_count": 101,
   "id": "8a050bfc",
   "metadata": {},
   "outputs": [],
   "source": [
    "# importar todas las funciones de pylab\n",
    "from pylab import *\n",
    "# importar el módulo pyplot\n",
    "import matplotlib.pyplot as plt\n",
    "import math\n",
    "from math import exp, sqrt, sin, cos, log\n",
    "\n"
   ]
  },
  {
   "cell_type": "code",
   "execution_count": 63,
   "id": "401ea497",
   "metadata": {},
   "outputs": [
    {
     "data": {
      "image/png": "[encoded data removed]",
      "text/plain": [
       "<Figure size 432x288 with 1 Axes>"
      ]
     },
     "metadata": {
      "needs_background": "light"
     },
     "output_type": "display_data"
    }
   ],
   "source": [
    "from math import *\n",
    "from numpy import *\n",
    "from matplotlib import pyplot\n",
    "t = arange(1, 5)\n",
    "# Establecer el color de los ejes.\n",
    "pyplot.axhline(0, color=\"black\")\n",
    "pyplot.axvline(0, color=\"black\")\n",
    "\n",
    "y1 = log(t) + cos(4*t)\n",
    "p1 = plot(t, y1)\n",
    "\n",
    "# Texto en la gráfica en coordenadas (x,y)\n",
    "texto1 = text(1, 0.5, r'$log(x)+cos(4*x)$', fontsize=15)\n",
    "# Añado una malla al gráfico\n",
    "grid()\n",
    "\n",
    "title('Grafica ejemplo practico 2')\n",
    "xlabel('x')\n",
    "ylabel('y')\n",
    "show()"
   ]
  },
  {
   "cell_type": "markdown",
   "id": "c670f92d",
   "metadata": {},
   "source": [
    "Definamos nuestra función, primera y segunda derivada."
   ]
  },
  {
   "cell_type": "code",
   "execution_count": 64,
   "id": "0325b5fb",
   "metadata": {},
   "outputs": [],
   "source": [
    "#función del ejercicio \n",
    "def f(t):\n",
    "    return log(t)+cos(4*t)\n",
    "\n",
    "#primera derivada de la función\n",
    "\n",
    "def df(t):\n",
    "    return 1/t-4*sin(4*t)\n",
    "\n",
    "#segunda derivada de la función\n",
    "\n",
    "def d2f(t):\n",
    "    return -1/(t**2)-16*cos(4*t)"
   ]
  },
  {
   "cell_type": "code",
   "execution_count": 65,
   "id": "f76ef8b6",
   "metadata": {},
   "outputs": [
    {
     "data": {
      "text/plain": [
       "(-0.6536436208636119, 0.5476471467513317)"
      ]
     },
     "execution_count": 65,
     "metadata": {},
     "output_type": "execute_result"
    }
   ],
   "source": [
    " f(1), f(2)"
   ]
  },
  {
   "cell_type": "markdown",
   "id": "12f8f62e",
   "metadata": {},
   "source": [
    "Definamos variables donde:\n",
    "- __iter:__ numero de iteraciones maximas\n",
    "- __tol:__ tolerancia \n",
    "- __p0:__ valor inicial\n",
    "- __listahalley:__ lista para representar el numero de iteraciones\n",
    "\n",
    "para __iter__ y __p0__ haremos uso de nuestro intervalo de $[1,4]$"
   ]
  },
  {
   "cell_type": "code",
   "execution_count": 66,
   "id": "a81541e1",
   "metadata": {},
   "outputs": [],
   "source": [
    "iter=2\n",
    "tol=10**(-9)\n",
    "p0=-1\n",
    "listahalley=[]"
   ]
  },
  {
   "cell_type": "markdown",
   "id": "d5e47081",
   "metadata": {},
   "source": [
    "Presentando el logaritmo de halley - para la realizaión del ejercicio anterior presentaremos sus valores por medio de tabulaciones."
   ]
  },
  {
   "cell_type": "code",
   "execution_count": 67,
   "id": "e24bc709",
   "metadata": {},
   "outputs": [],
   "source": [
    "#algoritmo de halley\n",
    "def halley(f,p0):                         #definiendo la función halley\n",
    "    p=p0                                 #sobredefiniendo p0\n",
    "    lista=[]                             #definiendo lista simple\n",
    "    pp=\"-\"                              \n",
    "    error=\"-\"\n",
    "    for i in [*range(int(float(-1))),(iter)]:   #ciclo for para tomar encuenta el intervalo [0,pi]\n",
    "        lista.append([i,p,f(p),df(p),error]) \n",
    "        listahalley.append(p)\n",
    "        pp=p\n",
    "        p=abs(p-2*f(p)*df(p)/2*df(p)**2-f(p)*d2f(p)) #formula de halley\n",
    "        errorA=abs(p-pp)                        #encontrar el error de halley\n",
    "        if p!=0:                                #iteraciones hasta encontrar 0\n",
    "            errorB=abs(p-pp)/p\n",
    "        errorC=abs(f(p))\n",
    "        error=errorA\n",
    "        if error<tol:                          #parar hasta que error sea menor que la tolerancia\n",
    "            break                                 \n",
    "    print(tabulate(lista,headers=[\"n\",\"pn\",\"f(pn)\",\"f'(pn)\",\"error\"])) #imprimiendo resultados en tabulaciones\n",
    "    return abs(p)"
   ]
  },
  {
   "cell_type": "markdown",
   "id": "512c003d",
   "metadata": {},
   "source": [
    "Ya teniendo el logaritmo de Halley procederemos a llamar la función para presentar los valores en tabulaciones. \n",
    "<font color=\"green\"> para ello solo necesitaremos la respectiva función halley con f = funcion y 0 = el valor inicial x0</font>"
   ]
  },
  {
   "cell_type": "code",
   "execution_count": 68,
   "id": "4c4595c6",
   "metadata": {},
   "outputs": [
    {
     "name": "stdout",
     "output_type": "stream",
     "text": [
      "  n    pn     f(pn)    f'(pn)  error\n",
      "---  ----  --------  --------  -------\n",
      "  2   0.5  -1.10929  -1.63719  -\n"
     ]
    },
    {
     "data": {
      "text/plain": [
       "1.4190317932828824"
      ]
     },
     "execution_count": 68,
     "metadata": {},
     "output_type": "execute_result"
    }
   ],
   "source": [
    "halley(f,0.5)"
   ]
  },
  {
   "cell_type": "markdown",
   "id": "c7b2f0e4",
   "metadata": {},
   "source": [
    "### Calculando el error del ejercicio anterior"
   ]
  },
  {
   "cell_type": "code",
   "execution_count": 69,
   "id": "d87f99d8",
   "metadata": {},
   "outputs": [],
   "source": [
    "iter=2\n",
    "p0=0.5\n",
    "listahalley=[]"
   ]
  },
  {
   "cell_type": "code",
   "execution_count": 70,
   "id": "bd975925",
   "metadata": {},
   "outputs": [],
   "source": [
    "#algoritmo para encontrar error de halley\n",
    "def error(f,p0):\n",
    "    lista=[]\n",
    "    p0=0.5\n",
    "    p=p0\n",
    "    for i in [*range(int(float(-1))),(iter)]:\n",
    "        p = abs(p-2*f(p)*df(p)/2*df(p)**2-f(p)*d2f(p))\n",
    "        lista.append(p)\n",
    "    print (p)"
   ]
  },
  {
   "cell_type": "code",
   "execution_count": 71,
   "id": "46fc0099",
   "metadata": {},
   "outputs": [
    {
     "name": "stdout",
     "output_type": "stream",
     "text": [
      "1.4190317932828824\n"
     ]
    }
   ],
   "source": [
    "error(f,0.5)"
   ]
  },
  {
   "cell_type": "markdown",
   "id": "ecf97b8b",
   "metadata": {},
   "source": [
    "Calculando el error relativo porcentual $\\xi_{a}$ se define así:\n",
    "\n",
    "$$\\xi_{a}= \\frac{error aproximado*valor aproximado}{valor aproximado}*100%$$\n",
    "\n",
    "llamando al error aproximado y valor aproximado"
   ]
  },
  {
   "cell_type": "code",
   "execution_count": 72,
   "id": "8f4b6a0e",
   "metadata": {},
   "outputs": [
    {
     "name": "stdout",
     "output_type": "stream",
     "text": [
      "1.4190317932828824\n"
     ]
    }
   ],
   "source": [
    "error(f,0.5) #error aproximado"
   ]
  },
  {
   "cell_type": "code",
   "execution_count": 73,
   "id": "a93c6a58",
   "metadata": {},
   "outputs": [
    {
     "name": "stdout",
     "output_type": "stream",
     "text": [
      "  n    pn     f(pn)    f'(pn)  error\n",
      "---  ----  --------  --------  -------\n",
      "  2   0.5  -1.10929  -1.63719  -\n"
     ]
    },
    {
     "data": {
      "text/plain": [
       "1.4190317932828824"
      ]
     },
     "execution_count": 73,
     "metadata": {},
     "output_type": "execute_result"
    }
   ],
   "source": [
    "halley(f,0.5) #valor aproximado"
   ]
  },
  {
   "cell_type": "code",
   "execution_count": 74,
   "id": "8647e34a",
   "metadata": {},
   "outputs": [
    {
     "name": "stdout",
     "output_type": "stream",
     "text": [
      "el error porcentual es: 0.4190317932828824\n",
      "EL valor adsoluto porcentual es menor\n"
     ]
    }
   ],
   "source": [
    "#definamos variables\n",
    "erroraprox=1.4190317932828824   #error aproximado\n",
    "valoraprox=1.4190317932828824   #valor aproximado\n",
    "f=g\n",
    "g=abs((erroraprox-valoraprox/valoraprox)*1)  #formula para encontrar el error \n",
    "print(\"el error porcentual es:\", g)\n",
    "#definamos la relación\n",
    "Ea=g\n",
    "Es=10**(-9)     #comparando si el error porcentual es menor al tol\n",
    "if Ea <= Es:\n",
    "    print(\"EL valor adsoluto porcentual es mayor\")\n",
    "else:\n",
    "    print(\"EL valor adsoluto porcentual es menor\")"
   ]
  },
  {
   "cell_type": "markdown",
   "id": "227176ac",
   "metadata": {},
   "source": [
    "<font color=\"green\" >Deduciendo que el error para este ejemplo esta dentro del nivel aceptable"
   ]
  },
  {
   "cell_type": "markdown",
   "id": "ca792417",
   "metadata": {},
   "source": [
    "### 2.7. Ejercicio de aplicación de Halley"
   ]
  },
  {
   "cell_type": "code",
   "execution_count": 75,
   "id": "2d968bcd",
   "metadata": {},
   "outputs": [],
   "source": [
    "import math\n",
    "from math import exp, sqrt, sin, cos, pi, asin"
   ]
  },
  {
   "cell_type": "code",
   "execution_count": 108,
   "id": "cbb1e610",
   "metadata": {},
   "outputs": [],
   "source": [
    "from PIL import Image \n",
    "import numpy as np\n",
    "from matplotlib import pyplot as plt"
   ]
  },
  {
   "cell_type": "markdown",
   "id": "1a63ffb1",
   "metadata": {},
   "source": [
    "Para determinar el volumen $V$ de un tanque $L$ cuya sección transversal es un semicirculo de radio r. se usa la formula:\n",
    "\n",
    "$$V = L*[ \\frac{\\pi*r^2}{2}-r^2*arcsin(\\frac{h}{r})-h*\\sqrt{r^2-h^2} ]$$\n",
    "\n",
    "![Tanque de Agua](https://encrypted-tbn0.gstatic.com/images?q=tbn:ANd9GcRBLS4cMzEvX0n6K3VPslylV9gKBmP2NZnUinFvNkyu4piSmSs29QUqjijsqUZlF44zpLs&usqp=CAU)\n"
   ]
  },
  {
   "cell_type": "markdown",
   "id": "d06f1c63",
   "metadata": {},
   "source": [
    "si $V = 12.4 m^2$, $L = 10m$ y $r = 1m$. Probar que existe un $h \\in (0,1)$ tal que satisface la ecuación anterior. luego encontrar el valor de profundidad del agua, usando el método de halley con $e_{s} = 0.5$%\n",
    "\n",
    "<font color=\"green\">EVALUANDO:\n",
    "    "
   ]
  },
  {
   "cell_type": "markdown",
   "id": "fc2be92e",
   "metadata": {},
   "source": [
    "Definiendo variables a utilizar"
   ]
  },
  {
   "cell_type": "code",
   "execution_count": 109,
   "id": "7f25f14a",
   "metadata": {},
   "outputs": [],
   "source": [
    "#valor inicial\n",
    "p0=0.2\n",
    "#valor de la función \n",
    "def f(p): \n",
    "    return -0.665208\n",
    "#primera derivada de la función\n",
    "def df(p):\n",
    "    return -19.5959\n",
    "#segunda derivada de la función\n",
    "def d2f(p):\n",
    "    return 4.08248  \n",
    "iter=1\n",
    "listahalley=[] #definiendo lista simple\n",
    "tol=5*10**-2"
   ]
  },
  {
   "cell_type": "markdown",
   "id": "01a7233b",
   "metadata": {},
   "source": [
    "Ahora con la siguiente formula encontraremos los valores de $f(x),f'(x),f''(x)$ tomando en cuenta que $x0=0.2$\n",
    "\n",
    "$$x_{n+1}= x_{n}-\\frac{f(x_{n})}{f'(x_{n})} *[1-\\frac{f(x_{n})}{f'(x_{n})}*\\frac{f''(x_{n})}{2*f'(x_{n})}]^{-1}$$\n"
   ]
  },
  {
   "cell_type": "code",
   "execution_count": 110,
   "id": "fb725db6",
   "metadata": {},
   "outputs": [],
   "source": [
    "#algoritmo de halley\n",
    "def halley(f,p0):                         #definiendo la función halley                               \n",
    "    lista=[]                             #definiendo lista simple\n",
    "    p=p0                                 #sobredefiniendo p0\n",
    "    pp=\"-\"                              \n",
    "    error=\"-\"\n",
    "    for i in [*range(0, int(float(iter)))]:   #ciclo for para tomar encuenta el intervalo [0,1]\n",
    "        lista.append([i,p,f(p),df(p),d2f(p),error]) \n",
    "        listahalley.append(p)\n",
    "        pp=p\n",
    "        p=p0-f(p)*df(p)*(1-((f(p)/df(p))*(d2f(p)/(2*df(p)))))**-1     #formula de halley\n",
    "        errorA=abs(p-pp)                        #encontrar el error de halley\n",
    "        if p!=0:                                #iteraciones hasta encontrar 0\n",
    "            errorB=abs(p-pp)/p\n",
    "        errorC=abs(f(p))\n",
    "        error=errorA\n",
    "        if error<tol:                          #parar hasta que error sea menor que la tolerancia\n",
    "            break                                 \n",
    "    print(tabulate(lista,headers=[\"n\",\"pn\",\"f(pn)\",\"f'(pn)\",\"f''(pn)\",\"error\"])) #imprimiendo resultados en tabulaciones\n",
    "    "
   ]
  },
  {
   "cell_type": "code",
   "execution_count": 111,
   "id": "a79860e7",
   "metadata": {},
   "outputs": [
    {
     "name": "stdout",
     "output_type": "stream",
     "text": [
      "  n    pn      f(pn)    f'(pn)    f''(pn)  error\n",
      "---  ----  ---------  --------  ---------  -------\n",
      "  0   0.2  -0.665208  -19.5959    4.08248  -\n"
     ]
    }
   ],
   "source": [
    "halley(f,0.2)"
   ]
  },
  {
   "cell_type": "markdown",
   "id": "d48d3c24",
   "metadata": {},
   "source": [
    "Dados los resultados tenemos:\n",
    "- $x_{n} = 0.2)$\n",
    "- $f(x_{n}) = -0.665208)$ \n",
    "- $f'(x_{n}) = -19.5959)$\n",
    "- $f''(x_{n}) = 4.08248)$\n"
   ]
  },
  {
   "cell_type": "markdown",
   "id": "88b21935",
   "metadata": {},
   "source": [
    "Sabemos que si tenemos un valor inicial lo bastante proximo a la raiz se puede construir una hiperbola tangente a la grafica f(x) hasta su segundo orden, cruzando asi con el eje x asumiendo esta nuestra primera iteración y asi se repite el proceso hasta el criterio de la parada.\n",
    "\n",
    "muy bien utilicemos la siguiente formula:\n",
    "\n",
    "$$x_{n+1}= x_{n}-\\frac{f(x_{n})}{f'(x_{n})} *[1-\\frac{f(x_{n})}{f'(x_{n})}*\\frac{f''(x_{n})}{2*f'(x_{n})}]^{-1}$$"
   ]
  },
  {
   "cell_type": "markdown",
   "id": "f5f6eacf",
   "metadata": {},
   "source": [
    "Ahora bien ya tomando en cuenta lo anterior procedimos a evaluar la solución iterativa tomando en cuenta para dos iteraciones.\n",
    "- donde $x_{n+1} = h$\n",
    "\n",
    "$$x_{n+1}= h = 0.2-\\frac{-0.665208)}{-19.5959)} *[1-\\frac{-0.665208}{-19.5959}*\\frac{4.08248)}{2*-19.5959)}]^{-1}$$\n",
    "\n",
    "$$x_{n+1}= h = 0.166173$$\n",
    "\n",
    "<font color=\"green\" >__Gracias a sustituir los valores podemos decir que h siendo la raiz aproximada nos da un valor de $h=0.166173$ procedemos a sacar la profundidad total__"
   ]
  },
  {
   "cell_type": "markdown",
   "id": "6cd719a1",
   "metadata": {},
   "source": [
    "### Sacando Profundidad total\n",
    "$$profundidad = r - h$$\n",
    "donde \n",
    "- r = radio que en este caso es 1 y h = raiz aproximada \n",
    "\n",
    "<font color=\"green\">__la profundad tiene un resultado de =  0.833827__\n",
    "\n"
   ]
  },
  {
   "cell_type": "markdown",
   "id": "adc32f9a",
   "metadata": {},
   "source": [
    " ### solución por algoritmo"
   ]
  },
  {
   "cell_type": "code",
   "execution_count": 198,
   "id": "19cc3ebf",
   "metadata": {},
   "outputs": [
    {
     "name": "stdout",
     "output_type": "stream",
     "text": [
      "es valor de h es  0.16617332886410618 metros\n",
      "La profundidad total del tanque es:  0.8338266711358938\n"
     ]
    }
   ],
   "source": [
    "#algoritmo de halley encontrando h y su profundidad\n",
    "r=1\n",
    "\n",
    "#valor inicial\n",
    "p0=0.2\n",
    "#valor de la función \n",
    "fp= -0.665208\n",
    "#primera derivada de la función\n",
    "dfp = -19.5959\n",
    "#segunda derivada de la función\n",
    "d2fp = 4.08248 \n",
    "f=g\n",
    "g=p0-fp/dfp*(1-((fp/dfp)*(d2fp/(2*dfp))))**-1     #formula de halley\n",
    "print (\"es valor de h es \", g , \"metros\")  #imprimiendo valor de h\n",
    "#evaluando profundidad \n",
    "f=p\n",
    "p= r-g\n",
    "print(\"La profundidad total del tanque es: \",p) #imprimiendo profundidad total\n",
    "            "
   ]
  }
 ],
 "metadata": {
  "kernelspec": {
   "display_name": "Python 3 (ipykernel)",
   "language": "python",
   "name": "python3"
  },
  "language_info": {
   "codemirror_mode": {
    "name": "ipython",
    "version": 3
   },
   "file_extension": ".py",
   "mimetype": "text/x-python",
   "name": "python",
   "nbconvert_exporter": "python",
   "pygments_lexer": "ipython3",
   "version": "3.10.4"
  }
 },
 "nbformat": 4,
 "nbformat_minor": 5
}
