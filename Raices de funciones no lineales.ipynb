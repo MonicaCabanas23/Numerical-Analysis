{
 "cells": [
  {
   "cell_type": "markdown",
   "metadata": {},
   "source": [
    "# Raices de funciones no lineales"
   ]
  },
  {
   "cell_type": "markdown",
   "metadata": {},
   "source": [
    "## 1. Método de Ridder"
   ]
  },
  {
   "cell_type": "markdown",
   "metadata": {},
   "source": [
    "EncontrarEl método de Ridder es funcional para encontrar raices de funciones no lineales. Este se apoya en métodos conocidos y de fácil compresión como Bisección y Regula Falsi. Utiliza Bisección para realizar una primera aproximación a la raíz en $f(x)$ denominando a ese valor como $x_3$ el cual será de utilidad para encontrar una función $g(x) = f(x)e^{hQ}$. Definiendo los puntos $(x_1, g(x_1)) = a$, $(x_2, g(x_2)) = b$ y $(x_3, g(x_3)) = c$ y la recta $R \\in g(x)$. Se debe cumplir entonces:\n",
    "\n",
    "* $a, b, c \\in R$\n",
    "* $g(x_3) = \\frac{g(x_1) + g(x_2)}{2}$\n",
    "\n",
    "Analizando a partir de las condiciones anteriores, la función $g(x)$ cumple lo siguiente: \n",
    "\\begin{equation}\n",
    "    g(x_1) = f(x_1)e^{0.Q}\n",
    "    \\label{g(x_1)}\n",
    "\\end{equation}\n",
    "\\begin{equation}\n",
    "    g(x_2) = f(x_2)e^{2h.Q}\n",
    "    \\label{g(x_2)}\n",
    "\\end{equation}\n",
    "\\begin{equation}\n",
    "    g(x_3) = f(x_3)e^{h.Q}\n",
    "    \\label{g(x_3)}\n",
    "\\end{equation}\n",
    "\n",
    "\n",
    "Ya que la función $g(x)$ muestra una tendencia lineal en el intérvalo $[x_1, x_2]$ y dentro de este intérvalo existe una raíz real que se aproxima a la que buscamos en $f(x)$ se procede a aplicar Regula Falsi en $g(x)$ para encontrar un valor $x_4$ de la siguiente manera: \n",
    "\n",
    "\\begin{equation}\n",
    "    x_4 = x_3 - \\frac{g(x_3)(x_3 - x_1)}{g(x_3) - g(x_1)}\n",
    "    \\label{root}\n",
    "\\end{equation}\n",
    "\n",
    "Sustituyendo las expresiones \\ref{g(x_1)}, \\ref{g(x_2)} y \\ref{g(x_3)} en \\ref{root} para que quede en función de $f(x)$\n",
    "\n",
    "\\begin{equation}\n",
    "    x_4 = x_3 \\pm (x_3 - x_1) \\frac{f(x_3)}{\\sqrt{f^2(x_3) - f(x_1)f(x_2)}}\n",
    "    \\label{root2}\n",
    "\\end{equation}\n",
    "\n",
    "La ecuación \\ref{root2} es la que se implementará en el programa para encontrar la mejor aproximación en cada iteración."
   ]
  },
  {
   "cell_type": "markdown",
   "metadata": {},
   "source": [
    "### 1.1 Ejemplo práctico"
   ]
  },
  {
   "cell_type": "markdown",
   "metadata": {},
   "source": [
    "Encontrar mediante el método de Ridder la raíz de la función $f(x) = 1/2 - cos(x)$ con una tolerancia de $1x10^{-9}$ para el error absoluto, tal que $x \\in [0, \\pi]$ \n",
    "Definimos la función y el intérvalo inicial:"
   ]
  },
  {
   "cell_type": "code",
   "execution_count": 1,
   "metadata": {},
   "outputs": [],
   "source": [
    "import math\n",
    "import pandas as pd\n",
    "import matplotlib.pyplot as plt\n",
    "import numpy as np"
   ]
  },
  {
   "cell_type": "code",
   "execution_count": 2,
   "metadata": {},
   "outputs": [],
   "source": [
    "a0 = 0\n",
    "b0 = math.pi\n",
    "c0 = (a0 + b0)/2\n",
    "f0 = lambda x: 1/2 - math.cos(x)\n",
    "TOL = 1e-9\n",
    "table = {\"n\":[],\n",
    "        \"a\":[],\n",
    "        \"b\":[],\n",
    "        \"f(a)\":[],\n",
    "        \"f(b)\":[],\n",
    "        \"c\":[],\n",
    "        \"f(c)\":[],\n",
    "        \"f(a)-f(b)\":[],\n",
    "        \"d\":[],\n",
    "        \"f(d)\":[],\n",
    "        \"ERROR\":[]}"
   ]
  },
  {
   "cell_type": "markdown",
   "metadata": {},
   "source": [
    "##### 1.1 Implementación del método de Ridder en python"
   ]
  },
  {
   "cell_type": "code",
   "execution_count": 3,
   "metadata": {},
   "outputs": [],
   "source": [
    "def ridder (f, a, b, TOL):\n",
    "    c = 0.5 * (a + b)\n",
    "    oldRoot = c\n",
    "    n = 1\n",
    "    \n",
    "    while True:\n",
    "        # Executing iteration of the method\n",
    "        c = 0.5 * (a + b)\n",
    "        s = math.sqrt(f(c)**2-f(a)*f(b))\n",
    "        if s == 0:\n",
    "            d = c\n",
    "            break\n",
    "            \n",
    "        if f(a) - f(b) > 0:\n",
    "            d = c+(c-a)*f(c)/math.sqrt(f(c)**2-f(a)*f(b))\n",
    "        else:\n",
    "            d = c-(c-a)*f(c)/math.sqrt(f(c)**2-f(a)*f(b))\n",
    "        \n",
    "        # Saving data in a table\n",
    "        table[\"n\"].append(n)\n",
    "        table[\"a\"].append(a)\n",
    "        table[\"b\"].append(b)\n",
    "        table[\"f(a)\"].append(f(a))\n",
    "        table[\"f(b)\"].append(f(b))\n",
    "        table[\"c\"].append(c)\n",
    "        table[\"f(c)\"].append(f(c))\n",
    "        table[\"f(a)-f(b)\"].append(f(a)-f(b))\n",
    "        table[\"d\"].append(d)\n",
    "        table[\"f(d)\"].append(f(d))\n",
    "        table[\"ERROR\"].append(abs(oldRoot-d))\n",
    "              \n",
    "        # Finding the new interval\n",
    "        if f(c) * f(d) <= 0:\n",
    "            if c < d: \n",
    "                a = c\n",
    "                b = d\n",
    "            else:\n",
    "                a = d\n",
    "                b = c\n",
    "        else:\n",
    "            if f(b) * f(d) < 0:\n",
    "                a = d\n",
    "            else: \n",
    "                b = d\n",
    "        \n",
    "        # Evaluating error\n",
    "        if abs(oldRoot - d) <= TOL:\n",
    "            break\n",
    "        oldRoot = d\n",
    "        n+=1\n",
    "        \n",
    "            \n",
    "    return d"
   ]
  },
  {
   "cell_type": "markdown",
   "metadata": {},
   "source": [
    "Al tener ya definido el intérvalo y la función a utilizar solamente queda como último paso el llamar la función ridder con los parámetros necesarios, en este caso: f, a, b, TOL"
   ]
  },
  {
   "cell_type": "code",
   "execution_count": 4,
   "metadata": {},
   "outputs": [
    {
     "data": {
      "text/plain": [
       "1.0471975511965976"
      ]
     },
     "execution_count": 4,
     "metadata": {},
     "output_type": "execute_result"
    }
   ],
   "source": [
    "ridder(f0, a0, b0, TOL)"
   ]
  },
  {
   "cell_type": "markdown",
   "metadata": {},
   "source": [
    "### 1.2 Visualización de iteraciones\n",
    "Si deseamos ver los valores que se obtienen con cada iteración entonces lo podemos visualizar con el siguiente código:"
   ]
  },
  {
   "cell_type": "code",
   "execution_count": 5,
   "metadata": {},
   "outputs": [
    {
     "data": {
      "text/html": [
       "<div>\n",
       "<style scoped>\n",
       "    .dataframe tbody tr th:only-of-type {\n",
       "        vertical-align: middle;\n",
       "    }\n",
       "\n",
       "    .dataframe tbody tr th {\n",
       "        vertical-align: top;\n",
       "    }\n",
       "\n",
       "    .dataframe thead th {\n",
       "        text-align: right;\n",
       "    }\n",
       "</style>\n",
       "<table border=\"1\" class=\"dataframe\">\n",
       "  <thead>\n",
       "    <tr style=\"text-align: right;\">\n",
       "      <th></th>\n",
       "      <th>n</th>\n",
       "      <th>a</th>\n",
       "      <th>b</th>\n",
       "      <th>f(a)</th>\n",
       "      <th>f(b)</th>\n",
       "      <th>c</th>\n",
       "      <th>f(c)</th>\n",
       "      <th>f(a)-f(b)</th>\n",
       "      <th>d</th>\n",
       "      <th>f(d)</th>\n",
       "      <th>ERROR</th>\n",
       "    </tr>\n",
       "  </thead>\n",
       "  <tbody>\n",
       "    <tr>\n",
       "      <th>0</th>\n",
       "      <td>1</td>\n",
       "      <td>0.000000</td>\n",
       "      <td>3.141593</td>\n",
       "      <td>-5.000000e-01</td>\n",
       "      <td>1.500000</td>\n",
       "      <td>1.570796</td>\n",
       "      <td>0.500000</td>\n",
       "      <td>-2.000000</td>\n",
       "      <td>0.785398</td>\n",
       "      <td>-2.071068e-01</td>\n",
       "      <td>7.853982e-01</td>\n",
       "    </tr>\n",
       "    <tr>\n",
       "      <th>1</th>\n",
       "      <td>2</td>\n",
       "      <td>0.785398</td>\n",
       "      <td>1.570796</td>\n",
       "      <td>-2.071068e-01</td>\n",
       "      <td>0.500000</td>\n",
       "      <td>1.178097</td>\n",
       "      <td>0.117317</td>\n",
       "      <td>-0.707107</td>\n",
       "      <td>1.043592</td>\n",
       "      <td>-3.119333e-03</td>\n",
       "      <td>2.581937e-01</td>\n",
       "    </tr>\n",
       "    <tr>\n",
       "      <th>2</th>\n",
       "      <td>3</td>\n",
       "      <td>1.043592</td>\n",
       "      <td>1.178097</td>\n",
       "      <td>-3.119333e-03</td>\n",
       "      <td>0.117317</td>\n",
       "      <td>1.110845</td>\n",
       "      <td>0.056095</td>\n",
       "      <td>-0.120436</td>\n",
       "      <td>1.047191</td>\n",
       "      <td>-5.266679e-06</td>\n",
       "      <td>3.599575e-03</td>\n",
       "    </tr>\n",
       "    <tr>\n",
       "      <th>3</th>\n",
       "      <td>4</td>\n",
       "      <td>1.047191</td>\n",
       "      <td>1.110845</td>\n",
       "      <td>-5.266679e-06</td>\n",
       "      <td>0.056095</td>\n",
       "      <td>1.079018</td>\n",
       "      <td>0.027806</td>\n",
       "      <td>-0.056100</td>\n",
       "      <td>1.047198</td>\n",
       "      <td>-2.190126e-09</td>\n",
       "      <td>6.078919e-06</td>\n",
       "    </tr>\n",
       "    <tr>\n",
       "      <th>4</th>\n",
       "      <td>5</td>\n",
       "      <td>1.047198</td>\n",
       "      <td>1.079018</td>\n",
       "      <td>-2.190126e-09</td>\n",
       "      <td>0.027806</td>\n",
       "      <td>1.063108</td>\n",
       "      <td>0.013841</td>\n",
       "      <td>-0.027806</td>\n",
       "      <td>1.047198</td>\n",
       "      <td>-2.292611e-13</td>\n",
       "      <td>2.528675e-09</td>\n",
       "    </tr>\n",
       "    <tr>\n",
       "      <th>5</th>\n",
       "      <td>6</td>\n",
       "      <td>1.047198</td>\n",
       "      <td>1.063108</td>\n",
       "      <td>-2.292611e-13</td>\n",
       "      <td>0.013841</td>\n",
       "      <td>1.055153</td>\n",
       "      <td>0.006905</td>\n",
       "      <td>-0.013841</td>\n",
       "      <td>1.047198</td>\n",
       "      <td>-1.110223e-16</td>\n",
       "      <td>2.646772e-13</td>\n",
       "    </tr>\n",
       "  </tbody>\n",
       "</table>\n",
       "</div>"
      ],
      "text/plain": [
       "   n         a         b          f(a)      f(b)         c      f(c)  \\\n",
       "0  1  0.000000  3.141593 -5.000000e-01  1.500000  1.570796  0.500000   \n",
       "1  2  0.785398  1.570796 -2.071068e-01  0.500000  1.178097  0.117317   \n",
       "2  3  1.043592  1.178097 -3.119333e-03  0.117317  1.110845  0.056095   \n",
       "3  4  1.047191  1.110845 -5.266679e-06  0.056095  1.079018  0.027806   \n",
       "4  5  1.047198  1.079018 -2.190126e-09  0.027806  1.063108  0.013841   \n",
       "5  6  1.047198  1.063108 -2.292611e-13  0.013841  1.055153  0.006905   \n",
       "\n",
       "   f(a)-f(b)         d          f(d)         ERROR  \n",
       "0  -2.000000  0.785398 -2.071068e-01  7.853982e-01  \n",
       "1  -0.707107  1.043592 -3.119333e-03  2.581937e-01  \n",
       "2  -0.120436  1.047191 -5.266679e-06  3.599575e-03  \n",
       "3  -0.056100  1.047198 -2.190126e-09  6.078919e-06  \n",
       "4  -0.027806  1.047198 -2.292611e-13  2.528675e-09  \n",
       "5  -0.013841  1.047198 -1.110223e-16  2.646772e-13  "
      ]
     },
     "metadata": {},
     "output_type": "display_data"
    }
   ],
   "source": [
    "df = pd.DataFrame(table)\n",
    "display(df)"
   ]
  },
  {
   "cell_type": "markdown",
   "metadata": {},
   "source": [
    "### 1.3 Gráficas de funciones\n",
    "#### 1.3.1 Encontrar factor $e^{hQ}$\n",
    "Para entender de una mejor manera cómo funciona el método, visualicemos las gráficas de ambas funciones: $f(x)$ y $g(x)$.\n",
    "Primero, para encontrar $g(x)$ debemos encontrar el factor $e^{hQ}$ por medio de las ecuaciones \\ref{g(x_1)}, \\ref{g(x_2)}, y \\ref{g(x_3)}, y la restricción $g(x_3) = \\frac{g(x_1) + g(x_2)}{2}$, obteniendo la siguiente expresión: \n",
    "\n",
    "\\begin{equation}\n",
    "    e^{hQ} = \\frac{f(x_3) \\pm \\sqrt{f^2(x_3) - f(x_2)f(x_1)}}{f(x_2)}\n",
    "    \\label{k}\n",
    "\\end{equation}\n"
   ]
  },
  {
   "cell_type": "code",
   "execution_count": 6,
   "metadata": {},
   "outputs": [
    {
     "data": {
      "text/plain": [
       "1.0"
      ]
     },
     "execution_count": 6,
     "metadata": {},
     "output_type": "execute_result"
    }
   ],
   "source": [
    "def exponentialFactor (f, a, b, c):\n",
    "    k = (f(c) + np.sign(f(b))*math.sqrt(f(c)**2 - f(a)*f(b)))/f(b)\n",
    "    return k\n",
    "exponentialFactor(f0, a0, b0, c0)"
   ]
  },
  {
   "cell_type": "markdown",
   "metadata": {},
   "source": [
    "#### 1.3.2 Encontrar recta interpolada\n",
    "En segundo lugar, al haber encontrado el factor $e^{hQ}$ encontramos la recta $g(x)$ por medio de los puntos $(x_1, f(x_1))$, $(x_2, f(x_2)e^{2hQ})$, $(x_3, f(x_3)e^{hQ})$. En este paso se pueden aplicar diferentes métodos de interpolación como el polinmio interpolante de Lagrange, diferencias divididas de Newton, interpolación lineal, entre otros. Como se busca que los puntos anteriores sean colineales, al utilizar interpolación lineal obtendremos una buena aproximación de la función que buscamos."
   ]
  },
  {
   "cell_type": "code",
   "execution_count": 7,
   "metadata": {},
   "outputs": [
    {
     "name": "stdout",
     "output_type": "stream",
     "text": [
      "g(x) =  0.6366197723675814 (x - 1.5707963267948966 ) + 0.49999999999999994\n"
     ]
    }
   ],
   "source": [
    "k = exponentialFactor(f0, a0, b0, c0)\n",
    "\n",
    "# Using linear interpolation between a and b\n",
    "g0 = lambda x: ((f0(b0)*k**2 - f0(a0))/(b0-a0))*(x-c0) + f0(c0)*k\n",
    "print(\"g(x) = \", (f0(b0)*k**2 - f0(a0))/(b0-a0), \"(x -\", c0, \")\", \"+\", f0(c0)*k)"
   ]
  },
  {
   "cell_type": "markdown",
   "metadata": {},
   "source": [
    "Como útlimo paso debemos evaluar si esta función cumple con las restricciones necesarias. Para ello se evalúa en la ecuación \n",
    "\\begin{equation}\n",
    "    f(x_1) - 2f(x_3)e^{hQ} + f(b)e^{2hQ} = 0\n",
    "\\end{equation}"
   ]
  },
  {
   "cell_type": "code",
   "execution_count": 8,
   "metadata": {},
   "outputs": [
    {
     "name": "stdout",
     "output_type": "stream",
     "text": [
      "Sí cumple\n",
      "Resultado:  0.0\n"
     ]
    }
   ],
   "source": [
    "# Evaluating wether if g(x) satisfies the first constraint\n",
    "if g0(a0)-2*g0(c0)+g0(b0) == 0:\n",
    "    print ('Sí cumple')\n",
    "else:\n",
    "    print ('No cumple')\n",
    "\n",
    "print(\"Resultado: \", g0(a0)-2*g0(c0)+g0(b0))"
   ]
  },
  {
   "cell_type": "code",
   "execution_count": 9,
   "metadata": {},
   "outputs": [
    {
     "data": {
      "image/png": "[encoded data removed]",
      "text/plain": [
       "<Figure size 432x288 with 1 Axes>"
      ]
     },
     "metadata": {
      "needs_background": "light"
     },
     "output_type": "display_data"
    }
   ],
   "source": [
    "x = np.linspace(a0, b0, 100)\n",
    "d0 = c0-(c0-a0)*f0(c0)/math.sqrt(f0(c0)**2-f0(a0)*f0(b0)) # first iteration\n",
    "\n",
    "plt.plot(x, [f0(i) for i in x], label = 'f(x)', color = 'y')\n",
    "plt.plot([a0, b0, c0, d0],[f0(a0), f0(b0), f0(c0), f0(d0)], 'o', color = 'y')\n",
    "plt.plot(x, [g0(i) for i in x], label = 'g(x)', color = 'b')\n",
    "plt.plot([a0, b0, c0, d0], [g0(a0), g0(b0), g0(c0), g0(d0)], 'o', color = 'b')\n",
    "plt.legend(loc = 'upper left')\n",
    "plt.xticks([a0, b0, c0, d0], ['a', 'b', 'c', 'd'])\n",
    "plt.xlabel('x')\n",
    "plt.ylabel('y')\n",
    "plt.grid()\n",
    "plt.show()"
   ]
  },
  {
   "cell_type": "markdown",
   "metadata": {},
   "source": [
    "### 1.4 Análisis del error"
   ]
  },
  {
   "cell_type": "markdown",
   "metadata": {},
   "source": [
    "#### 1.4.1 Constante asintótica del error\n",
    "Como ya se sabe, el error absoluto de los métodos numéricos se puede encontrar por medio de la siguiente ecuación: \n",
    "\\begin{equation}\n",
    "\\Delta x_{k+1} = c(\\Delta x_k)^p\n",
    "\\end{equation}\n",
    "\\begin{equation}\n",
    "0 < c < 1\n",
    "\\end{equation}\n",
    "\\begin{equation}\n",
    "p > 1\n",
    "\\end{equation}\n",
    "Siendo $c$ la constante asintótica del error, y $p$ el orden de convergencia del método. Para poder analizar el error en el caso particular de $f(x) = 1/2 - cos(x)$ debemos encontrar $c$. Esta constante la podemos encontrar con el siguiente código, tomando el orden de convergencia de $p = \\sqrt{2}$"
   ]
  },
  {
   "cell_type": "code",
   "execution_count": 10,
   "metadata": {},
   "outputs": [
    {
     "name": "stdout",
     "output_type": "stream",
     "text": [
      "Constante asintótica del error por iteración\n"
     ]
    },
    {
     "data": {
      "text/html": [
       "<div>\n",
       "<style scoped>\n",
       "    .dataframe tbody tr th:only-of-type {\n",
       "        vertical-align: middle;\n",
       "    }\n",
       "\n",
       "    .dataframe tbody tr th {\n",
       "        vertical-align: top;\n",
       "    }\n",
       "\n",
       "    .dataframe thead th {\n",
       "        text-align: right;\n",
       "    }\n",
       "</style>\n",
       "<table border=\"1\" class=\"dataframe\">\n",
       "  <thead>\n",
       "    <tr style=\"text-align: right;\">\n",
       "      <th></th>\n",
       "      <th>n</th>\n",
       "      <th>constante asintótica</th>\n",
       "    </tr>\n",
       "  </thead>\n",
       "  <tbody>\n",
       "    <tr>\n",
       "      <th>0</th>\n",
       "      <td>0</td>\n",
       "      <td>nan</td>\n",
       "    </tr>\n",
       "    <tr>\n",
       "      <th>1</th>\n",
       "      <td>1</td>\n",
       "      <td>0.363338</td>\n",
       "    </tr>\n",
       "    <tr>\n",
       "      <th>2</th>\n",
       "      <td>2</td>\n",
       "      <td>0.024428</td>\n",
       "    </tr>\n",
       "    <tr>\n",
       "      <th>3</th>\n",
       "      <td>3</td>\n",
       "      <td>0.01737</td>\n",
       "    </tr>\n",
       "    <tr>\n",
       "      <th>4</th>\n",
       "      <td>4</td>\n",
       "      <td>0.060211</td>\n",
       "    </tr>\n",
       "    <tr>\n",
       "      <th>5</th>\n",
       "      <td>5</td>\n",
       "      <td>0.380945</td>\n",
       "    </tr>\n",
       "  </tbody>\n",
       "</table>\n",
       "</div>"
      ],
      "text/plain": [
       "   n constante asintótica\n",
       "0  0                  nan\n",
       "1  1             0.363338\n",
       "2  2             0.024428\n",
       "3  3              0.01737\n",
       "4  4             0.060211\n",
       "5  5             0.380945"
      ]
     },
     "metadata": {},
     "output_type": "display_data"
    },
    {
     "name": "stdout",
     "output_type": "stream",
     "text": [
      "---------------------------------------------------\n",
      "Promedio de la constante:  0.16925842535200397\n"
     ]
    }
   ],
   "source": [
    "length = len(table[\"ERROR\"])\n",
    "sum = 0\n",
    "\n",
    "table2 = {\"n\":[\"0\"],\n",
    "    \"constante asintótica\": [\"nan\"]}\n",
    "\n",
    "print(\"Constante asintótica del error por iteración\")\n",
    "for i in range(0, length-1):\n",
    "    l0 = table[\"ERROR\"][i+1]/(table[\"ERROR\"][i])**math.sqrt(2) # Asymptotic error constant\n",
    "    table2[\"constante asintótica\"].append(l0)\n",
    "    table2[\"n\"].append(i+1)\n",
    "    sum += l0\n",
    "    \n",
    "avg = sum / (length - 1) # Calculating average for the asymptotic error constant\n",
    "\n",
    "df2 = pd.DataFrame(table2)\n",
    "display(df2)\n",
    "print(\"---------------------------------------------------\")\n",
    "print(\"Promedio de la constante: \", avg)"
   ]
  },
  {
   "cell_type": "markdown",
   "metadata": {},
   "source": [
    "#### 1.4.2 Generalización del error en términos de $|P_{0} - P|$\n",
    "Para generar una función del error para el método, esta depende del orden de convergencia. Si tomamos que el método converge cuadráticamente, el error cometido en cada iteración estará dado por la ecuación\n",
    "\\begin{equation}\n",
    "|P_n - P| = \\lambda^{2^n -1}(|P_0 - P|)^{2^n}\n",
    "\\end{equation}\n",
    "Por otro lado, si consideramos que el método converge con un orden de $\\sqrt(2)$, la ecuación del error sería la siguiente:\n",
    "\n",
    "Para iteraciones pares\n",
    "\\begin{equation}\n",
    "|P_n - P| = \\lambda^{(2^{\\frac{n}{2}}-1)(\\sqrt{2}+1)}(|P_0 - P|)^{2^{\\frac{n}{4}}}\n",
    "\\end{equation}\n",
    "Para iteraciones impares\n",
    "\\begin{equation}\n",
    "|P_n - P| = \\lambda^{2^{\\frac{n+3}{2}}-\\sqrt{2}-1}(|P_0 - P|)^{2^{\\frac{n+1}{4}}}\n",
    "\\end{equation}\n",
    "\n",
    "Visualicemos cada uno de los casos con la constante asintótica del error que acabamos de encontrar para el caso particular de $f(x)$ a continuación"
   ]
  },
  {
   "cell_type": "code",
   "execution_count": 11,
   "metadata": {},
   "outputs": [
    {
     "data": {
      "image/png": "[encoded data removed]",
      "text/plain": [
       "<Figure size 432x288 with 1 Axes>"
      ]
     },
     "metadata": {
      "needs_background": "light"
     },
     "output_type": "display_data"
    }
   ],
   "source": [
    "# Taking ridder as a quadratic order of convergence algorithm\n",
    "e = lambda n: l0**(2**n-1)*(table[\"ERROR\"][0])**2**n\n",
    "\n",
    "# Taking ridder as a sqrt(2) order of convergence algorithm\n",
    "def error (n):\n",
    "    if n % 2 == 0:\n",
    "        return l0**((2**(n/2)-1)*(math.sqrt(2)+1))*(table[\"ERROR\"][0])**(2**(n/4))\n",
    "    else:\n",
    "        return l0**(2**((n+3)/2)-math.sqrt(2)-1)*(table[\"ERROR\"][0])**(2**((n+3)/4))\n",
    "    \n",
    "    \n",
    "plt.plot(table[\"n\"], [e(i) for i in table[\"n\"]], label=\"Estimación con orden de convergencia cuadrática\", color=\"green\")\n",
    "plt.plot(table[\"n\"], [e(i) for i in table[\"n\"]], 'o', color=\"green\")\n",
    "plt.plot(table[\"n\"], [error(i) for i in table[\"n\"]], label=\"Estimación con orden de convergencia sqrt(2)\", color=\"red\")\n",
    "plt.plot(table[\"n\"], [error(i) for i in table[\"n\"]], 'o', color=\"red\")\n",
    "plt.plot(table[\"n\"], table[\"ERROR\"], label=\"Error real\", color=\"blue\")\n",
    "plt.plot(table[\"n\"], table[\"ERROR\"], 'o', color=\"blue\")\n",
    "plt.legend(loc = \"lower left\")\n",
    "plt.grid()\n",
    "plt.title(\"Rapidez de convergencia\")\n",
    "plt.xlabel(\"Iteraciones\")\n",
    "plt.ylabel(\"Error absoluto\")\n",
    "plt.yscale(\"log\")\n",
    "plt.show()"
   ]
  },
  {
   "cell_type": "markdown",
   "metadata": {},
   "source": [
    "## 1.5 Más ejemplos prácticos"
   ]
  },
  {
   "cell_type": "markdown",
   "metadata": {},
   "source": [
    "#### 1.5.1\n",
    "Encontrar la solución a la ecuación $\\frac{1}{x} - x^3 = 0$ tal que $x \\in [0.5, 2]$ con una tolerancia de error absoluto de $1x10^{-12}$"
   ]
  },
  {
   "cell_type": "code",
   "execution_count": 12,
   "metadata": {},
   "outputs": [
    {
     "data": {
      "text/plain": [
       "1.0"
      ]
     },
     "execution_count": 12,
     "metadata": {},
     "output_type": "execute_result"
    }
   ],
   "source": [
    "a1 = 1/2\n",
    "b1 = 2\n",
    "c1 = (a1 + b1)*0.5\n",
    "f1 = lambda x: 1/x - x**3\n",
    "TOL = 1e-12\n",
    "table = {\"n\":[],\n",
    "        \"a\":[],\n",
    "        \"b\":[],\n",
    "        \"f(a)\":[],\n",
    "        \"f(b)\":[],\n",
    "        \"c\":[],\n",
    "        \"f(c)\":[],\n",
    "        \"f(a)-f(b)\":[],\n",
    "        \"d\":[],\n",
    "        \"f(d)\":[],\n",
    "        \"ERROR\":[]}\n",
    "ridder(f1, a1, b1, TOL)"
   ]
  },
  {
   "cell_type": "code",
   "execution_count": 13,
   "metadata": {},
   "outputs": [
    {
     "data": {
      "text/html": [
       "<div>\n",
       "<style scoped>\n",
       "    .dataframe tbody tr th:only-of-type {\n",
       "        vertical-align: middle;\n",
       "    }\n",
       "\n",
       "    .dataframe tbody tr th {\n",
       "        vertical-align: top;\n",
       "    }\n",
       "\n",
       "    .dataframe thead th {\n",
       "        text-align: right;\n",
       "    }\n",
       "</style>\n",
       "<table border=\"1\" class=\"dataframe\">\n",
       "  <thead>\n",
       "    <tr style=\"text-align: right;\">\n",
       "      <th></th>\n",
       "      <th>n</th>\n",
       "      <th>a</th>\n",
       "      <th>b</th>\n",
       "      <th>f(a)</th>\n",
       "      <th>f(b)</th>\n",
       "      <th>c</th>\n",
       "      <th>f(c)</th>\n",
       "      <th>f(a)-f(b)</th>\n",
       "      <th>d</th>\n",
       "      <th>f(d)</th>\n",
       "      <th>ERROR</th>\n",
       "    </tr>\n",
       "  </thead>\n",
       "  <tbody>\n",
       "    <tr>\n",
       "      <th>0</th>\n",
       "      <td>1</td>\n",
       "      <td>0.500000</td>\n",
       "      <td>2.000000</td>\n",
       "      <td>1.875000e+00</td>\n",
       "      <td>-7.500000</td>\n",
       "      <td>1.250000</td>\n",
       "      <td>-1.153125e+00</td>\n",
       "      <td>9.375000</td>\n",
       "      <td>1.029562</td>\n",
       "      <td>-1.200449e-01</td>\n",
       "      <td>2.204384e-01</td>\n",
       "    </tr>\n",
       "    <tr>\n",
       "      <th>1</th>\n",
       "      <td>2</td>\n",
       "      <td>0.500000</td>\n",
       "      <td>1.029562</td>\n",
       "      <td>1.875000e+00</td>\n",
       "      <td>-0.120045</td>\n",
       "      <td>0.764781</td>\n",
       "      <td>8.602519e-01</td>\n",
       "      <td>1.995045</td>\n",
       "      <td>0.996639</td>\n",
       "      <td>1.342258e-02</td>\n",
       "      <td>3.292283e-02</td>\n",
       "    </tr>\n",
       "    <tr>\n",
       "      <th>2</th>\n",
       "      <td>3</td>\n",
       "      <td>0.996639</td>\n",
       "      <td>1.029562</td>\n",
       "      <td>1.342258e-02</td>\n",
       "      <td>-0.120045</td>\n",
       "      <td>1.013100</td>\n",
       "      <td>-5.274825e-02</td>\n",
       "      <td>0.133467</td>\n",
       "      <td>1.000000</td>\n",
       "      <td>-1.861211e-06</td>\n",
       "      <td>3.361740e-03</td>\n",
       "    </tr>\n",
       "    <tr>\n",
       "      <th>3</th>\n",
       "      <td>4</td>\n",
       "      <td>0.996639</td>\n",
       "      <td>1.000000</td>\n",
       "      <td>1.342258e-02</td>\n",
       "      <td>-0.000002</td>\n",
       "      <td>0.998320</td>\n",
       "      <td>6.715982e-03</td>\n",
       "      <td>0.013424</td>\n",
       "      <td>1.000000</td>\n",
       "      <td>3.966605e-12</td>\n",
       "      <td>4.653037e-07</td>\n",
       "    </tr>\n",
       "    <tr>\n",
       "      <th>4</th>\n",
       "      <td>5</td>\n",
       "      <td>1.000000</td>\n",
       "      <td>1.000000</td>\n",
       "      <td>3.966605e-12</td>\n",
       "      <td>-0.000002</td>\n",
       "      <td>1.000000</td>\n",
       "      <td>-9.306035e-07</td>\n",
       "      <td>0.000002</td>\n",
       "      <td>1.000000</td>\n",
       "      <td>0.000000e+00</td>\n",
       "      <td>9.916512e-13</td>\n",
       "    </tr>\n",
       "  </tbody>\n",
       "</table>\n",
       "</div>"
      ],
      "text/plain": [
       "   n         a         b          f(a)      f(b)         c          f(c)  \\\n",
       "0  1  0.500000  2.000000  1.875000e+00 -7.500000  1.250000 -1.153125e+00   \n",
       "1  2  0.500000  1.029562  1.875000e+00 -0.120045  0.764781  8.602519e-01   \n",
       "2  3  0.996639  1.029562  1.342258e-02 -0.120045  1.013100 -5.274825e-02   \n",
       "3  4  0.996639  1.000000  1.342258e-02 -0.000002  0.998320  6.715982e-03   \n",
       "4  5  1.000000  1.000000  3.966605e-12 -0.000002  1.000000 -9.306035e-07   \n",
       "\n",
       "   f(a)-f(b)         d          f(d)         ERROR  \n",
       "0   9.375000  1.029562 -1.200449e-01  2.204384e-01  \n",
       "1   1.995045  0.996639  1.342258e-02  3.292283e-02  \n",
       "2   0.133467  1.000000 -1.861211e-06  3.361740e-03  \n",
       "3   0.013424  1.000000  3.966605e-12  4.653037e-07  \n",
       "4   0.000002  1.000000  0.000000e+00  9.916512e-13  "
      ]
     },
     "metadata": {},
     "output_type": "display_data"
    }
   ],
   "source": [
    "df = pd.DataFrame(table)\n",
    "display(df)"
   ]
  },
  {
   "cell_type": "code",
   "execution_count": 14,
   "metadata": {},
   "outputs": [
    {
     "name": "stdout",
     "output_type": "stream",
     "text": [
      "g(x) =  -3.5406648879774316 (x - 1.25 ) + -0.7804986659830736\n"
     ]
    }
   ],
   "source": [
    "k = exponentialFactor(f1, a1, b1, c1)\n",
    "\n",
    "# Using linear interpolation between a and b\n",
    "g1 = lambda x: ((f1(b1)*k**2 - f1(a1))/(b1-a1))*(x-c1) + f1(c1)*k\n",
    "print(\"g(x) = \", (f1(b1)*k**2 - f1(a1))/(b1-a1), \"(x -\", c1, \")\", \"+\", f1(c1)*k)"
   ]
  },
  {
   "cell_type": "code",
   "execution_count": 15,
   "metadata": {},
   "outputs": [
    {
     "name": "stdout",
     "output_type": "stream",
     "text": [
      "Sí cumple\n",
      "Resultado:  0.0\n"
     ]
    }
   ],
   "source": [
    "# Evaluating wether if g(x) satisfies the first constraint\n",
    "if g1(a1)-2*g1(c1)+g1(b1) == 0:\n",
    "    print ('Sí cumple')\n",
    "else:\n",
    "    print ('No cumple')\n",
    "\n",
    "print(\"Resultado: \", g1(a1)-2*g1(c1)+g1(b1))"
   ]
  },
  {
   "cell_type": "code",
   "execution_count": 16,
   "metadata": {},
   "outputs": [
    {
     "data": {
      "image/png": "[encoded data removed]",
      "text/plain": [
       "<Figure size 432x288 with 1 Axes>"
      ]
     },
     "metadata": {
      "needs_background": "light"
     },
     "output_type": "display_data"
    }
   ],
   "source": [
    "x = np.linspace(a1, b1, 100)\n",
    "d1 = c1-(c1-a1)*f1(c1)/math.sqrt(f1(c1)**2-f1(a1)*f1(b1)) # first iteration\n",
    "\n",
    "plt.plot(x, [f1(i) for i in x], label = 'f(x)', color = 'y')\n",
    "plt.plot([a1, b1, c1, d1],[f1(a1), f1(b1), f1(c1), f1(d1)], 'o', color = 'y')\n",
    "plt.plot(x, [g1(i) for i in x], label = 'g(x)', color = 'b')\n",
    "plt.plot([a1, b1, c1, d1], [g1(a1), g1(b1), g1(c1), g1(d1)], 'o', color = 'b')\n",
    "plt.legend(loc = 'lower left')\n",
    "plt.xticks([a1, b1, c1, d1], ['a', 'b', 'c', 'd'])\n",
    "plt.xlabel('x')\n",
    "plt.ylabel('y')\n",
    "plt.grid()\n",
    "plt.show()"
   ]
  },
  {
   "cell_type": "code",
   "execution_count": 17,
   "metadata": {},
   "outputs": [
    {
     "name": "stdout",
     "output_type": "stream",
     "text": [
      "Constante asintótica del error por iteración\n"
     ]
    },
    {
     "data": {
      "text/html": [
       "<div>\n",
       "<style scoped>\n",
       "    .dataframe tbody tr th:only-of-type {\n",
       "        vertical-align: middle;\n",
       "    }\n",
       "\n",
       "    .dataframe tbody tr th {\n",
       "        vertical-align: top;\n",
       "    }\n",
       "\n",
       "    .dataframe thead th {\n",
       "        text-align: right;\n",
       "    }\n",
       "</style>\n",
       "<table border=\"1\" class=\"dataframe\">\n",
       "  <thead>\n",
       "    <tr style=\"text-align: right;\">\n",
       "      <th></th>\n",
       "      <th>n</th>\n",
       "      <th>constante asintótica</th>\n",
       "    </tr>\n",
       "  </thead>\n",
       "  <tbody>\n",
       "    <tr>\n",
       "      <th>0</th>\n",
       "      <td>0</td>\n",
       "      <td>nan</td>\n",
       "    </tr>\n",
       "    <tr>\n",
       "      <th>1</th>\n",
       "      <td>1</td>\n",
       "      <td>0.279402</td>\n",
       "    </tr>\n",
       "    <tr>\n",
       "      <th>2</th>\n",
       "      <td>2</td>\n",
       "      <td>0.419894</td>\n",
       "    </tr>\n",
       "    <tr>\n",
       "      <th>3</th>\n",
       "      <td>3</td>\n",
       "      <td>0.001465</td>\n",
       "    </tr>\n",
       "    <tr>\n",
       "      <th>4</th>\n",
       "      <td>4</td>\n",
       "      <td>0.000894</td>\n",
       "    </tr>\n",
       "  </tbody>\n",
       "</table>\n",
       "</div>"
      ],
      "text/plain": [
       "   n constante asintótica\n",
       "0  0                  nan\n",
       "1  1             0.279402\n",
       "2  2             0.419894\n",
       "3  3             0.001465\n",
       "4  4             0.000894"
      ]
     },
     "metadata": {},
     "output_type": "display_data"
    },
    {
     "name": "stdout",
     "output_type": "stream",
     "text": [
      "---------------------------------------------------\n",
      "Promedio de la constante:  0.17541370751818935\n"
     ]
    }
   ],
   "source": [
    "length = len(table[\"ERROR\"])\n",
    "sum = 0\n",
    "\n",
    "table2 = {\"n\":[\"0\"],\n",
    "    \"constante asintótica\": [\"nan\"]}\n",
    "\n",
    "print(\"Constante asintótica del error por iteración\")\n",
    "for i in range(0, length-1):\n",
    "    l1 = table[\"ERROR\"][i+1]/(table[\"ERROR\"][i])**math.sqrt(2) # Asymptotic error constant\n",
    "    table2[\"constante asintótica\"].append(l1)\n",
    "    table2[\"n\"].append(i+1)\n",
    "    sum += l1\n",
    "    \n",
    "avg = sum / (length - 1) # Calculating average for the asymptotic error constant\n",
    "\n",
    "df2 = pd.DataFrame(table2)\n",
    "display(df2)\n",
    "print(\"---------------------------------------------------\")\n",
    "print(\"Promedio de la constante: \", avg)"
   ]
  },
  {
   "cell_type": "code",
   "execution_count": 18,
   "metadata": {},
   "outputs": [
    {
     "data": {
      "image/png": "[encoded data removed]",
      "text/plain": [
       "<Figure size 432x288 with 1 Axes>"
      ]
     },
     "metadata": {
      "needs_background": "light"
     },
     "output_type": "display_data"
    }
   ],
   "source": [
    "# Taking ridder as a quadratic order of convergence algorithm\n",
    "e = lambda n: l1**(2**n-1)*(table[\"ERROR\"][0])**2**n\n",
    "\n",
    "# Taking ridder as a sqrt(2) order of convergence algorithm\n",
    "def error (n):\n",
    "    if n % 2 == 0:\n",
    "        return l1**((2**(n/2)-1)*(math.sqrt(2)+1))*(table[\"ERROR\"][0])**(2**(n/4))\n",
    "    else:\n",
    "        return l1**(2**((n+3)/2)-math.sqrt(2)-1)*(table[\"ERROR\"][0])**(2**((n+3)/4))\n",
    "    \n",
    "    \n",
    "plt.plot(table[\"n\"], [e(i) for i in table[\"n\"]], label=\"Estimación con orden de convergencia cuadrática\", color=\"green\")\n",
    "plt.plot(table[\"n\"], [e(i) for i in table[\"n\"]], 'o', color=\"green\")\n",
    "plt.plot(table[\"n\"], [error(i) for i in table[\"n\"]], label=\"Estimación con orden de convergencia sqrt(2)\", color=\"red\")\n",
    "plt.plot(table[\"n\"], [error(i) for i in table[\"n\"]], 'o', color=\"red\")\n",
    "plt.plot(table[\"n\"], table[\"ERROR\"], label=\"Error real\", color=\"blue\")\n",
    "plt.plot(table[\"n\"], table[\"ERROR\"], 'o', color=\"blue\")\n",
    "plt.legend(loc = \"lower left\")\n",
    "plt.grid()\n",
    "plt.title(\"Rapidez de convergencia\")\n",
    "plt.xlabel(\"Iteraciones\")\n",
    "plt.ylabel(\"Error absoluto\")\n",
    "plt.yscale(\"log\")\n",
    "plt.show()"
   ]
  },
  {
   "cell_type": "markdown",
   "metadata": {},
   "source": [
    "#### 1.5.2"
   ]
  },
  {
   "cell_type": "markdown",
   "metadata": {},
   "source": [
    "Una artesa de longitud L tiene una sección transversal en forma de semicírculo con radio r. Cuando se llena con agua hasta una distancia h desde la parte superior, el volumen de agua es\n",
    "\\begin{equation}\n",
    "    V = L(\\frac{\\pi r^2}{2} - r^2arcsin(\\frac{h}{r})-h\\sqrt{r^2-h^2})\n",
    "\\end{equation}\n",
    "Suponga que $L = 10$ $m$, $r = 1$ $m$ y que $V = 12.4$ $m^3$. Probar que existe un $h \\in [0,1]$ que satisface la ecuación anterior. Encuentre la profundidad D del agua en la artesa.\n",
    "\\begin{equation}\n",
    "    D = r - h\n",
    "\\end{equation}"
   ]
  },
  {
   "cell_type": "code",
   "execution_count": 19,
   "metadata": {},
   "outputs": [
    {
     "data": {
      "text/plain": [
       "0.1661660344147638"
      ]
     },
     "execution_count": 19,
     "metadata": {},
     "output_type": "execute_result"
    }
   ],
   "source": [
    "# Initializing values\n",
    "a2 = 0\n",
    "b2 = 1\n",
    "c2 = (a2 + b2)*0.5\n",
    "# Defining the function to evaluate\n",
    "f2 = lambda x: 10*(math.pi/2 - math.asin(x) - x*math.sqrt(1-x**2)) -12.4\n",
    "# Arbitrary absolute error tolerance\n",
    "TOL = 1e-6\n",
    "table = {\"n\":[],\n",
    "        \"a\":[],\n",
    "        \"b\":[],\n",
    "        \"f(a)\":[],\n",
    "        \"f(b)\":[],\n",
    "        \"c\":[],\n",
    "        \"f(c)\":[],\n",
    "        \"f(a)-f(b)\":[],\n",
    "        \"d\":[],\n",
    "        \"f(d)\":[],\n",
    "        \"ERROR\":[]}\n",
    "ridder(f2, a2, b2, TOL)"
   ]
  },
  {
   "cell_type": "code",
   "execution_count": 20,
   "metadata": {},
   "outputs": [
    {
     "data": {
      "text/html": [
       "<div>\n",
       "<style scoped>\n",
       "    .dataframe tbody tr th:only-of-type {\n",
       "        vertical-align: middle;\n",
       "    }\n",
       "\n",
       "    .dataframe tbody tr th {\n",
       "        vertical-align: top;\n",
       "    }\n",
       "\n",
       "    .dataframe thead th {\n",
       "        text-align: right;\n",
       "    }\n",
       "</style>\n",
       "<table border=\"1\" class=\"dataframe\">\n",
       "  <thead>\n",
       "    <tr style=\"text-align: right;\">\n",
       "      <th></th>\n",
       "      <th>n</th>\n",
       "      <th>a</th>\n",
       "      <th>b</th>\n",
       "      <th>f(a)</th>\n",
       "      <th>f(b)</th>\n",
       "      <th>c</th>\n",
       "      <th>f(c)</th>\n",
       "      <th>f(a)-f(b)</th>\n",
       "      <th>d</th>\n",
       "      <th>f(d)</th>\n",
       "      <th>ERROR</th>\n",
       "    </tr>\n",
       "  </thead>\n",
       "  <tbody>\n",
       "    <tr>\n",
       "      <th>0</th>\n",
       "      <td>1</td>\n",
       "      <td>0.000000</td>\n",
       "      <td>1.000000</td>\n",
       "      <td>3.307963</td>\n",
       "      <td>-12.400000</td>\n",
       "      <td>0.500000</td>\n",
       "      <td>-6.258152</td>\n",
       "      <td>15.707963</td>\n",
       "      <td>0.150559</td>\n",
       "      <td>3.082067e-01</td>\n",
       "      <td>3.494414e-01</td>\n",
       "    </tr>\n",
       "    <tr>\n",
       "      <th>1</th>\n",
       "      <td>2</td>\n",
       "      <td>0.150559</td>\n",
       "      <td>0.500000</td>\n",
       "      <td>0.308207</td>\n",
       "      <td>-6.258152</td>\n",
       "      <td>0.325279</td>\n",
       "      <td>-3.081007</td>\n",
       "      <td>6.566358</td>\n",
       "      <td>0.165993</td>\n",
       "      <td>3.404147e-03</td>\n",
       "      <td>1.543484e-02</td>\n",
       "    </tr>\n",
       "    <tr>\n",
       "      <th>2</th>\n",
       "      <td>3</td>\n",
       "      <td>0.165993</td>\n",
       "      <td>0.325279</td>\n",
       "      <td>0.003404</td>\n",
       "      <td>-3.081007</td>\n",
       "      <td>0.245636</td>\n",
       "      <td>-1.554904</td>\n",
       "      <td>3.084411</td>\n",
       "      <td>0.166166</td>\n",
       "      <td>8.226342e-06</td>\n",
       "      <td>1.721873e-04</td>\n",
       "    </tr>\n",
       "    <tr>\n",
       "      <th>3</th>\n",
       "      <td>4</td>\n",
       "      <td>0.166166</td>\n",
       "      <td>0.245636</td>\n",
       "      <td>0.000008</td>\n",
       "      <td>-1.554904</td>\n",
       "      <td>0.205901</td>\n",
       "      <td>-0.780771</td>\n",
       "      <td>1.554912</td>\n",
       "      <td>0.166166</td>\n",
       "      <td>4.804354e-09</td>\n",
       "      <td>4.168723e-07</td>\n",
       "    </tr>\n",
       "  </tbody>\n",
       "</table>\n",
       "</div>"
      ],
      "text/plain": [
       "   n         a         b      f(a)       f(b)         c      f(c)  f(a)-f(b)  \\\n",
       "0  1  0.000000  1.000000  3.307963 -12.400000  0.500000 -6.258152  15.707963   \n",
       "1  2  0.150559  0.500000  0.308207  -6.258152  0.325279 -3.081007   6.566358   \n",
       "2  3  0.165993  0.325279  0.003404  -3.081007  0.245636 -1.554904   3.084411   \n",
       "3  4  0.166166  0.245636  0.000008  -1.554904  0.205901 -0.780771   1.554912   \n",
       "\n",
       "          d          f(d)         ERROR  \n",
       "0  0.150559  3.082067e-01  3.494414e-01  \n",
       "1  0.165993  3.404147e-03  1.543484e-02  \n",
       "2  0.166166  8.226342e-06  1.721873e-04  \n",
       "3  0.166166  4.804354e-09  4.168723e-07  "
      ]
     },
     "metadata": {},
     "output_type": "display_data"
    }
   ],
   "source": [
    "df = pd.DataFrame(table)\n",
    "display(df)"
   ]
  },
  {
   "cell_type": "markdown",
   "metadata": {},
   "source": [
    "Encontrando la profundidad de la artesa"
   ]
  },
  {
   "cell_type": "code",
   "execution_count": 21,
   "metadata": {},
   "outputs": [
    {
     "data": {
      "text/plain": [
       "0.8338339655852363"
      ]
     },
     "execution_count": 21,
     "metadata": {},
     "output_type": "execute_result"
    }
   ],
   "source": [
    "def depth(r, h):\n",
    "    return r-h\n",
    "depth(1, ridder(f2, a2, b2, TOL))"
   ]
  },
  {
   "cell_type": "markdown",
   "metadata": {},
   "source": [
    "# 2. Método de Halley\n",
    "\n",
    "El método de Halley es funcional para encontrar raíces de funciones no lineales. este es un algoritmo para encontrar un cero de una función utilizada cuando la función sea de variable real posible de derivar 2 veces, siendo su segunda derivada continua. también podemos considerar que este método solo es una generalización del método de newton, con convergencia cúbica.\n",
    "\n",
    "### Deducción del método\n",
    "\n",
    "Como lo hemos presentado con anterioridad este método viene generalizado por el método de newton así que partiremos con su aplicación a la función.\n",
    "\n",
    "$$g = \\frac{f}{\\sqrt{f'}}$$\n",
    "asi es que $$x_{n+1} = x_{n} \\frac{g(x)}{\\sqrt{g'(x)}}$$\n",
    "con $$g'(x) = \\frac{2[f'(x)]^2 - f(x)f''(x)}{\\sqrt{2f'(x)\\sqrt{f'(x)}}}$$\n",
    "\n",
    "\n",
    "y dado esto es que se estima que sí $f'(c) = 0$ se aplicara solo si g puede extenderse a c.\n",
    "\n",
    "presentamos la ecuación general de Halley para el desarrollo de todo nuestro trabajo:\n",
    "\n",
    "$$x_{n+1} = x_{n} -\\frac{2f(x_{n})f'(x_{n})}{2f'(x_{n})^2-f(x_{n})f''(x_{n})}$$"
   ]
  },
  {
   "cell_type": "markdown",
   "metadata": {},
   "source": [
    "<font color=\"green\"> Ahora bien, para comprender el método nos ayudaremos del siguiente ejemplo práctico.</font>\n",
    "\n",
    "### Ejemplo Practico 1 \n",
    "Encontrar mediante el método de Halley la raíz de la función $f(x)=1/2-cos(x)$ con una tolerancia de $1x10^-9$ para el error absoluto, tal que $x \\in [0,\\pi]$ definimos la función y el intervalo inicial."
   ]
  },
  {
   "cell_type": "code",
   "execution_count": 22,
   "metadata": {},
   "outputs": [],
   "source": [
    "# importar todas las funciones de pylab\n",
    "from pylab import *\n",
    "\n",
    "# importar el módulo pyplot\n",
    "import matplotlib.pyplot as plt"
   ]
  },
  {
   "cell_type": "code",
   "execution_count": 23,
   "metadata": {},
   "outputs": [
    {
     "data": {
      "image/png": "[encoded data removed]",
      "text/plain": [
       "<Figure size 432x288 with 1 Axes>"
      ]
     },
     "metadata": {
      "needs_background": "light"
     },
     "output_type": "display_data"
    }
   ],
   "source": [
    "from math import *\n",
    "from numpy import *\n",
    "\n",
    "t = arange(0.1, 20, 0.1)\n",
    "\n",
    "y1 = 1/2-cos(t)\n",
    "p1 = plot(t, y1)\n",
    "\n",
    "# Texto en la gráfica en coordenadas (x,y)\n",
    "texto1 = text(8, -0.25, r'$\\frac{1}{2}-cos(x)$', fontsize=12)\n",
    "# Añado una malla al gráfico\n",
    "grid()\n",
    "\n",
    "title('Representacion de funciones')\n",
    "xlabel('x')\n",
    "ylabel('y')\n",
    "show()"
   ]
  },
  {
   "cell_type": "markdown",
   "metadata": {},
   "source": [
    "## 2.2. Algoritmo del método de Halley\n",
    "A continuación, presentaremos el algoritmo o código del método de Halley para luego continuar a sacar su convergencia y otras definiciones para concluir con dicho método.\n",
    "\n",
    "haremos uso de la formula general de Halley:\n",
    "\n",
    "$$x_{n+1} = x_{n} -\\frac{2f(x_{n})f'(x_{n})}{2f'(x_{n})^2-f(x_{n})f''(x_{n})}$$"
   ]
  },
  {
   "cell_type": "markdown",
   "metadata": {},
   "source": [
    "Ahora bien, importemos la librerías que no servirán para el desarrollo de nuestro algoritmo"
   ]
  },
  {
   "cell_type": "code",
   "execution_count": 24,
   "metadata": {},
   "outputs": [
    {
     "name": "stdout",
     "output_type": "stream",
     "text": [
      "Requirement already satisfied: tabulate in c:\\users\\lisbe\\appdata\\local\\programs\\python\\python310\\lib\\site-packages (0.8.9)\n",
      "Note: you may need to restart the kernel to use updated packages.\n"
     ]
    }
   ],
   "source": [
    "pip install tabulate"
   ]
  },
  {
   "cell_type": "code",
   "execution_count": 25,
   "metadata": {},
   "outputs": [],
   "source": [
    "from tabulate import tabulate"
   ]
  },
  {
   "cell_type": "code",
   "execution_count": 26,
   "metadata": {},
   "outputs": [],
   "source": [
    "import math\n",
    "from math import exp, sqrt, sin, cos, pi"
   ]
  },
  {
   "cell_type": "markdown",
   "metadata": {},
   "source": [
    "Definamos nuestra función con su primera y segunda derivada"
   ]
  },
  {
   "cell_type": "code",
   "execution_count": 27,
   "metadata": {},
   "outputs": [],
   "source": [
    "#función del ejercicio \n",
    "def f(t):\n",
    "    return 1/2-cos(t)\n",
    "\n",
    "#primera derivada de la función\n",
    "\n",
    "def df(t):\n",
    "    return sin(t)\n",
    "\n",
    "#segunda derivada de la función\n",
    "\n",
    "def d2f(t):\n",
    "    return cos(t)"
   ]
  },
  {
   "cell_type": "code",
   "execution_count": 28,
   "metadata": {},
   "outputs": [
    {
     "data": {
      "text/plain": [
       "-0.5"
      ]
     },
     "execution_count": 28,
     "metadata": {},
     "output_type": "execute_result"
    }
   ],
   "source": [
    "f(0)"
   ]
  },
  {
   "cell_type": "code",
   "execution_count": 29,
   "metadata": {},
   "outputs": [
    {
     "data": {
      "text/plain": [
       "1.5"
      ]
     },
     "execution_count": 29,
     "metadata": {},
     "output_type": "execute_result"
    }
   ],
   "source": [
    "f(pi)"
   ]
  },
  {
   "cell_type": "code",
   "execution_count": 30,
   "metadata": {},
   "outputs": [
    {
     "data": {
      "text/plain": [
       "0.49999999999999994"
      ]
     },
     "execution_count": 30,
     "metadata": {},
     "output_type": "execute_result"
    }
   ],
   "source": [
    "f(pi/2)"
   ]
  },
  {
   "cell_type": "markdown",
   "metadata": {},
   "source": [
    "Definamos variables donde:\n",
    "- __iter:__ número de iteraciones máximas\n",
    "- __tol:__ tolerancia \n",
    "- __p0:__ valor inicial\n",
    "- __listahalley:__ lista para representar el número de iteraciones\n",
    "\n",
    "para __iter__ y __p0__ haremos uso de nuestro intervalo de $[0,\\pi]$"
   ]
  },
  {
   "cell_type": "code",
   "execution_count": 31,
   "metadata": {},
   "outputs": [],
   "source": [
    "iter=pi\n",
    "tol=10**(-9)\n",
    "p0=0\n",
    "listahalley=[]"
   ]
  },
  {
   "cell_type": "markdown",
   "metadata": {},
   "source": [
    "Presentando el logaritmo de Halley - para la realización del ejercicio anterior nos basaremos en presentar sus valores por medio de tabulaciones."
   ]
  },
  {
   "cell_type": "code",
   "execution_count": 32,
   "metadata": {},
   "outputs": [],
   "source": [
    "#algoritmo de halley\n",
    "def halley(f,p0):                         #definiendo la función halley\n",
    "    p=p0                                 #sobredefiniendo p0\n",
    "    lista=[]                             #definiendo lista simple\n",
    "    pp=\"-\"                              \n",
    "    error=\"-\"\n",
    "    for i in [*range(0, int(float(iter)))]:   #ciclo for para tomar encuenta el intervalo [0,pi]\n",
    "        lista.append([i,p,f(p),df(p),error]) \n",
    "        listahalley.append(p)\n",
    "        pp=p\n",
    "        p=p-2*f(p)*df(p)/2*df(p)**2-f(p)*d2f(p) #formula de halley\n",
    "        errorA=abs(p-pp)                        #encontrar el error de halley\n",
    "        if p!=0:                                #iteraciones hasta encontrar 0\n",
    "            errorB=abs(p-pp)/p\n",
    "        errorC=abs(f(p))\n",
    "        error=errorA\n",
    "        if error<tol:                          #parar hasta que error sea menor que la tolerancia\n",
    "            break                                 \n",
    "    print(tabulate(lista,headers=[\"n\",\"pn\",\"f(pn)\",\"f'(pn)\",\"error\"],tablefmt='fancy_grid')) #imprimiendo resultados en tabulaciones\n",
    "    return p"
   ]
  },
  {
   "cell_type": "markdown",
   "metadata": {},
   "source": [
    "Ya teniendo el logaritmo de Halley procederemos a llamar la función para presentar los valores en tabulaciones. \n",
    "<font color=\"green\"> para ello solo necesitaremos la respectiva función halley con f = función y 0 = el valor inicial x0</font>"
   ]
  },
  {
   "cell_type": "code",
   "execution_count": 33,
   "metadata": {},
   "outputs": [
    {
     "name": "stdout",
     "output_type": "stream",
     "text": [
      "╒═════╤══════════╤═══════════╤══════════╤════════════════════╕\n",
      "│   n │       pn │     f(pn) │   f'(pn) │ error              │\n",
      "╞═════╪══════════╪═══════════╪══════════╪════════════════════╡\n",
      "│   0 │ 0        │ -0.5      │ 0        │ -                  │\n",
      "├─────┼──────────┼───────────┼──────────┼────────────────────┤\n",
      "│   1 │ 0.5      │ -0.377583 │ 0.479426 │ 0.5                │\n",
      "├─────┼──────────┼───────────┼──────────┼────────────────────┤\n",
      "│   2 │ 0.872968 │ -0.142555 │ 0.766239 │ 0.3729677361865782 │\n",
      "╘═════╧══════════╧═══════════╧══════════╧════════════════════╛\n"
     ]
    },
    {
     "data": {
      "text/plain": [
       "1.0286997633054566"
      ]
     },
     "execution_count": 33,
     "metadata": {},
     "output_type": "execute_result"
    }
   ],
   "source": [
    "halley(f,0)"
   ]
  },
  {
   "cell_type": "markdown",
   "metadata": {},
   "source": [
    "## 2.3. Análisis de convergencia \n",
    "como lo hemos demostrado en el trabajo anterior el método de Halley converge con un orden cúbico, por lo que podemos decir que, si lo comparamos con el método de newton que es su generalización, va a converger más ligero siendo más eficiente ya que el método de newton tiende a converger a un orden cuadrático.\n",
    "\n",
    "por tanto, vamos a derivar la fórmula 1 de Halley para encontrar su análisis de convergencia y también haremos lo mismo con el de newton para verificar que Halley converge más rápido\n",
    "\n",
    "al derivar la ecuación 1 de Halley tenemos:\n",
    "$$g'(x)=\\frac{d}{dx}(1-\\frac{2f'(x_{n})^22f'(x_{n})^2}{(2(f'(x_{n}))^2)^2}$$"
   ]
  },
  {
   "cell_type": "markdown",
   "metadata": {},
   "source": [
    "Análisis de convergencia para método de Halley"
   ]
  },
  {
   "cell_type": "code",
   "execution_count": 34,
   "metadata": {},
   "outputs": [],
   "source": [
    "def g(t):\n",
    "    return abs(1-(2*f(t)**2*2*df(t)**2)/(2*(df(t))**2)**2)"
   ]
  },
  {
   "cell_type": "code",
   "execution_count": 35,
   "metadata": {},
   "outputs": [
    {
     "data": {
      "text/plain": [
       "(0.3797289267985642, 0.34001871334141687, 0.8148067891242188)"
      ]
     },
     "execution_count": 35,
     "metadata": {},
     "output_type": "execute_result"
    }
   ],
   "source": [
    "g(-0.5), g(0.49), g(1.5)"
   ]
  },
  {
   "cell_type": "markdown",
   "metadata": {},
   "source": [
    "Análisis de convergencia para método de Newton\n"
   ]
  },
  {
   "cell_type": "code",
   "execution_count": 36,
   "metadata": {},
   "outputs": [],
   "source": [
    "def g(t):\n",
    "    return abs((f(t)*d2f(t))/df(t)**2)"
   ]
  },
  {
   "cell_type": "code",
   "execution_count": 37,
   "metadata": {},
   "outputs": [
    {
     "data": {
      "text/plain": [
       "(1.4416425238532342, 1.523079071475961, 0.03051755138368333)"
      ]
     },
     "execution_count": 37,
     "metadata": {},
     "output_type": "execute_result"
    }
   ],
   "source": [
    "g(-0.5), g(0.49), g(1.5)"
   ]
  },
  {
   "cell_type": "markdown",
   "metadata": {},
   "source": [
    "Procederemos a graficar para ver su tendencia."
   ]
  },
  {
   "cell_type": "code",
   "execution_count": 38,
   "metadata": {},
   "outputs": [
    {
     "data": {
      "image/png": "[encoded data removed]",
      "text/plain": [
       "<Figure size 432x288 with 1 Axes>"
      ]
     },
     "metadata": {
      "needs_background": "light"
     },
     "output_type": "display_data"
    }
   ],
   "source": [
    "from math import *\n",
    "from numpy import *\n",
    "\n",
    "t = arange(3.1, 5, 0.1)\n",
    "\n",
    "y1 = 1/2-cos(t)*cos(t)/sin(t)                                       #formula derivada de Newton\n",
    "y2 = 1-(2*sin(t)**2*2*sin(t)**2)/(2*sin(t)**2)**2                   #formula derivada de Halley\n",
    "p1, p2 = plot(t, y1, t, y2)\n",
    "\n",
    "# Texto en la gráfica en coordenadas (x,y)\n",
    "texto1 = text(3.3, 10, r'$Newton$', fontsize=15, color='b')\n",
    "texto2 = text(4, -4, r'$Halley$', fontsize=16, color='orange')\n",
    "texto3 = text(5.1, -4, r'Por tanto podemos concluir que el método de Halley cuenta con una mejor rapidez ', fontsize=12)\n",
    "texto4 = text(5.1, -9, r' de orden de convergencia demostrando así que se estima más cerca de la raíz f(x)=0', fontsize=12)\n",
    "\n",
    "# Añado una malla al gráfico\n",
    "grid()\n",
    "\n",
    "title('Convergencia de Halley y Newton')\n",
    "xlabel('x')\n",
    "ylabel('y')\n",
    "show()"
   ]
  },
  {
   "cell_type": "markdown",
   "metadata": {},
   "source": [
    "## 2.4. Análisis del error de Halley\n",
    "como cualquier otro método es importante hacer un bosquejo de los errores cometidos al fin de poder estimar un mejor valor, entonces continuaremos a evaluar el error del método de Halley.\n",
    "\n",
    "Continuamos a poner las librerías a usar se estima más cerca de la raíz\n"
   ]
  },
  {
   "cell_type": "code",
   "execution_count": 39,
   "metadata": {},
   "outputs": [],
   "source": [
    "from __future__ import division"
   ]
  },
  {
   "cell_type": "markdown",
   "metadata": {},
   "source": [
    "Primer punto comenzaremos a evaluar el error de forma general y así mismo vamos a ver la tendencia del error en una gráfica lineal.\n",
    "\n",
    "Importemos las librerías a utilizar.\n"
   ]
  },
  {
   "cell_type": "code",
   "execution_count": 40,
   "metadata": {},
   "outputs": [],
   "source": [
    "%matplotlib inline\n",
    "from numpy import linspace\n",
    "import matplotlib.pyplot as plt\n",
    "import math\n",
    "from math import exp, sqrt, sin, cos, pi\n",
    "from matplotlib import pyplot as plt\n",
    "import numpy as np"
   ]
  },
  {
   "cell_type": "code",
   "execution_count": 41,
   "metadata": {},
   "outputs": [
    {
     "name": "stdout",
     "output_type": "stream",
     "text": [
      "0.5\n",
      "0.8729677361865782\n",
      "1.0286997633054566\n"
     ]
    }
   ],
   "source": [
    "#algoritmo para encontrar el error\n",
    "lista=[]\n",
    "p0=0\n",
    "p=p0\n",
    "for i in [*range(0, int(float(pi)))]:                       #ciclo for para tomar encuenta el intervalo [0,pi]\n",
    "        p = p-2*f(p)*df(p)/2*df(p)**2-f(p)*d2f(p)           #formula general de Halley\n",
    "        lista.append(p)\n",
    "        print (p)"
   ]
  },
  {
   "cell_type": "code",
   "execution_count": 42,
   "metadata": {},
   "outputs": [
    {
     "data": {
      "image/png": "[encoded data removed]",
      "text/plain": [
       "<Figure size 432x288 with 1 Axes>"
      ]
     },
     "metadata": {
      "needs_background": "light"
     },
     "output_type": "display_data"
    }
   ],
   "source": [
    "#Graficando el error del método\n",
    "error=[]\n",
    "for i in [*range(0, int(float(pi)))]:\n",
    "    error.append(lista[i]-(-.2))\n",
    "fig = plt.figure()\n",
    "axes = fig.add_axes([0.1,0.1,0.8, 0.8])\n",
    "\n",
    "axes.plot(lista ,error, 'r')\n",
    "axes.set_xlabel('iter')\n",
    "axes.set_ylabel('error de la solucion')\n",
    "axes.set_title('Grafica del error')\n",
    "axes.grid('on')"
   ]
  },
  {
   "cell_type": "markdown",
   "metadata": {},
   "source": [
    "### Análisis del error del ejercicio práctico 1\n",
    "A continuación, presentaremos un análisis del error más detallado mejorando dicho error aproximándolo y así lograremos ver si el resultado está dentro del nivel aceptable\n",
    "definimos las variables a utilizar, donde:\n",
    "- iter : número de iteraciones máximas\n",
    "- p0: valor inicial\n"
   ]
  },
  {
   "cell_type": "code",
   "execution_count": 43,
   "metadata": {},
   "outputs": [],
   "source": [
    "iter=pi\n",
    "p0=0\n",
    "listahalley=[]"
   ]
  },
  {
   "cell_type": "code",
   "execution_count": 44,
   "metadata": {},
   "outputs": [],
   "source": [
    "#algoritmo para encontrar error de Halley\n",
    "def error(f,p0):\n",
    "    lista=[]\n",
    "    p0=0\n",
    "    p=p0\n",
    "    for i in [*range(0, int(float(iter)))]:\n",
    "        p = p-2*f(p)*df(p)/2*df(p)**2-f(p)*d2f(p)\n",
    "        lista.append(p)\n",
    "    print (p)"
   ]
  },
  {
   "cell_type": "code",
   "execution_count": 45,
   "metadata": {},
   "outputs": [
    {
     "name": "stdout",
     "output_type": "stream",
     "text": [
      "1.0286997633054566\n"
     ]
    }
   ],
   "source": [
    "error(f,0)"
   ]
  },
  {
   "cell_type": "markdown",
   "metadata": {},
   "source": [
    "Ahora continuaremos a sacar los tipos de error que el método de Halley puede presentar:\n",
    "Como tenemos un proceso iterativo el error esta normalizado a un valor aproximado por tanto el error relativo porcentual $\\xi_{a}$ se define así:\n",
    "\n",
    "$$\\xi_{a}= \\frac{error aproximado*valor aproximado}{valor aproximado}*100%$$\n",
    "\n",
    "llamando al error aproximado y valor aproximado"
   ]
  },
  {
   "cell_type": "code",
   "execution_count": 46,
   "metadata": {},
   "outputs": [
    {
     "name": "stdout",
     "output_type": "stream",
     "text": [
      "1.0286997633054566\n"
     ]
    }
   ],
   "source": [
    "error(f,0) #error aproximado"
   ]
  },
  {
   "cell_type": "code",
   "execution_count": 47,
   "metadata": {},
   "outputs": [
    {
     "name": "stdout",
     "output_type": "stream",
     "text": [
      "╒═════╤══════════╤═══════════╤══════════╤════════════════════╕\n",
      "│   n │       pn │     f(pn) │   f'(pn) │ error              │\n",
      "╞═════╪══════════╪═══════════╪══════════╪════════════════════╡\n",
      "│   0 │ 0        │ -0.5      │ 0        │ -                  │\n",
      "├─────┼──────────┼───────────┼──────────┼────────────────────┤\n",
      "│   1 │ 0.5      │ -0.377583 │ 0.479426 │ 0.5                │\n",
      "├─────┼──────────┼───────────┼──────────┼────────────────────┤\n",
      "│   2 │ 0.872968 │ -0.142555 │ 0.766239 │ 0.3729677361865782 │\n",
      "╘═════╧══════════╧═══════════╧══════════╧════════════════════╛\n"
     ]
    },
    {
     "data": {
      "text/plain": [
       "1.0286997633054566"
      ]
     },
     "execution_count": 47,
     "metadata": {},
     "output_type": "execute_result"
    }
   ],
   "source": [
    "halley(f,0) #valor aproximado"
   ]
  },
  {
   "cell_type": "code",
   "execution_count": 48,
   "metadata": {},
   "outputs": [
    {
     "name": "stdout",
     "output_type": "stream",
     "text": [
      "el error porcentual es: 0.02869976330545665\n"
     ]
    }
   ],
   "source": [
    "#definamos variables\n",
    "erroraprox=1.0286997633054566\n",
    "valoraprox=1.0286997633054566\n",
    "f=g\n",
    "\n",
    "g=abs((erroraprox-valoraprox/valoraprox)*1)\n",
    "print(\"el error porcentual es:\", g)\n"
   ]
  },
  {
   "cell_type": "markdown",
   "metadata": {},
   "source": [
    "Ahora bien, nos importa que el valor absoluto porcentual sea menor que una tolerancia porcentual prefijada, la cual la definimos así:\n",
    "\n",
    "$$|\\xi_{a}|<\\xi_{s}$$\n",
    "\n",
    "si se cumple esta relación, entonces se considera que el resultado obtenido está dentro del nivel aceptable fijado previamente.\n"
   ]
  },
  {
   "cell_type": "code",
   "execution_count": 49,
   "metadata": {},
   "outputs": [
    {
     "name": "stdout",
     "output_type": "stream",
     "text": [
      "EL valor absoluto porcentual es menor\n"
     ]
    }
   ],
   "source": [
    "#definamos la relación\n",
    "Ea=0.02869976330545665\n",
    "Es=10**(-9)\n",
    "\n",
    "if Ea <= Es:\n",
    "    print(\"EL valor absoluto porcentual es mayor\")\n",
    "else:\n",
    "    print(\"EL valor absoluto porcentual es menor\")\n",
    "    "
   ]
  },
  {
   "cell_type": "markdown",
   "metadata": {},
   "source": [
    "<font color=\"green\">Por tanto el resultado obtenido está dentro del nivel aceptable, concluyendo así que el método nos permite aproximar el error.</font>"
   ]
  },
  {
   "cell_type": "markdown",
   "metadata": {},
   "source": [
    "## 2.5. Análisis de Eficiencia\n",
    "Para sacar la eficiencia para un método $p>1$ en el que cada iteración necesita r evaluaciones de dicha función o derivadas se considera la siguiente formula\n",
    "$$\\xi(p,r) = p^{1/r}$$\n",
    "\n",
    "también podemos considerar que cuando mayor sea la eficiencia de un método, mejor es el método. así mismo cuando está más cerca $X_{o}$ de la raíz, mayor será la eficiencia del método. Por lo tanto, la eficiencia y la convergencia están relacionadas entre sí, sabemos que Halley tiene un orden convergencia cúbico, por tanto:\n",
    "$$\\xi(3,3) = 3^{1/3}\\succeq 1.4422$$\n"
   ]
  },
  {
   "cell_type": "code",
   "execution_count": 50,
   "metadata": {},
   "outputs": [
    {
     "name": "stdout",
     "output_type": "stream",
     "text": [
      "Eficiencia del método: 1.4422495703074083\n"
     ]
    }
   ],
   "source": [
    "#codificando formula de eficiencia de halley\n",
    "x=3\n",
    "y=3\n",
    "p=3\n",
    "g=p**(1/y)\n",
    "print(\"Eficiencia del método:\",g)"
   ]
  },
  {
   "cell_type": "markdown",
   "metadata": {},
   "source": [
    "## 2.6 Implementación 2 para funciones\n",
    "\n",
    "Sigamos probando el método de Halley para funciones racionales, ahora probemos este método para el siguiente ejercicio donde la función es continua en todo su dominio, para este desarrollo tomaremos en cuenta el siguiente ejercicio práctico.\n",
    "\n",
    "### Ejemplo práctico 2\n",
    "Encontrar mediante el método de Halley la raíz de la función $f(x)=log(t)+cos(4∗t)$ con una tolerancia de 1x10−9 para el error absoluto, tal que x ∈ [1,2] definimos la función y el intervalo inicial\n"
   ]
  },
  {
   "cell_type": "code",
   "execution_count": 51,
   "metadata": {},
   "outputs": [],
   "source": [
    "# importar todas las funciones de pylab\n",
    "from pylab import *\n",
    "# importar el módulo pyplot\n",
    "import matplotlib.pyplot as plt\n",
    "import math\n",
    "from math import exp, sqrt, sin, cos, log\n",
    "\n"
   ]
  },
  {
   "cell_type": "code",
   "execution_count": 52,
   "metadata": {},
   "outputs": [
    {
     "data": {
      "image/png": "[encoded data removed]",
      "text/plain": [
       "<Figure size 432x288 with 1 Axes>"
      ]
     },
     "metadata": {
      "needs_background": "light"
     },
     "output_type": "display_data"
    }
   ],
   "source": [
    "from math import *\n",
    "from numpy import *\n",
    "from matplotlib import pyplot\n",
    "t = arange(1, 5)\n",
    "# Establecer el color de los ejes.\n",
    "pyplot.axhline(0, color=\"black\")\n",
    "pyplot.axvline(0, color=\"black\")\n",
    "\n",
    "y1 = log(t) + cos(4*t)\n",
    "p1 = plot(t, y1)\n",
    "\n",
    "# Texto en la gráfica en coordenadas (x,y)\n",
    "texto1 = text(1, 0.5, r'$log(x)+cos(4*x)$', fontsize=15)\n",
    "# Añado una malla al gráfico\n",
    "grid()\n",
    "\n",
    "title('Grafica ejemplo practico 2')\n",
    "xlabel('x')\n",
    "ylabel('y')\n",
    "show()"
   ]
  },
  {
   "cell_type": "markdown",
   "metadata": {},
   "source": [
    "Definamos nuestra función, primera y segunda derivada."
   ]
  },
  {
   "cell_type": "code",
   "execution_count": 53,
   "metadata": {},
   "outputs": [],
   "source": [
    "#función del ejercicio \n",
    "def f(t):\n",
    "    return log(t)+cos(4*t)\n",
    "\n",
    "#primera derivada de la función\n",
    "\n",
    "def df(t):\n",
    "    return 1/t-4*sin(4*t)\n",
    "\n",
    "#segunda derivada de la función\n",
    "\n",
    "def d2f(t):\n",
    "    return -1/(t**2)-16*cos(4*t)"
   ]
  },
  {
   "cell_type": "code",
   "execution_count": 54,
   "metadata": {},
   "outputs": [
    {
     "data": {
      "text/plain": [
       "(-0.6536436208636119, 0.5476471467513317)"
      ]
     },
     "execution_count": 54,
     "metadata": {},
     "output_type": "execute_result"
    }
   ],
   "source": [
    " f(1), f(2)"
   ]
  },
  {
   "cell_type": "markdown",
   "metadata": {},
   "source": [
    "Definamos variables donde:\n",
    "- __iter:__ número de iteraciones máximas\n",
    "- __tol:__ tolerancia \n",
    "- __p0:__ valor inicial\n",
    "- __listahalley:__ lista para representar el número de iteraciones\n",
    "\n",
    "para __iter__ y __p0__ haremos uso de nuestro intervalo de $[1,4]$"
   ]
  },
  {
   "cell_type": "code",
   "execution_count": 55,
   "metadata": {},
   "outputs": [],
   "source": [
    "iter=2\n",
    "tol=10**(-9)\n",
    "p0=-1\n",
    "listahalley=[]"
   ]
  },
  {
   "cell_type": "markdown",
   "metadata": {},
   "source": [
    "Presentando el logaritmo de Halley - para la realización del ejercicio anterior presentaremos sus valores por medio de tabulaciones."
   ]
  },
  {
   "cell_type": "code",
   "execution_count": 56,
   "metadata": {},
   "outputs": [],
   "source": [
    "#algoritmo de halley\n",
    "def halley(f,p0):                         #definiendo la función Halley\n",
    "    p=p0                                 #sobredefiniendo p0\n",
    "    lista=[]                             #definiendo lista simple\n",
    "    pp=\"-\"                              \n",
    "    error=\"-\"\n",
    "    for i in [*range(int(float(-1))),(iter)]:   #ciclo for para tomar encuenta el intervalo [0,pi]\n",
    "        lista.append([i,p,f(p),df(p),error]) \n",
    "        listahalley.append(p)\n",
    "        pp=p\n",
    "        p=abs(p-2*f(p)*df(p)/2*df(p)**2-f(p)*d2f(p)) #formula de halley\n",
    "        errorA=abs(p-pp)                        #encontrar el error de halley\n",
    "        if p!=0:                                #iteraciones hasta encontrar 0\n",
    "            errorB=abs(p-pp)/p\n",
    "        errorC=abs(f(p))\n",
    "        error=errorA\n",
    "        if error<tol:                          #parar hasta que error sea menor que la tolerancia\n",
    "            break                                 \n",
    "    print(tabulate(lista,headers=[\"n\",\"pn\",\"f(pn)\",\"f'(pn)\",\"error\"],tablefmt='fancy_grid')) #imprimiendo resultados en tabulaciones\n",
    "    return abs(p)"
   ]
  },
  {
   "cell_type": "markdown",
   "metadata": {},
   "source": [
    "Ya teniendo el logaritmo de Halley procederemos a llamar la función para presentar los valores en tabulaciones. \n",
    "<font color=\"green\"> para ello solo necesitaremos la respectiva función halley con f = función y 0 = el valor inicial x0</font>"
   ]
  },
  {
   "cell_type": "code",
   "execution_count": 57,
   "metadata": {},
   "outputs": [
    {
     "name": "stdout",
     "output_type": "stream",
     "text": [
      "╒═════╤══════╤══════════╤══════════╤═════════╕\n",
      "│   n │   pn │    f(pn) │   f'(pn) │ error   │\n",
      "╞═════╪══════╪══════════╪══════════╪═════════╡\n",
      "│   2 │  0.5 │ -1.10929 │ -1.63719 │ -       │\n",
      "╘═════╧══════╧══════════╧══════════╧═════════╛\n"
     ]
    },
    {
     "data": {
      "text/plain": [
       "1.4190317932828824"
      ]
     },
     "execution_count": 57,
     "metadata": {},
     "output_type": "execute_result"
    }
   ],
   "source": [
    "halley(f,0.5)"
   ]
  },
  {
   "cell_type": "markdown",
   "metadata": {},
   "source": [
    "### Calculando el error del ejercicio anterior"
   ]
  },
  {
   "cell_type": "code",
   "execution_count": 58,
   "metadata": {},
   "outputs": [],
   "source": [
    "iter=2\n",
    "p0=0.5\n",
    "listahalley=[]"
   ]
  },
  {
   "cell_type": "code",
   "execution_count": 59,
   "metadata": {},
   "outputs": [],
   "source": [
    "#algoritmo para encontrar error de halley\n",
    "def error(f,p0):\n",
    "    lista=[]\n",
    "    p0=0.5\n",
    "    p=p0\n",
    "    for i in [*range(int(float(-1))),(iter)]:\n",
    "        p = abs(p-2*f(p)*df(p)/2*df(p)**2-f(p)*d2f(p))\n",
    "        lista.append(p)\n",
    "    print (p)"
   ]
  },
  {
   "cell_type": "code",
   "execution_count": 60,
   "metadata": {},
   "outputs": [
    {
     "name": "stdout",
     "output_type": "stream",
     "text": [
      "1.4190317932828824\n"
     ]
    }
   ],
   "source": [
    "error(f,0.5) "
   ]
  },
  {
   "cell_type": "markdown",
   "metadata": {},
   "source": [
    "Calculando el error relativo porcentual $\\xi_{a}$ se define así:\n",
    "\n",
    "$$\\xi_{a}= \\frac{error aproximado*valor aproximado}{valor aproximado}*100%$$\n",
    "\n",
    "llamando al error aproximado y valor aproximado"
   ]
  },
  {
   "cell_type": "code",
   "execution_count": 61,
   "metadata": {},
   "outputs": [
    {
     "name": "stdout",
     "output_type": "stream",
     "text": [
      "1.4190317932828824\n"
     ]
    }
   ],
   "source": [
    "error(f,0.5) #error aproximado"
   ]
  },
  {
   "cell_type": "code",
   "execution_count": 62,
   "metadata": {},
   "outputs": [
    {
     "name": "stdout",
     "output_type": "stream",
     "text": [
      "╒═════╤══════╤══════════╤══════════╤═════════╕\n",
      "│   n │   pn │    f(pn) │   f'(pn) │ error   │\n",
      "╞═════╪══════╪══════════╪══════════╪═════════╡\n",
      "│   2 │  0.5 │ -1.10929 │ -1.63719 │ -       │\n",
      "╘═════╧══════╧══════════╧══════════╧═════════╛\n"
     ]
    },
    {
     "data": {
      "text/plain": [
       "1.4190317932828824"
      ]
     },
     "execution_count": 62,
     "metadata": {},
     "output_type": "execute_result"
    }
   ],
   "source": [
    "halley(f,0.5) #valor aproximado"
   ]
  },
  {
   "cell_type": "code",
   "execution_count": 63,
   "metadata": {},
   "outputs": [
    {
     "name": "stdout",
     "output_type": "stream",
     "text": [
      "el error porcentual es: 0.4190317932828824\n",
      "EL valor absoluto porcentual es menor\n"
     ]
    }
   ],
   "source": [
    "#definamos variables\n",
    "erroraprox=1.4190317932828824   #error aproximado\n",
    "valoraprox=1.4190317932828824   #valor aproximado\n",
    "f=g\n",
    "g=abs((erroraprox-valoraprox/valoraprox)*1)  #formula para encontrar el error \n",
    "print(\"el error porcentual es:\", g)\n",
    "#definamos la relación\n",
    "Ea=g\n",
    "Es=10**(-9)     #comparando si el error porcentual es menor al tol\n",
    "if Ea <= Es:\n",
    "    print(\"EL valor absoluto porcentual es mayor\")\n",
    "else:\n",
    "    print(\"EL valor absoluto porcentual es menor\")"
   ]
  },
  {
   "cell_type": "markdown",
   "metadata": {},
   "source": [
    "<font color=\"green\" >Deduciendo que el error para este ejemplo está dentro del nivel aceptable"
   ]
  },
  {
   "cell_type": "markdown",
   "metadata": {},
   "source": [
    "### 2.7. Ejercicio de aplicación de Halley"
   ]
  },
  {
   "cell_type": "code",
   "execution_count": 64,
   "metadata": {},
   "outputs": [],
   "source": [
    "import math\n",
    "from math import exp, sqrt, sin, cos, pi, asin"
   ]
  },
  {
   "cell_type": "code",
   "execution_count": 65,
   "metadata": {},
   "outputs": [],
   "source": [
    "from PIL import Image \n",
    "import numpy as np\n",
    "from matplotlib import pyplot as plt"
   ]
  },
  {
   "cell_type": "markdown",
   "metadata": {},
   "source": [
    "Para determinar el volumen $V$ de un tanque $L$ cuya sección transversal es un semicírculo de radio r. se usa la formula:\n",
    "\n",
    "$$V = L*[ \\frac{\\pi*r^2}{2}-r^2*arcsin(\\frac{h}{r})-h*\\sqrt{r^2-h^2} ]$$\n",
    "\n",
    "![Tanque de Agua](https://encrypted-tbn0.gstatic.com/images?q=tbn:ANd9GcRBLS4cMzEvX0n6K3VPslylV9gKBmP2NZnUinFvNkyu4piSmSs29QUqjijsqUZlF44zpLs&usqp=CAU)\n"
   ]
  },
  {
   "cell_type": "markdown",
   "metadata": {},
   "source": [
    "sí $V = 12.4 m^2$, $L = 10m$ y $r = 1m$. Probar que existe un $h \\in (0,1)$ tal que satisface la ecuación anterior. luego encontrar el valor de profundidad del agua, usando el método de Halley con $e_{s} = 0.5$%\n",
    "\n",
    "<font color=\"green\">EVALUANDO:\n",
    "    "
   ]
  },
  {
   "cell_type": "markdown",
   "metadata": {},
   "source": [
    "Definiendo variables a utilizar"
   ]
  },
  {
   "cell_type": "code",
   "execution_count": 66,
   "metadata": {},
   "outputs": [],
   "source": [
    "#valor inicial\n",
    "p0=0.2\n",
    "#valor de la función \n",
    "def f(p): \n",
    "    return -0.665208\n",
    "#primera derivada de la función\n",
    "def df(p):\n",
    "    return -19.5959\n",
    "#segunda derivada de la función\n",
    "def d2f(p):\n",
    "    return 4.08248  \n",
    "iter=1\n",
    "listahalley=[] #definiendo lista simple\n",
    "tol=5*10**-2"
   ]
  },
  {
   "cell_type": "markdown",
   "metadata": {},
   "source": [
    "Ahora con la siguiente formula encontraremos los valores de $f(x),f'(x),f''(x)$ tomando en cuenta que $x0=0.2$\n",
    "\n",
    "$$x_{n+1}= x_{n}-\\frac{f(x_{n})}{f'(x_{n})} *[1-\\frac{f(x_{n})}{f'(x_{n})}*\\frac{f''(x_{n})}{2*f'(x_{n})}]^{-1}$$\n"
   ]
  },
  {
   "cell_type": "code",
   "execution_count": 67,
   "metadata": {},
   "outputs": [],
   "source": [
    "#algoritmo de halley\n",
    "def halley(f,p0):                         #definiendo la función halley                               \n",
    "    lista=[]                             #definiendo lista simple\n",
    "    p=p0                                 #sobredefiniendo p0\n",
    "    pp=\"-\"                              \n",
    "    error=\"-\"\n",
    "    for i in [*range(0, int(float(iter)))]:   #ciclo for para tomar encuenta el intervalo [0,1]\n",
    "        lista.append([i,p,f(p),df(p),d2f(p),error]) \n",
    "        listahalley.append(p)\n",
    "        pp=p\n",
    "        p=p0-f(p)*df(p)*(1-((f(p)/df(p))*(d2f(p)/(2*df(p)))))**-1     #formula de halley\n",
    "        errorA=abs(p-pp)                        #encontrar el error de halley\n",
    "        if p!=0:                                #iteraciones hasta encontrar 0\n",
    "            errorB=abs(p-pp)/p\n",
    "        errorC=abs(f(p))\n",
    "        error=errorA\n",
    "        if error<tol:                          #parar hasta que error sea menor que la tolerancia\n",
    "            break                                 \n",
    "    print(tabulate(lista,headers=[\"n\",\"pn\",\"f(pn)\",\"f'(pn)\",\"f''(pn)\",\"error\"],tablefmt='fancy_grid')) #imprimiendo resultados en tabulaciones\n",
    "    "
   ]
  },
  {
   "cell_type": "code",
   "execution_count": 68,
   "metadata": {},
   "outputs": [
    {
     "name": "stdout",
     "output_type": "stream",
     "text": [
      "╒═════╤══════╤═══════════╤══════════╤═══════════╤═════════╕\n",
      "│   n │   pn │     f(pn) │   f'(pn) │   f''(pn) │ error   │\n",
      "╞═════╪══════╪═══════════╪══════════╪═══════════╪═════════╡\n",
      "│   0 │  0.2 │ -0.665208 │ -19.5959 │   4.08248 │ -       │\n",
      "╘═════╧══════╧═══════════╧══════════╧═══════════╧═════════╛\n"
     ]
    }
   ],
   "source": [
    "halley(f,0.2)"
   ]
  },
  {
   "cell_type": "markdown",
   "metadata": {},
   "source": [
    "Dados los resultados tenemos:\n",
    "- $x_{n} = 0.2)$\n",
    "- $f(x_{n}) = -0.665208)$ \n",
    "- $f'(x_{n}) = -19.5959)$\n",
    "- $f''(x_{n}) = 4.08248)$\n"
   ]
  },
  {
   "cell_type": "markdown",
   "metadata": {},
   "source": [
    "Sabemos que si tenemos un valor inicial lo bastante próximo a la raíz se puede construir una hipérbola tangente a la gráfica f(x) hasta su segundo orden, cruzando así con el eje x asumiendo esta nuestra primera iteración y así se repite el proceso hasta el criterio de la parada.\n",
    "\n",
    "muy bien utilicemos la siguiente formula:\n",
    "\n",
    "\n",
    "$$x_{n+1}= x_{n}-\\frac{f(x_{n})}{f'(x_{n})} *[1-\\frac{f(x_{n})}{f'(x_{n})}*\\frac{f''(x_{n})}{2*f'(x_{n})}]^{-1}$$"
   ]
  },
  {
   "cell_type": "markdown",
   "metadata": {},
   "source": [
    "Ahora bien, ya tomando en cuenta lo anterior procedimos a evaluar la solución iterativa tomando en cuenta para dos iteraciones.\n",
    "- donde $x_{n+1} = h$\n",
    "\n",
    "$$x_{n+1}= h = 0.2-\\frac{-0.665208)}{-19.5959)} *[1-\\frac{-0.665208}{-19.5959}*\\frac{4.08248)}{2*-19.5959)}]^{-1}$$\n",
    "\n",
    "$$x_{n+1}= h = 0.166173$$\n",
    "\n",
    "<font color=\"green\" >__Gracias a sustituir los valores podemos decir que h siendo la raíz aproximada nos da un valor de $h=0.166173$ procedemos a sacar la profundidad total__"
   ]
  },
  {
   "cell_type": "markdown",
   "metadata": {},
   "source": [
    "### Sacando Profundidad total\n",
    "$$profundidad = r - h$$\n",
    "donde \n",
    "- r = radio que en este caso es 1 y h = raíz aproximada \n",
    "\n",
    "<font color=\"green\">__la profundad tiene un resultado de =  0.833827__\n",
    "\n"
   ]
  },
  {
   "cell_type": "markdown",
   "metadata": {},
   "source": [
    " ### solución por algoritmo"
   ]
  },
  {
   "cell_type": "code",
   "execution_count": 69,
   "metadata": {},
   "outputs": [
    {
     "name": "stdout",
     "output_type": "stream",
     "text": [
      "es valor de h es  0.16617332886410618 metros\n",
      "La profundidad total del tanque es:  0.8338266711358938\n"
     ]
    }
   ],
   "source": [
    "#algoritmo de Halley encontrando h y su profundidad\n",
    "r=1\n",
    "\n",
    "#valor inicial\n",
    "p0=0.2\n",
    "#valor de la función \n",
    "fp= -0.665208\n",
    "#primera derivada de la función\n",
    "dfp = -19.5959\n",
    "#segunda derivada de la función\n",
    "d2fp = 4.08248 \n",
    "f=g\n",
    "g=p0-fp/dfp*(1-((fp/dfp)*(d2fp/(2*dfp))))**-1     #formula de halley\n",
    "print (\"es valor de h es \", g , \"metros\")  #imprimiendo valor de h\n",
    "#evaluando profundidad \n",
    "f=p\n",
    "p= r-g\n",
    "print(\"La profundidad total del tanque es: \",p) #imprimiendo profundidad total\n",
    "            "
   ]
  }
 ],
 "metadata": {
  "kernelspec": {
   "display_name": "Python 3 (ipykernel)",
   "language": "python",
   "name": "python3"
  },
  "language_info": {
   "codemirror_mode": {
    "name": "ipython",
    "version": 3
   },
   "file_extension": ".py",
   "mimetype": "text/x-python",
   "name": "python",
   "nbconvert_exporter": "python",
   "pygments_lexer": "ipython3",
   "version": "3.10.4"
  }
 },
 "nbformat": 4,
 "nbformat_minor": 4
}
